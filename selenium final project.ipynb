{
 "cells": [
  {
   "cell_type": "code",
   "execution_count": 1,
   "id": "577a40d6",
   "metadata": {},
   "outputs": [
    {
     "name": "stdout",
     "output_type": "stream",
     "text": [
      "Collecting selenium\n",
      "  Downloading selenium-3.141.0-py2.py3-none-any.whl (904 kB)\n",
      "Requirement already satisfied: urllib3 in c:\\users\\lenovo\\anaconda3\\lib\\site-packages (from selenium) (1.26.4)\n",
      "Installing collected packages: selenium\n",
      "Successfully installed selenium-3.141.0\n"
     ]
    }
   ],
   "source": [
    "!pip install selenium"
   ]
  },
  {
   "cell_type": "code",
   "execution_count": 1,
   "id": "6a022b89",
   "metadata": {},
   "outputs": [],
   "source": [
    "import selenium\n",
    "import pandas as pd\n",
    "from selenium import webdriver"
   ]
  },
  {
   "cell_type": "code",
   "execution_count": 2,
   "id": "98df8ba6",
   "metadata": {},
   "outputs": [],
   "source": [
    "driver = webdriver.Chrome(\"chromedriver.exe\")"
   ]
  },
  {
   "cell_type": "markdown",
   "id": "babc412c",
   "metadata": {},
   "source": [
    "Q.NO.1 Write a python program to scrape data for “Data Analyst” Job position in “Bangalore” location. You have to scrape the job-title, job-location, company_name, experience_required."
   ]
  },
  {
   "cell_type": "code",
   "execution_count": 14,
   "id": "f824ec44",
   "metadata": {},
   "outputs": [],
   "source": [
    "url = 'http://www.naukri.com/'\n",
    "driver.get(url)"
   ]
  },
  {
   "cell_type": "code",
   "execution_count": 6,
   "id": "661dc3bd",
   "metadata": {},
   "outputs": [
    {
     "data": {
      "text/plain": [
       "<selenium.webdriver.remote.webelement.WebElement (session=\"d78da89c0e0971b6a3f89d6dd6b38ce9\", element=\"9badd5c5-09e4-4ba9-815d-d891dbe4725d\")>"
      ]
     },
     "execution_count": 6,
     "metadata": {},
     "output_type": "execute_result"
    }
   ],
   "source": [
    "search_job = driver.find_element_by_id('qsb-keyword-sugg')\n",
    "search_job"
   ]
  },
  {
   "cell_type": "code",
   "execution_count": 7,
   "id": "6f658869",
   "metadata": {},
   "outputs": [],
   "source": [
    "search_job.send_keys(\"Data Scientist\")"
   ]
  },
  {
   "cell_type": "code",
   "execution_count": 8,
   "id": "5f6cae15",
   "metadata": {},
   "outputs": [
    {
     "data": {
      "text/plain": [
       "<selenium.webdriver.remote.webelement.WebElement (session=\"d78da89c0e0971b6a3f89d6dd6b38ce9\", element=\"9badd5c5-09e4-4ba9-815d-d891dbe4725d\")>"
      ]
     },
     "execution_count": 8,
     "metadata": {},
     "output_type": "execute_result"
    }
   ],
   "source": [
    "search_job = driver.find_element_by_xpath('//input[@class=\"sugInp\"]')\n",
    "search_job"
   ]
  },
  {
   "cell_type": "code",
   "execution_count": 10,
   "id": "9b8c8905",
   "metadata": {},
   "outputs": [],
   "source": [
    "search_loc = driver.find_element_by_id(\"qsb-location-sugg\")\n",
    "search_loc.send_keys(\"Bangalore\")"
   ]
  },
  {
   "cell_type": "code",
   "execution_count": 11,
   "id": "fb319b64",
   "metadata": {},
   "outputs": [
    {
     "data": {
      "text/plain": [
       "<selenium.webdriver.remote.webelement.WebElement (session=\"d78da89c0e0971b6a3f89d6dd6b38ce9\", element=\"36882269-47c3-4db2-b94d-08a2c1731e50\")>"
      ]
     },
     "execution_count": 11,
     "metadata": {},
     "output_type": "execute_result"
    }
   ],
   "source": [
    "search_btn = driver.find_element_by_xpath(\"//button[@class='btn']\")\n",
    "search_btn"
   ]
  },
  {
   "cell_type": "code",
   "execution_count": 12,
   "id": "1a9e0fbb",
   "metadata": {},
   "outputs": [],
   "source": [
    "search_btn.click()"
   ]
  },
  {
   "cell_type": "code",
   "execution_count": 16,
   "id": "22b875da",
   "metadata": {},
   "outputs": [
    {
     "data": {
      "text/plain": [
       "[<selenium.webdriver.remote.webelement.WebElement (session=\"0cb8e54a283e1f1013be2eb1fa0a2c77\", element=\"0e8654f1-c1f5-4b94-943f-da9e182acec4\")>,\n",
       " <selenium.webdriver.remote.webelement.WebElement (session=\"0cb8e54a283e1f1013be2eb1fa0a2c77\", element=\"778473f9-97fd-496f-8c7e-7e09639f717a\")>,\n",
       " <selenium.webdriver.remote.webelement.WebElement (session=\"0cb8e54a283e1f1013be2eb1fa0a2c77\", element=\"0d5c4e3b-f60c-412d-8e19-75d0385178ec\")>,\n",
       " <selenium.webdriver.remote.webelement.WebElement (session=\"0cb8e54a283e1f1013be2eb1fa0a2c77\", element=\"c757ed38-0b43-49a7-ae8a-3a1244c9a061\")>,\n",
       " <selenium.webdriver.remote.webelement.WebElement (session=\"0cb8e54a283e1f1013be2eb1fa0a2c77\", element=\"6d336bc9-fba1-4ea7-b54f-770f7c89ff42\")>,\n",
       " <selenium.webdriver.remote.webelement.WebElement (session=\"0cb8e54a283e1f1013be2eb1fa0a2c77\", element=\"5fa84073-af0a-4faa-aaf3-ae79f3ca84b3\")>,\n",
       " <selenium.webdriver.remote.webelement.WebElement (session=\"0cb8e54a283e1f1013be2eb1fa0a2c77\", element=\"112809eb-4a64-4d06-81a2-e703703b273f\")>,\n",
       " <selenium.webdriver.remote.webelement.WebElement (session=\"0cb8e54a283e1f1013be2eb1fa0a2c77\", element=\"40b04dee-d280-4a5c-a74d-ffe9b8b466e4\")>,\n",
       " <selenium.webdriver.remote.webelement.WebElement (session=\"0cb8e54a283e1f1013be2eb1fa0a2c77\", element=\"95c042c1-06d0-4f78-9134-9ee89016ad1b\")>,\n",
       " <selenium.webdriver.remote.webelement.WebElement (session=\"0cb8e54a283e1f1013be2eb1fa0a2c77\", element=\"f72ccdef-7fa9-4cd6-a88d-94310117035a\")>,\n",
       " <selenium.webdriver.remote.webelement.WebElement (session=\"0cb8e54a283e1f1013be2eb1fa0a2c77\", element=\"5ea97a64-7a6c-42aa-b161-e7697c641813\")>,\n",
       " <selenium.webdriver.remote.webelement.WebElement (session=\"0cb8e54a283e1f1013be2eb1fa0a2c77\", element=\"68dbab90-1acc-4d80-afa9-aab84367ba36\")>,\n",
       " <selenium.webdriver.remote.webelement.WebElement (session=\"0cb8e54a283e1f1013be2eb1fa0a2c77\", element=\"6c0cfcc3-5bc4-485b-b3c2-5bcf441e5c25\")>,\n",
       " <selenium.webdriver.remote.webelement.WebElement (session=\"0cb8e54a283e1f1013be2eb1fa0a2c77\", element=\"c27a3064-83ba-461e-8bb0-0d7127a9d75f\")>,\n",
       " <selenium.webdriver.remote.webelement.WebElement (session=\"0cb8e54a283e1f1013be2eb1fa0a2c77\", element=\"ffdd39da-83ae-48e1-8cce-0b5797e67c9d\")>,\n",
       " <selenium.webdriver.remote.webelement.WebElement (session=\"0cb8e54a283e1f1013be2eb1fa0a2c77\", element=\"58d69387-f030-4d95-b8dd-64e6c21578cf\")>,\n",
       " <selenium.webdriver.remote.webelement.WebElement (session=\"0cb8e54a283e1f1013be2eb1fa0a2c77\", element=\"b1b70012-08d9-4cb6-8df3-1763122de8ae\")>,\n",
       " <selenium.webdriver.remote.webelement.WebElement (session=\"0cb8e54a283e1f1013be2eb1fa0a2c77\", element=\"347b1a09-700b-4508-93d5-cb0fb4c881e7\")>,\n",
       " <selenium.webdriver.remote.webelement.WebElement (session=\"0cb8e54a283e1f1013be2eb1fa0a2c77\", element=\"73ba9de8-e2ba-4136-a446-a4e2a2365c69\")>,\n",
       " <selenium.webdriver.remote.webelement.WebElement (session=\"0cb8e54a283e1f1013be2eb1fa0a2c77\", element=\"f10ac049-2c36-42dd-be0c-6b15c667a825\")>]"
      ]
     },
     "execution_count": 16,
     "metadata": {},
     "output_type": "execute_result"
    }
   ],
   "source": [
    "# lets extract all the tags having the job-titles\n",
    "titles_tags=driver.find_elements_by_xpath(\"//a[@class='title fw500 ellipsis']\")\n",
    "titles_tags"
   ]
  },
  {
   "cell_type": "code",
   "execution_count": 60,
   "id": "51c2e1ef",
   "metadata": {},
   "outputs": [
    {
     "data": {
      "text/plain": [
       "['Senior Data Scientist',\n",
       " 'Senior Data Scientist',\n",
       " 'Senior Data Scientist',\n",
       " 'Senior Data Scientist',\n",
       " 'DATA SCIENTIST',\n",
       " 'Sr. Data Scientist / Tech Lead - Data Science',\n",
       " 'Senior Data Scientist',\n",
       " 'Data Engineers , Data Scientist and SAP',\n",
       " 'Python - Data Scientist',\n",
       " 'Western Digital Data Scientist 3']"
      ]
     },
     "execution_count": 60,
     "metadata": {},
     "output_type": "execute_result"
    }
   ],
   "source": [
    "# text of the job title.\n",
    "job_titles=[]\n",
    "for i in titles_tags[:10]:\n",
    "    job_titles.append(i.text)\n",
    "job_titles"
   ]
  },
  {
   "cell_type": "code",
   "execution_count": 84,
   "id": "f4837f22",
   "metadata": {},
   "outputs": [
    {
     "data": {
      "text/plain": [
       "[<selenium.webdriver.remote.webelement.WebElement (session=\"0cb8e54a283e1f1013be2eb1fa0a2c77\", element=\"85decf11-ca91-434f-b1b4-515f66d82224\")>,\n",
       " <selenium.webdriver.remote.webelement.WebElement (session=\"0cb8e54a283e1f1013be2eb1fa0a2c77\", element=\"8c3a4020-fc42-40ad-b49c-3ea484600a62\")>,\n",
       " <selenium.webdriver.remote.webelement.WebElement (session=\"0cb8e54a283e1f1013be2eb1fa0a2c77\", element=\"7824c070-7a55-4ae0-9052-7b21728cc5e6\")>,\n",
       " <selenium.webdriver.remote.webelement.WebElement (session=\"0cb8e54a283e1f1013be2eb1fa0a2c77\", element=\"2b52fa96-b564-405d-ac16-016ba39cb976\")>,\n",
       " <selenium.webdriver.remote.webelement.WebElement (session=\"0cb8e54a283e1f1013be2eb1fa0a2c77\", element=\"db452883-6d39-4579-aabc-9ed5128ecff5\")>,\n",
       " <selenium.webdriver.remote.webelement.WebElement (session=\"0cb8e54a283e1f1013be2eb1fa0a2c77\", element=\"c41e922f-524d-4d4a-a708-1ef0b6fb827f\")>,\n",
       " <selenium.webdriver.remote.webelement.WebElement (session=\"0cb8e54a283e1f1013be2eb1fa0a2c77\", element=\"bda5552a-87f4-445a-b2b9-1517bbc45e60\")>,\n",
       " <selenium.webdriver.remote.webelement.WebElement (session=\"0cb8e54a283e1f1013be2eb1fa0a2c77\", element=\"66c00d0c-3558-4222-aa4a-fad1d2d4e1dd\")>,\n",
       " <selenium.webdriver.remote.webelement.WebElement (session=\"0cb8e54a283e1f1013be2eb1fa0a2c77\", element=\"5bb4fe0d-81db-4bf6-83c4-214e7dd74a07\")>,\n",
       " <selenium.webdriver.remote.webelement.WebElement (session=\"0cb8e54a283e1f1013be2eb1fa0a2c77\", element=\"074056db-3c60-45ab-afda-bab50ce21e18\")>,\n",
       " <selenium.webdriver.remote.webelement.WebElement (session=\"0cb8e54a283e1f1013be2eb1fa0a2c77\", element=\"5c24e288-ebf4-41c2-9ad6-f8fbf490c19a\")>,\n",
       " <selenium.webdriver.remote.webelement.WebElement (session=\"0cb8e54a283e1f1013be2eb1fa0a2c77\", element=\"6e5d4341-70eb-4e21-bace-954d0d402cb9\")>,\n",
       " <selenium.webdriver.remote.webelement.WebElement (session=\"0cb8e54a283e1f1013be2eb1fa0a2c77\", element=\"b95ceaa2-ba80-4283-ac66-07dc8f25f82b\")>,\n",
       " <selenium.webdriver.remote.webelement.WebElement (session=\"0cb8e54a283e1f1013be2eb1fa0a2c77\", element=\"8d799447-3c5f-408d-aa98-a0e6279a09ca\")>,\n",
       " <selenium.webdriver.remote.webelement.WebElement (session=\"0cb8e54a283e1f1013be2eb1fa0a2c77\", element=\"55e95376-a4e7-4ae8-ba5d-6643d3e46a44\")>,\n",
       " <selenium.webdriver.remote.webelement.WebElement (session=\"0cb8e54a283e1f1013be2eb1fa0a2c77\", element=\"f13e55e7-05ae-485d-8f64-cb9c532cb1b6\")>,\n",
       " <selenium.webdriver.remote.webelement.WebElement (session=\"0cb8e54a283e1f1013be2eb1fa0a2c77\", element=\"20af5c44-9ea3-4c0d-84e0-a8c0c8a0e774\")>,\n",
       " <selenium.webdriver.remote.webelement.WebElement (session=\"0cb8e54a283e1f1013be2eb1fa0a2c77\", element=\"f5802f09-7981-4007-a9cd-0afa751e0116\")>,\n",
       " <selenium.webdriver.remote.webelement.WebElement (session=\"0cb8e54a283e1f1013be2eb1fa0a2c77\", element=\"5997c679-db0c-418b-8a4b-8ce066fe5ac7\")>,\n",
       " <selenium.webdriver.remote.webelement.WebElement (session=\"0cb8e54a283e1f1013be2eb1fa0a2c77\", element=\"9f71b44d-fffb-4fcb-a06a-359859343e0f\")>]"
      ]
     },
     "execution_count": 84,
     "metadata": {},
     "output_type": "execute_result"
    }
   ],
   "source": [
    "locations_tags=driver.find_elements_by_xpath(\"//li[@class='fleft grey-text br2 placeHolderLi location']\")\n",
    "locations_tags"
   ]
  },
  {
   "cell_type": "code",
   "execution_count": 85,
   "id": "02e341d1",
   "metadata": {},
   "outputs": [
    {
     "data": {
      "text/plain": [
       "['Bangalore/Bengaluru',\n",
       " 'Bangalore/Bengaluru',\n",
       " 'Bangalore/Bengaluru',\n",
       " 'New Delhi, Bangalore/Bengaluru, Delhi / NCR\\n(WFH during Covid)',\n",
       " 'Bangalore/Bengaluru',\n",
       " 'Bangalore/Bengaluru',\n",
       " 'Bangalore/Bengaluru',\n",
       " 'Bangalore/Bengaluru',\n",
       " 'Bangalore/Bengaluru',\n",
       " 'Bangalore/Bengaluru']"
      ]
     },
     "execution_count": 85,
     "metadata": {},
     "output_type": "execute_result"
    }
   ],
   "source": [
    "locations_list=[]\n",
    "for i in locations_tags[:10]:\n",
    "    locations_list.append(i.text)\n",
    "locations_list"
   ]
  },
  {
   "cell_type": "code",
   "execution_count": 18,
   "id": "22856a69",
   "metadata": {},
   "outputs": [
    {
     "data": {
      "text/plain": [
       "[<selenium.webdriver.remote.webelement.WebElement (session=\"0cb8e54a283e1f1013be2eb1fa0a2c77\", element=\"404792c8-1888-4c84-ab6b-89b5887d145f\")>,\n",
       " <selenium.webdriver.remote.webelement.WebElement (session=\"0cb8e54a283e1f1013be2eb1fa0a2c77\", element=\"3af9deaf-f851-46b7-9e37-df1823ffe3bd\")>,\n",
       " <selenium.webdriver.remote.webelement.WebElement (session=\"0cb8e54a283e1f1013be2eb1fa0a2c77\", element=\"2ec087dd-88d2-4904-bccf-ebc2071a99be\")>,\n",
       " <selenium.webdriver.remote.webelement.WebElement (session=\"0cb8e54a283e1f1013be2eb1fa0a2c77\", element=\"bb00779e-9b07-495b-bcec-b981205f8578\")>,\n",
       " <selenium.webdriver.remote.webelement.WebElement (session=\"0cb8e54a283e1f1013be2eb1fa0a2c77\", element=\"b1dec380-eaa6-4440-bd0b-d82a163a6a12\")>,\n",
       " <selenium.webdriver.remote.webelement.WebElement (session=\"0cb8e54a283e1f1013be2eb1fa0a2c77\", element=\"00b7be99-fd6f-4592-b1e2-f54ea6954b79\")>,\n",
       " <selenium.webdriver.remote.webelement.WebElement (session=\"0cb8e54a283e1f1013be2eb1fa0a2c77\", element=\"d97f9d72-4d58-4f6a-ace1-dab105013a43\")>,\n",
       " <selenium.webdriver.remote.webelement.WebElement (session=\"0cb8e54a283e1f1013be2eb1fa0a2c77\", element=\"bbe9e2f0-5c24-4f4d-9a66-cbc17848e408\")>,\n",
       " <selenium.webdriver.remote.webelement.WebElement (session=\"0cb8e54a283e1f1013be2eb1fa0a2c77\", element=\"9f599b3d-4eb1-4c27-895f-6b6ccde90ad7\")>,\n",
       " <selenium.webdriver.remote.webelement.WebElement (session=\"0cb8e54a283e1f1013be2eb1fa0a2c77\", element=\"8034acc2-246a-4b5e-aef1-d12d37cd1243\")>,\n",
       " <selenium.webdriver.remote.webelement.WebElement (session=\"0cb8e54a283e1f1013be2eb1fa0a2c77\", element=\"d4a3dccb-439c-420a-8c1f-f803ebef0d4b\")>,\n",
       " <selenium.webdriver.remote.webelement.WebElement (session=\"0cb8e54a283e1f1013be2eb1fa0a2c77\", element=\"d9975aaa-9914-4400-b502-4db0a1f16fb0\")>,\n",
       " <selenium.webdriver.remote.webelement.WebElement (session=\"0cb8e54a283e1f1013be2eb1fa0a2c77\", element=\"9edf6b3a-9c41-48ee-8b4b-33cff48d8677\")>,\n",
       " <selenium.webdriver.remote.webelement.WebElement (session=\"0cb8e54a283e1f1013be2eb1fa0a2c77\", element=\"67863118-74fa-4a82-b784-71bb9335f8a9\")>,\n",
       " <selenium.webdriver.remote.webelement.WebElement (session=\"0cb8e54a283e1f1013be2eb1fa0a2c77\", element=\"4b38d64a-3565-4d27-bdc0-0e71bf0e77cf\")>,\n",
       " <selenium.webdriver.remote.webelement.WebElement (session=\"0cb8e54a283e1f1013be2eb1fa0a2c77\", element=\"1c46e096-300c-4538-a6b1-394ba30d0643\")>,\n",
       " <selenium.webdriver.remote.webelement.WebElement (session=\"0cb8e54a283e1f1013be2eb1fa0a2c77\", element=\"8b34ac57-8681-4fda-963d-f5bbaacb3e0d\")>,\n",
       " <selenium.webdriver.remote.webelement.WebElement (session=\"0cb8e54a283e1f1013be2eb1fa0a2c77\", element=\"c2ba7bcf-d9c1-494a-a2cb-9d7f2cf10043\")>,\n",
       " <selenium.webdriver.remote.webelement.WebElement (session=\"0cb8e54a283e1f1013be2eb1fa0a2c77\", element=\"cfa11b43-1e60-478f-84ec-e109511f086a\")>,\n",
       " <selenium.webdriver.remote.webelement.WebElement (session=\"0cb8e54a283e1f1013be2eb1fa0a2c77\", element=\"4d107ca4-37bb-4ed7-b6de-4f504c57e488\")>]"
      ]
     },
     "execution_count": 18,
     "metadata": {},
     "output_type": "execute_result"
    }
   ],
   "source": [
    "# lets extract all the tags having the company names\n",
    "companies_tags=driver.find_elements_by_xpath(\"//a[@class='subTitle ellipsis fleft']\")\n",
    "companies_tags"
   ]
  },
  {
   "cell_type": "code",
   "execution_count": 63,
   "id": "8cba3171",
   "metadata": {},
   "outputs": [
    {
     "data": {
      "text/plain": [
       "['Datamatics Global Services Ltd',\n",
       " 'Publicis Groupe',\n",
       " 'Bidgely Technologies Private Limited',\n",
       " 'Goals 101 Data Solutions Pvt. Ltd.',\n",
       " 'McAfee Software (India) Pvt. Ltd',\n",
       " 'Confidential',\n",
       " 'RANDSTAD INDIA PVT LTD',\n",
       " 'Teamware Solutions',\n",
       " 'Mindtree Limited',\n",
       " 'Western Digital']"
      ]
     },
     "execution_count": 63,
     "metadata": {},
     "output_type": "execute_result"
    }
   ],
   "source": [
    "companies_names=[]\n",
    "for i in companies_tags[:10]:\n",
    "    companies_names.append(i.text)\n",
    "companies_names"
   ]
  },
  {
   "cell_type": "code",
   "execution_count": 68,
   "id": "78760c71",
   "metadata": {},
   "outputs": [
    {
     "data": {
      "text/plain": [
       "[<selenium.webdriver.remote.webelement.WebElement (session=\"0cb8e54a283e1f1013be2eb1fa0a2c77\", element=\"9d453a13-d211-4f10-bc3b-e1cd1664ca87\")>,\n",
       " <selenium.webdriver.remote.webelement.WebElement (session=\"0cb8e54a283e1f1013be2eb1fa0a2c77\", element=\"7ad041f6-de50-42ea-8df3-48c7da9d9efe\")>,\n",
       " <selenium.webdriver.remote.webelement.WebElement (session=\"0cb8e54a283e1f1013be2eb1fa0a2c77\", element=\"e27dde58-d59e-4289-bc06-cd619a27b543\")>,\n",
       " <selenium.webdriver.remote.webelement.WebElement (session=\"0cb8e54a283e1f1013be2eb1fa0a2c77\", element=\"dd738fe3-f700-42eb-a7ca-6342d5d142fa\")>,\n",
       " <selenium.webdriver.remote.webelement.WebElement (session=\"0cb8e54a283e1f1013be2eb1fa0a2c77\", element=\"2b276e39-7c5c-4f23-8f29-a96becb9ff34\")>,\n",
       " <selenium.webdriver.remote.webelement.WebElement (session=\"0cb8e54a283e1f1013be2eb1fa0a2c77\", element=\"7bc96efe-80c6-432a-aaa7-fc0dd035423b\")>,\n",
       " <selenium.webdriver.remote.webelement.WebElement (session=\"0cb8e54a283e1f1013be2eb1fa0a2c77\", element=\"cf9f60ba-7792-4eb1-b8d0-b19635663729\")>,\n",
       " <selenium.webdriver.remote.webelement.WebElement (session=\"0cb8e54a283e1f1013be2eb1fa0a2c77\", element=\"001b5f96-b61b-420d-90c5-a8faaebcce3c\")>,\n",
       " <selenium.webdriver.remote.webelement.WebElement (session=\"0cb8e54a283e1f1013be2eb1fa0a2c77\", element=\"03f3d2f4-b705-4346-82c3-9f66a918e12f\")>,\n",
       " <selenium.webdriver.remote.webelement.WebElement (session=\"0cb8e54a283e1f1013be2eb1fa0a2c77\", element=\"a44ed1fe-0f09-4630-906f-7af329e89aed\")>,\n",
       " <selenium.webdriver.remote.webelement.WebElement (session=\"0cb8e54a283e1f1013be2eb1fa0a2c77\", element=\"ca34bd17-b38c-42df-956c-a876a3c7ba8b\")>,\n",
       " <selenium.webdriver.remote.webelement.WebElement (session=\"0cb8e54a283e1f1013be2eb1fa0a2c77\", element=\"ac253999-ac04-4f51-9652-ed6f91a137ae\")>,\n",
       " <selenium.webdriver.remote.webelement.WebElement (session=\"0cb8e54a283e1f1013be2eb1fa0a2c77\", element=\"bd9c88a1-5430-41ef-a725-4e3402e08c94\")>,\n",
       " <selenium.webdriver.remote.webelement.WebElement (session=\"0cb8e54a283e1f1013be2eb1fa0a2c77\", element=\"3aee9bad-6319-42ad-b0e8-c6e7a77f4368\")>,\n",
       " <selenium.webdriver.remote.webelement.WebElement (session=\"0cb8e54a283e1f1013be2eb1fa0a2c77\", element=\"001309b8-5e7d-4d8e-b371-a796f4107a61\")>,\n",
       " <selenium.webdriver.remote.webelement.WebElement (session=\"0cb8e54a283e1f1013be2eb1fa0a2c77\", element=\"447d5178-b4b1-4f83-becc-6a3f5357db02\")>,\n",
       " <selenium.webdriver.remote.webelement.WebElement (session=\"0cb8e54a283e1f1013be2eb1fa0a2c77\", element=\"80bf8db2-5cdb-4cd9-aa7e-3e66eebaa479\")>,\n",
       " <selenium.webdriver.remote.webelement.WebElement (session=\"0cb8e54a283e1f1013be2eb1fa0a2c77\", element=\"53d1079d-d805-48ec-aca0-8d331afbfcbf\")>,\n",
       " <selenium.webdriver.remote.webelement.WebElement (session=\"0cb8e54a283e1f1013be2eb1fa0a2c77\", element=\"edcbc9b1-10af-47d5-92df-8067b4a405e9\")>,\n",
       " <selenium.webdriver.remote.webelement.WebElement (session=\"0cb8e54a283e1f1013be2eb1fa0a2c77\", element=\"bd2b655a-435e-4b65-8cb2-3b90dea9780c\")>]"
      ]
     },
     "execution_count": 68,
     "metadata": {},
     "output_type": "execute_result"
    }
   ],
   "source": [
    "# lets extract all the tags having the experience required data\n",
    "experience_tags=driver.find_elements_by_xpath(\"//li[@class='fleft grey-text br2 placeHolderLi experience']\")\n",
    "experience_tags"
   ]
  },
  {
   "cell_type": "code",
   "execution_count": 70,
   "id": "43873da1",
   "metadata": {},
   "outputs": [
    {
     "data": {
      "text/plain": [
       "['8-13 Yrs',\n",
       " '2-5 Yrs',\n",
       " '4-6 Yrs',\n",
       " '4-8 Yrs',\n",
       " '4-8 Yrs',\n",
       " '6-9 Yrs',\n",
       " '4-9 Yrs',\n",
       " '7-10 Yrs',\n",
       " '3-5 Yrs',\n",
       " '4-5 Yrs']"
      ]
     },
     "execution_count": 70,
     "metadata": {},
     "output_type": "execute_result"
    }
   ],
   "source": [
    "experience_list=[]\n",
    "for i in experience_tags[:10]:\n",
    "    experience_list.append(i.text)\n",
    "experience_list"
   ]
  },
  {
   "cell_type": "code",
   "execution_count": 86,
   "id": "939ff94a",
   "metadata": {},
   "outputs": [
    {
     "name": "stdout",
     "output_type": "stream",
     "text": [
      "10 10 10 10\n"
     ]
    }
   ],
   "source": [
    "print(len(job_titles),len(companies_names),len(experience_list),len(locations_list))"
   ]
  },
  {
   "cell_type": "code",
   "execution_count": 87,
   "id": "32d570b7",
   "metadata": {},
   "outputs": [],
   "source": [
    "jobs=pd.DataFrame({})\n",
    "jobs['title']=job_titles\n",
    "jobs['company']=companies_names\n",
    "jobs['experience_required']=experience_list\n",
    "jobs['location']=locations_list"
   ]
  },
  {
   "cell_type": "code",
   "execution_count": 88,
   "id": "6c2c0fc7",
   "metadata": {},
   "outputs": [
    {
     "data": {
      "text/html": [
       "<div>\n",
       "<style scoped>\n",
       "    .dataframe tbody tr th:only-of-type {\n",
       "        vertical-align: middle;\n",
       "    }\n",
       "\n",
       "    .dataframe tbody tr th {\n",
       "        vertical-align: top;\n",
       "    }\n",
       "\n",
       "    .dataframe thead th {\n",
       "        text-align: right;\n",
       "    }\n",
       "</style>\n",
       "<table border=\"1\" class=\"dataframe\">\n",
       "  <thead>\n",
       "    <tr style=\"text-align: right;\">\n",
       "      <th></th>\n",
       "      <th>title</th>\n",
       "      <th>company</th>\n",
       "      <th>experience_required</th>\n",
       "      <th>location</th>\n",
       "    </tr>\n",
       "  </thead>\n",
       "  <tbody>\n",
       "    <tr>\n",
       "      <th>0</th>\n",
       "      <td>Senior Data Scientist</td>\n",
       "      <td>Datamatics Global Services Ltd</td>\n",
       "      <td>8-13 Yrs</td>\n",
       "      <td>Bangalore/Bengaluru</td>\n",
       "    </tr>\n",
       "    <tr>\n",
       "      <th>1</th>\n",
       "      <td>Senior Data Scientist</td>\n",
       "      <td>Publicis Groupe</td>\n",
       "      <td>2-5 Yrs</td>\n",
       "      <td>Bangalore/Bengaluru</td>\n",
       "    </tr>\n",
       "    <tr>\n",
       "      <th>2</th>\n",
       "      <td>Senior Data Scientist</td>\n",
       "      <td>Bidgely Technologies Private Limited</td>\n",
       "      <td>4-6 Yrs</td>\n",
       "      <td>Bangalore/Bengaluru</td>\n",
       "    </tr>\n",
       "    <tr>\n",
       "      <th>3</th>\n",
       "      <td>Senior Data Scientist</td>\n",
       "      <td>Goals 101 Data Solutions Pvt. Ltd.</td>\n",
       "      <td>4-8 Yrs</td>\n",
       "      <td>New Delhi, Bangalore/Bengaluru, Delhi / NCR\\n(...</td>\n",
       "    </tr>\n",
       "    <tr>\n",
       "      <th>4</th>\n",
       "      <td>DATA SCIENTIST</td>\n",
       "      <td>McAfee Software (India) Pvt. Ltd</td>\n",
       "      <td>4-8 Yrs</td>\n",
       "      <td>Bangalore/Bengaluru</td>\n",
       "    </tr>\n",
       "    <tr>\n",
       "      <th>5</th>\n",
       "      <td>Sr. Data Scientist / Tech Lead - Data Science</td>\n",
       "      <td>Confidential</td>\n",
       "      <td>6-9 Yrs</td>\n",
       "      <td>Bangalore/Bengaluru</td>\n",
       "    </tr>\n",
       "    <tr>\n",
       "      <th>6</th>\n",
       "      <td>Senior Data Scientist</td>\n",
       "      <td>RANDSTAD INDIA PVT LTD</td>\n",
       "      <td>4-9 Yrs</td>\n",
       "      <td>Bangalore/Bengaluru</td>\n",
       "    </tr>\n",
       "    <tr>\n",
       "      <th>7</th>\n",
       "      <td>Data Engineers , Data Scientist and SAP</td>\n",
       "      <td>Teamware Solutions</td>\n",
       "      <td>7-10 Yrs</td>\n",
       "      <td>Bangalore/Bengaluru</td>\n",
       "    </tr>\n",
       "    <tr>\n",
       "      <th>8</th>\n",
       "      <td>Python - Data Scientist</td>\n",
       "      <td>Mindtree Limited</td>\n",
       "      <td>3-5 Yrs</td>\n",
       "      <td>Bangalore/Bengaluru</td>\n",
       "    </tr>\n",
       "    <tr>\n",
       "      <th>9</th>\n",
       "      <td>Western Digital Data Scientist 3</td>\n",
       "      <td>Western Digital</td>\n",
       "      <td>4-5 Yrs</td>\n",
       "      <td>Bangalore/Bengaluru</td>\n",
       "    </tr>\n",
       "  </tbody>\n",
       "</table>\n",
       "</div>"
      ],
      "text/plain": [
       "                                           title  \\\n",
       "0                          Senior Data Scientist   \n",
       "1                          Senior Data Scientist   \n",
       "2                          Senior Data Scientist   \n",
       "3                          Senior Data Scientist   \n",
       "4                                 DATA SCIENTIST   \n",
       "5  Sr. Data Scientist / Tech Lead - Data Science   \n",
       "6                          Senior Data Scientist   \n",
       "7        Data Engineers , Data Scientist and SAP   \n",
       "8                        Python - Data Scientist   \n",
       "9               Western Digital Data Scientist 3   \n",
       "\n",
       "                                company experience_required  \\\n",
       "0        Datamatics Global Services Ltd            8-13 Yrs   \n",
       "1                       Publicis Groupe             2-5 Yrs   \n",
       "2  Bidgely Technologies Private Limited             4-6 Yrs   \n",
       "3    Goals 101 Data Solutions Pvt. Ltd.             4-8 Yrs   \n",
       "4      McAfee Software (India) Pvt. Ltd             4-8 Yrs   \n",
       "5                          Confidential             6-9 Yrs   \n",
       "6                RANDSTAD INDIA PVT LTD             4-9 Yrs   \n",
       "7                    Teamware Solutions            7-10 Yrs   \n",
       "8                      Mindtree Limited             3-5 Yrs   \n",
       "9                       Western Digital             4-5 Yrs   \n",
       "\n",
       "                                            location  \n",
       "0                                Bangalore/Bengaluru  \n",
       "1                                Bangalore/Bengaluru  \n",
       "2                                Bangalore/Bengaluru  \n",
       "3  New Delhi, Bangalore/Bengaluru, Delhi / NCR\\n(...  \n",
       "4                                Bangalore/Bengaluru  \n",
       "5                                Bangalore/Bengaluru  \n",
       "6                                Bangalore/Bengaluru  \n",
       "7                                Bangalore/Bengaluru  \n",
       "8                                Bangalore/Bengaluru  \n",
       "9                                Bangalore/Bengaluru  "
      ]
     },
     "execution_count": 88,
     "metadata": {},
     "output_type": "execute_result"
    }
   ],
   "source": [
    "jobs"
   ]
  },
  {
   "cell_type": "markdown",
   "id": "f907a50a",
   "metadata": {},
   "source": [
    "Q2: Write a python program to scrape data for “Data Scientist” Job position in “Bangalore” location. You have to scrape the job-title, job-location, company_name, full job-description."
   ]
  },
  {
   "cell_type": "code",
   "execution_count": 39,
   "id": "c17032bf",
   "metadata": {},
   "outputs": [],
   "source": [
    "url = 'http://www.naukri.com/'\n",
    "driver.get(url)"
   ]
  },
  {
   "cell_type": "code",
   "execution_count": 40,
   "id": "22b1df12",
   "metadata": {},
   "outputs": [
    {
     "data": {
      "text/plain": [
       "<selenium.webdriver.remote.webelement.WebElement (session=\"0cb8e54a283e1f1013be2eb1fa0a2c77\", element=\"743800d4-fbb7-4103-86f7-22677799931c\")>"
      ]
     },
     "execution_count": 40,
     "metadata": {},
     "output_type": "execute_result"
    }
   ],
   "source": [
    "search_job = driver.find_element_by_id('qsb-keyword-sugg')\n",
    "search_job"
   ]
  },
  {
   "cell_type": "code",
   "execution_count": 41,
   "id": "164af2e7",
   "metadata": {},
   "outputs": [],
   "source": [
    "search_job.send_keys(\"Data Scientist\")"
   ]
  },
  {
   "cell_type": "code",
   "execution_count": 42,
   "id": "0d7d2459",
   "metadata": {},
   "outputs": [
    {
     "data": {
      "text/plain": [
       "<selenium.webdriver.remote.webelement.WebElement (session=\"0cb8e54a283e1f1013be2eb1fa0a2c77\", element=\"743800d4-fbb7-4103-86f7-22677799931c\")>"
      ]
     },
     "execution_count": 42,
     "metadata": {},
     "output_type": "execute_result"
    }
   ],
   "source": [
    "search_job = driver.find_element_by_xpath('//input[@class=\"sugInp\"]')\n",
    "search_job"
   ]
  },
  {
   "cell_type": "code",
   "execution_count": 43,
   "id": "10cd47ea",
   "metadata": {},
   "outputs": [],
   "source": [
    "search_loc = driver.find_element_by_id(\"qsb-location-sugg\")\n",
    "search_loc.send_keys(\"Bangalore\")"
   ]
  },
  {
   "cell_type": "code",
   "execution_count": 44,
   "id": "9e4aed99",
   "metadata": {},
   "outputs": [
    {
     "data": {
      "text/plain": [
       "<selenium.webdriver.remote.webelement.WebElement (session=\"0cb8e54a283e1f1013be2eb1fa0a2c77\", element=\"fa934f25-4ebc-4305-8131-ec7ba14f296c\")>"
      ]
     },
     "execution_count": 44,
     "metadata": {},
     "output_type": "execute_result"
    }
   ],
   "source": [
    "search_btn = driver.find_element_by_xpath(\"//button[@class='btn']\")\n",
    "search_btn"
   ]
  },
  {
   "cell_type": "code",
   "execution_count": 45,
   "id": "33953df6",
   "metadata": {},
   "outputs": [],
   "source": [
    "search_btn.click()"
   ]
  },
  {
   "cell_type": "code",
   "execution_count": 82,
   "id": "e2ebab98",
   "metadata": {},
   "outputs": [
    {
     "data": {
      "text/plain": [
       "[<selenium.webdriver.remote.webelement.WebElement (session=\"0cb8e54a283e1f1013be2eb1fa0a2c77\", element=\"85decf11-ca91-434f-b1b4-515f66d82224\")>,\n",
       " <selenium.webdriver.remote.webelement.WebElement (session=\"0cb8e54a283e1f1013be2eb1fa0a2c77\", element=\"8c3a4020-fc42-40ad-b49c-3ea484600a62\")>,\n",
       " <selenium.webdriver.remote.webelement.WebElement (session=\"0cb8e54a283e1f1013be2eb1fa0a2c77\", element=\"7824c070-7a55-4ae0-9052-7b21728cc5e6\")>,\n",
       " <selenium.webdriver.remote.webelement.WebElement (session=\"0cb8e54a283e1f1013be2eb1fa0a2c77\", element=\"2b52fa96-b564-405d-ac16-016ba39cb976\")>,\n",
       " <selenium.webdriver.remote.webelement.WebElement (session=\"0cb8e54a283e1f1013be2eb1fa0a2c77\", element=\"db452883-6d39-4579-aabc-9ed5128ecff5\")>,\n",
       " <selenium.webdriver.remote.webelement.WebElement (session=\"0cb8e54a283e1f1013be2eb1fa0a2c77\", element=\"c41e922f-524d-4d4a-a708-1ef0b6fb827f\")>,\n",
       " <selenium.webdriver.remote.webelement.WebElement (session=\"0cb8e54a283e1f1013be2eb1fa0a2c77\", element=\"bda5552a-87f4-445a-b2b9-1517bbc45e60\")>,\n",
       " <selenium.webdriver.remote.webelement.WebElement (session=\"0cb8e54a283e1f1013be2eb1fa0a2c77\", element=\"66c00d0c-3558-4222-aa4a-fad1d2d4e1dd\")>,\n",
       " <selenium.webdriver.remote.webelement.WebElement (session=\"0cb8e54a283e1f1013be2eb1fa0a2c77\", element=\"5bb4fe0d-81db-4bf6-83c4-214e7dd74a07\")>,\n",
       " <selenium.webdriver.remote.webelement.WebElement (session=\"0cb8e54a283e1f1013be2eb1fa0a2c77\", element=\"074056db-3c60-45ab-afda-bab50ce21e18\")>,\n",
       " <selenium.webdriver.remote.webelement.WebElement (session=\"0cb8e54a283e1f1013be2eb1fa0a2c77\", element=\"5c24e288-ebf4-41c2-9ad6-f8fbf490c19a\")>,\n",
       " <selenium.webdriver.remote.webelement.WebElement (session=\"0cb8e54a283e1f1013be2eb1fa0a2c77\", element=\"6e5d4341-70eb-4e21-bace-954d0d402cb9\")>,\n",
       " <selenium.webdriver.remote.webelement.WebElement (session=\"0cb8e54a283e1f1013be2eb1fa0a2c77\", element=\"b95ceaa2-ba80-4283-ac66-07dc8f25f82b\")>,\n",
       " <selenium.webdriver.remote.webelement.WebElement (session=\"0cb8e54a283e1f1013be2eb1fa0a2c77\", element=\"8d799447-3c5f-408d-aa98-a0e6279a09ca\")>,\n",
       " <selenium.webdriver.remote.webelement.WebElement (session=\"0cb8e54a283e1f1013be2eb1fa0a2c77\", element=\"55e95376-a4e7-4ae8-ba5d-6643d3e46a44\")>,\n",
       " <selenium.webdriver.remote.webelement.WebElement (session=\"0cb8e54a283e1f1013be2eb1fa0a2c77\", element=\"f13e55e7-05ae-485d-8f64-cb9c532cb1b6\")>,\n",
       " <selenium.webdriver.remote.webelement.WebElement (session=\"0cb8e54a283e1f1013be2eb1fa0a2c77\", element=\"20af5c44-9ea3-4c0d-84e0-a8c0c8a0e774\")>,\n",
       " <selenium.webdriver.remote.webelement.WebElement (session=\"0cb8e54a283e1f1013be2eb1fa0a2c77\", element=\"f5802f09-7981-4007-a9cd-0afa751e0116\")>,\n",
       " <selenium.webdriver.remote.webelement.WebElement (session=\"0cb8e54a283e1f1013be2eb1fa0a2c77\", element=\"5997c679-db0c-418b-8a4b-8ce066fe5ac7\")>,\n",
       " <selenium.webdriver.remote.webelement.WebElement (session=\"0cb8e54a283e1f1013be2eb1fa0a2c77\", element=\"9f71b44d-fffb-4fcb-a06a-359859343e0f\")>]"
      ]
     },
     "execution_count": 82,
     "metadata": {},
     "output_type": "execute_result"
    }
   ],
   "source": [
    "locations_tags=driver.find_elements_by_xpath(\"//li[@class='fleft grey-text br2 placeHolderLi location']\")\n",
    "locations_tags"
   ]
  },
  {
   "cell_type": "code",
   "execution_count": 83,
   "id": "c8b92e7d",
   "metadata": {},
   "outputs": [
    {
     "data": {
      "text/plain": [
       "['Bangalore/Bengaluru',\n",
       " 'Bangalore/Bengaluru',\n",
       " 'Bangalore/Bengaluru',\n",
       " 'New Delhi, Bangalore/Bengaluru, Delhi / NCR\\n(WFH during Covid)',\n",
       " 'Bangalore/Bengaluru',\n",
       " 'Bangalore/Bengaluru',\n",
       " 'Bangalore/Bengaluru',\n",
       " 'Bangalore/Bengaluru',\n",
       " 'Bangalore/Bengaluru',\n",
       " 'Bangalore/Bengaluru']"
      ]
     },
     "execution_count": 83,
     "metadata": {},
     "output_type": "execute_result"
    }
   ],
   "source": [
    "locations_list=[]\n",
    "for i in locations_tags[:10]:\n",
    "    locations_list.append(i.text)\n",
    "locations_list"
   ]
  },
  {
   "cell_type": "code",
   "execution_count": 50,
   "id": "5dc4fccd",
   "metadata": {},
   "outputs": [
    {
     "data": {
      "text/plain": [
       "[<selenium.webdriver.remote.webelement.WebElement (session=\"0cb8e54a283e1f1013be2eb1fa0a2c77\", element=\"8acf27d2-fc88-48ea-b6cc-fdb295aad1ef\")>,\n",
       " <selenium.webdriver.remote.webelement.WebElement (session=\"0cb8e54a283e1f1013be2eb1fa0a2c77\", element=\"42bb923d-684b-4017-a067-e94daf3196bc\")>,\n",
       " <selenium.webdriver.remote.webelement.WebElement (session=\"0cb8e54a283e1f1013be2eb1fa0a2c77\", element=\"f2470a31-58f0-44cc-9b13-b09f653e90b2\")>,\n",
       " <selenium.webdriver.remote.webelement.WebElement (session=\"0cb8e54a283e1f1013be2eb1fa0a2c77\", element=\"ccc35300-0c52-4af4-bebe-e28ace47f238\")>,\n",
       " <selenium.webdriver.remote.webelement.WebElement (session=\"0cb8e54a283e1f1013be2eb1fa0a2c77\", element=\"4c21c230-e4c7-4cb9-9f2b-7bbcf42258d2\")>,\n",
       " <selenium.webdriver.remote.webelement.WebElement (session=\"0cb8e54a283e1f1013be2eb1fa0a2c77\", element=\"7964cb7e-245a-4f96-987e-193b2305f3a5\")>,\n",
       " <selenium.webdriver.remote.webelement.WebElement (session=\"0cb8e54a283e1f1013be2eb1fa0a2c77\", element=\"40434ac0-e94a-4002-b88f-2c24df89ade6\")>,\n",
       " <selenium.webdriver.remote.webelement.WebElement (session=\"0cb8e54a283e1f1013be2eb1fa0a2c77\", element=\"5337de84-e5c8-4796-8b05-80807b977cf3\")>,\n",
       " <selenium.webdriver.remote.webelement.WebElement (session=\"0cb8e54a283e1f1013be2eb1fa0a2c77\", element=\"885f1789-9fda-49fd-b1c5-8842fd7907b3\")>,\n",
       " <selenium.webdriver.remote.webelement.WebElement (session=\"0cb8e54a283e1f1013be2eb1fa0a2c77\", element=\"60a2ee89-ea08-441a-a54f-e75b7b3e888d\")>,\n",
       " <selenium.webdriver.remote.webelement.WebElement (session=\"0cb8e54a283e1f1013be2eb1fa0a2c77\", element=\"7810d8db-c31d-470e-87be-5e7873b771e8\")>,\n",
       " <selenium.webdriver.remote.webelement.WebElement (session=\"0cb8e54a283e1f1013be2eb1fa0a2c77\", element=\"0e0ac50e-0394-433b-9f43-12d99900c317\")>,\n",
       " <selenium.webdriver.remote.webelement.WebElement (session=\"0cb8e54a283e1f1013be2eb1fa0a2c77\", element=\"9ccd1c83-c7ea-4cd4-8a5b-c0683262ea54\")>,\n",
       " <selenium.webdriver.remote.webelement.WebElement (session=\"0cb8e54a283e1f1013be2eb1fa0a2c77\", element=\"1b3d51fc-13c0-488e-ad29-d0b77893f2b2\")>,\n",
       " <selenium.webdriver.remote.webelement.WebElement (session=\"0cb8e54a283e1f1013be2eb1fa0a2c77\", element=\"078af86f-8bc9-4d9a-bb02-f3c736f1ae11\")>,\n",
       " <selenium.webdriver.remote.webelement.WebElement (session=\"0cb8e54a283e1f1013be2eb1fa0a2c77\", element=\"67a8cc88-e89f-4468-af8e-730747beeb55\")>,\n",
       " <selenium.webdriver.remote.webelement.WebElement (session=\"0cb8e54a283e1f1013be2eb1fa0a2c77\", element=\"4a248144-80fc-4e68-a18c-05a6926ac6cf\")>,\n",
       " <selenium.webdriver.remote.webelement.WebElement (session=\"0cb8e54a283e1f1013be2eb1fa0a2c77\", element=\"f8b770b8-1044-4335-82dd-8a5ad92038f4\")>,\n",
       " <selenium.webdriver.remote.webelement.WebElement (session=\"0cb8e54a283e1f1013be2eb1fa0a2c77\", element=\"08980aff-f312-4201-a5e1-3836647709aa\")>,\n",
       " <selenium.webdriver.remote.webelement.WebElement (session=\"0cb8e54a283e1f1013be2eb1fa0a2c77\", element=\"094f8a15-c50d-48ef-9802-203a69c96d9b\")>]"
      ]
     },
     "execution_count": 50,
     "metadata": {},
     "output_type": "execute_result"
    }
   ],
   "source": [
    "# lets extract all the tags having the company names\n",
    "companies_tags=driver.find_elements_by_xpath(\"//a[@class='subTitle ellipsis fleft']\")\n",
    "companies_tags"
   ]
  },
  {
   "cell_type": "code",
   "execution_count": 56,
   "id": "893e8db6",
   "metadata": {},
   "outputs": [
    {
     "data": {
      "text/plain": [
       "['Datamatics Global Services Ltd',\n",
       " 'Publicis Groupe',\n",
       " 'Bidgely Technologies Private Limited',\n",
       " 'Goals 101 Data Solutions Pvt. Ltd.',\n",
       " 'McAfee Software (India) Pvt. Ltd',\n",
       " 'Confidential',\n",
       " 'RANDSTAD INDIA PVT LTD',\n",
       " 'Teamware Solutions',\n",
       " 'Mindtree Limited',\n",
       " 'Western Digital']"
      ]
     },
     "execution_count": 56,
     "metadata": {},
     "output_type": "execute_result"
    }
   ],
   "source": [
    "companies_names=[]\n",
    "for i in companies_tags[:10]:\n",
    "    companies_names.append(i.text)\n",
    "companies_names"
   ]
  },
  {
   "cell_type": "code",
   "execution_count": 95,
   "id": "f5d672e4",
   "metadata": {},
   "outputs": [
    {
     "data": {
      "text/plain": [
       "['https://www.naukri.com/job-listings-senior-data-scientist-datamatics-global-services-ltd-bangalore-bengaluru-8-to-13-years-040821003517?src=jobsearchDesk&sid=16281058193936317&xp=1&px=1',\n",
       " 'https://www.naukri.com/job-listings-senior-data-scientist-publicis-groupe-bangalore-bengaluru-2-to-5-years-030821501259?src=jobsearchDesk&sid=16281058193936317&xp=2&px=1',\n",
       " 'https://www.naukri.com/job-listings-senior-data-scientist-bidgely-technologies-private-limited-bangalore-bengaluru-4-to-6-years-030821500043?src=jobsearchDesk&sid=16281058193936317&xp=3&px=1',\n",
       " 'https://www.naukri.com/job-listings-senior-data-scientist-goals-101-data-solutions-pvt-ltd-new-delhi-bangalore-bengaluru-delhi-ncr-4-to-8-years-030821000870?src=jobsearchDesk&sid=16281058193936317&xp=4&px=1',\n",
       " 'https://www.naukri.com/job-listings-data-scientist-mcafee-software-india-pvt-ltd-bangalore-bengaluru-4-to-8-years-040821500539?src=jobsearchDesk&sid=16281058193936317&xp=5&px=1',\n",
       " 'https://www.naukri.com/job-listings-sr-data-scientist-tech-lead-data-science-confidential-bangalore-bengaluru-6-to-9-years-020821903704?src=jobsearchDesk&sid=16281058193936317&xp=6&px=1',\n",
       " 'https://www.naukri.com/job-listings-senior-data-scientist-randstad-india-pvt-ltd-bangalore-bengaluru-4-to-9-years-280721000424?src=jobsearchDesk&sid=16281058193936317&xp=7&px=1',\n",
       " 'https://www.naukri.com/job-listings-data-engineers-data-scientist-and-sap-teamware-solutions-bangalore-bengaluru-7-to-10-years-300721500677?src=jobsearchDesk&sid=16281058193936317&xp=8&px=1',\n",
       " 'https://www.naukri.com/job-listings-python-data-scientist-mindtree-limited-bangalore-bengaluru-3-to-5-years-040821500207?src=jobsearchDesk&sid=16281058193936317&xp=9&px=1',\n",
       " 'https://www.naukri.com/job-listings-western-digital-data-scientist-3-western-digital-bangalore-bengaluru-4-to-5-years-030821500726?src=jobsearchDesk&sid=16281058193936317&xp=10&px=1']"
      ]
     },
     "execution_count": 95,
     "metadata": {},
     "output_type": "execute_result"
    }
   ],
   "source": [
    "job_opening_urls = []\n",
    "for i in url[:10]:\n",
    "    job_opening_urls.append(i.get_attribute('href'))\n",
    "job_opening_urls"
   ]
  },
  {
   "cell_type": "code",
   "execution_count": 104,
   "id": "73e7c392",
   "metadata": {
    "scrolled": false
   },
   "outputs": [
    {
     "data": {
      "text/plain": [
       "['Roles and Responsibilities\\n\\nDetails in lined for Hiring Team to focus:\\nThe hiring is for a single Data Scientist (7-8+yrs) as he/she shall be an individual contributor.\\nWe shall seek for a strong java/python/scala with expertise into frameworks ML (spark/keras/tensorflow).\\nML concepts has to be thorough with proven expertise in ( Decision Trees, Random Forest, NLP) Deep Learning is excluded.\\nDesired Candidate Profile\\n\\n\\nPerks and Benefits',\n",
       " 'Work location: Bengaluru (Currently, Remote)\\nShift timing: 12PM to 9PM\\nWork with stakeholders throughout the organization to identify opportunities for leveraging company data to drive business solutions.\\nDevelop a use case roadmap for a problem area or capability for the business. Frame the business problem into a Data Science or modelling problem.\\nExtract data from multiple sources. Mine and analyze data from company databases to drive optimization and improvement of product.\\nWork as the data strategist, identifying and integrating new datasets that can be leveraged through our product capabilities and work closely with Client Support, Product Management and Engineering team to strategize and execute the development of data products.\\nProcessing, cleansing, and verifying the integrity of data used for analysis. Undertake preprocessing of structured and unstructured data.\\nData mining using state-of-the-art methods. Selecting features, building and optimizing classifiers using ML/AI techniques.\\nPresent technical solutions to internal and external stakeholders in a formal setting, effectively communicating key concepts and functionalities\\nEffectively manage client expectations via direct and frequent communication with high quality results\\nDevelop front end deliverable solutions for stakeholders utilizing BI tools such as Tableau, Cognos, Excel, or similar\\nWork on multiple assignments concurrently, while handling priorities and challenges and meeting timelines basis project plan and roadmap.\\nBuild self-service tools for error detection, diagnosis, and predictive metrics.\\nBuild project plans, maintain to-do list, organize work, follow coding ethics, and have an eye for detail\\n\\n\\nQualifications\\nBachelor s or Master s degree in a quantitative discipline (e.g., data science, statistics, economics, mathematics, computer science) or significant relevant coursework/experience\\n4+ years professional experience in the field of data science or business intelligence\\nDemonstrated proficiency in PYTHON/SCALA/SQL and BIG DATA technologies and the proven ability to program in big data/cloud technologies such as AWS SPARK; minimum 3 years of experience\\nExperienced with Machine Learning algorithms such as logistic regression, linear regression, lasso regression, k-means, random forest, XG boost, KNN, SVM and neural network; minimum 2 years of experience\\nAble to produce elaborate documents/narrative suggesting actionable insights and recommendations leveraging BI tools such as Tableau\\nExpertise with Microsoft Office products; including Excel, PowerPoint, Word\\nGreat communication skills. Excellent written and verbal communication skills for coordinating across teams.\\nSelf-driven and results oriented. Willing to stretch to meet tight timelines.\\nStrong team player with ability to collaborate effectively across geographies/ time zones\\nGood understanding of Digital Marketing, Campaign Measurement, Web Analytics\\nDesirable Qualifications:\\nProfessional experience working with R\\nProfessional experience working with Power BI, Cognos, Dash, Looker, Domo\\nProfessional experience in fraud analytics, customer journey, attribution modeling, churn modeling, predictive analytics, customer segmentation, feature creation, statistical testing, a/b testing, production curve modeling, NLP, and partner recommendations.\\nProfessional analytical consulting experience with clients in Retail, Finance, Travel, or Home and Business Services',\n",
       " 'Bidgely is looking for extraordinary and dynamic Data Scientists to be part of its core team in Bangalore. You must have delivered advanced statistical and machine learning models as part of commercial products and created substantial intellectual property with business impact. You must enjoy working with large data and finding interesting patterns in the data through analytics experiments in a methodical and data driven scientific way. Be part of a highly energetic and innovative team that believes nothing is impossible with some creativity and hard work.\\nResponsibilities\\nResearch and develop advanced statistical and machine learning models for analysis of large-scale, high-dimensional data.\\nDig deeper into data, understand characteristics of data, evaluate alternate models and validate hypothesis through theoretical and empirical approaches.\\nProductize proven or working models into production quality code.\\nCollaborate with product management, marketing and engineering teams in Business Units to elicit understand their requirements challenges and develop potential solutions\\nStay current with latest research and technology ideas; share knowledge by clearly articulating results and ideas to key decision makers.\\nFile patents for innovative solutions that add to company s IP portfolio\\nRequirements\\n4 to 6 years of strong experience in data mining, machine learning and statistical analysis.\\nBS/MS/PhD in Computer Science, Statistics, Applied Math, or related areas from Premier institutes (only IITs / IISc / BITS / Top NITs or top US university should apply)\\nExperience in productizing models to code in a fast-paced start-up environment.\\nExpertise in Python programming language and fluency in analytical tools such as Matlab, R, Weka etc.\\nStrong intuition for data and Keen aptitude on large scale data analysis\\nStrong communication and collaboration skills.',\n",
       " 'Roles and Responsibilities:\\n\\nWork as part of a product team in defining, prototyping and implementing data science models/algorithms as part of the product.\\nBe able to research and apply the latest Machine Learning architecture solutions that work for big data Batches and Streams.\\nBuild data expertise, act like an owner for the company and manage complex data systems for a product or a group of products.\\nDesigning, integrating and documenting technical components for data flows or applications that perform analysis at a massive scale.\\nAlong with project managers, own the business outcomes/metrics which the data science model/algorithm drives.\\nBuild large scale data systems that would work across multiple geographies\\nSolid understanding of the mathematics of ML - Probability, Statistics, Linear Algebra of Matrices, Modelling Hyperparameter tuning for speed of learning & model performance.\\nAbility to understand business concerns and formulate them as technical problems that can be solved using Data/Math/Stats/ML.\\nExperience working as part of a product team, along with engineers and product managers, to define the problem and execute the data science solution.\\n\\n\\nDesired Candidate Profile:\\n\\n4+ Years of Relevant Experience.\\nHands on experience of coding in Python and SQL (MySQL and Postgres)\\nHands-on experience of applying and tuning the following algos of data science in multiple verticles:\\nRecommendation Algos (Collaborative filtering, Content filtering (ALS etc.))\\nClassification and Regression Algos\\nMachine Learning Algos (XGBoost, Random Forest)\\nClustering Algos (KMeans)\\nDimensionality Reduction Algos (PCA)\\nExperience of coding in Pyspark and Scala\\nWorking knowledge of Airflow, Hadoop (HDFS) and Git\\nTuning of various performance matrix (for accuracy, precision, recall, F1 Score, AUC, ROC)\\nExperience in Deep Learning Algos (Neural Network)',\n",
       " '--',\n",
       " 'Role : Sr Data Scientist / Tech Lead - Data Science\\n\\nResponsibilities -\\nLead a team of data scientists, machine learning engineers and big data specialists\\nBe the main point of contact for the customers\\nLead data mining and collection procedures\\nEnsure data quality and integrity\\nInterpret and analyze data problems\\nConceive, plan and prioritize data projects\\nBuild analytic systems and predictive models\\nTest performance of data-driven products\\nVisualize data and create reports\\nExperiment with new models and techniques\\nAlign data projects with organizational goals\\n\\nRequirements (please read carefully)\\nVery strong in statistics fundamentals. Not all data is Big Data. The candidate should be able to derive statistical insights from very few data points if required, using traditional statistical methods.\\nEducation - no bar, but preferably from a Statistics academic background (eg MSc-Stats, MSc-Econometrics etc), given the first point. Any Relevant Graduate (BE/B Tech, MCA Prefer)\\nStrong expertise in Python (any other statistical languages/tools like R, SAS, SPSS etc are just optional, but Python is absolutely essential). If the person is very strong in Python, but has almost nil knowledge in the other statistical tools, he/she will still be considered a good candidate for this role.\\nProven experience as a Data Scientist or similar role, for about 7-8 years\\nSolid understanding of machine learning and AI concepts, especially wrt choice of apt candidate algorithms for a use case, and model evaluation.\\nGood expertise in writing SQL queries (should not be dependent upon anyone else for pulling in data, joining them, data wrangling etc)\\nKnowledge of data management and visualization techniques -- more from a Data Science perspective.\\nShould be able to grasp business problems, ask the right questions to better understand the problem breadthwise /depthwise, design apt solutions, and explain that to the business stakeholders.\\n\\nWork Experience Required: 6-9 yrs.',\n",
       " 'Roles and Responsibilities\\nJob Description\\nWhat You Will Do :Job Description: Senior Data Scientist\\nOur Analytics Services group has an open, full-time position in the Bangalore region for a Senior data scientist.  The senior data scientist will be working with our clients on new product development/ new solution development as well as improve on current solutions.\\nFunctional Responsibilities\\n        Develop strong statistical approaches to solution development. Candidate should be well versed in executing statistical models  on Regression, Ancova, Factor analysis, Cluster analysis, Text based mining, and similar modeling approaches.\\n        Evaluate model effectiveness and ability to translate the statistical requirements into excel based examples.\\nCandidate should be proficient in writing good code in Python, PySpark.\\n        Strong proficiency with manipulating big data with R , Python, SQL. A high comfort level with data manipulation and extraction of meaningful insights from large data and prior experience of working with large data is a plus. Experience with SAS is acceptable\\nCandidate should have good working knowledge on AI and ML and should have applied these techniques on some of their recent projects\\n        Being creative in identifying new techniques and processes to streamline and increase efficiency and effectiveness of current work-streams is a plus.\\n        High level of attention to detail and problem solving \\nProfessional requirement\\nPost graduate degree in Economics, MBA, Statistics, Mathematics, Operations Research, Quantitative Analysis, or related field\\n6-10 years of consolidated work experience in Analytic Industry.\\nStrong statistical and quantitative analysis skills. Knowledge of Statistical Analysis techniques which are used in Marketing analytics.\\nAdvanced knowledge of SQL and experience with statistical packages such as Python, Spark, PySpark, R. Experience with Oracles Exadata environment is a plus.\\nExcellent data interpretation skills. Experience in using charting/reporting\\nSkilled in MS-Office, specifically Excel and Powerpoint\\nShould have basic knowledge of market research & any specific knowledge on Retail and FMCG/CPG/Pharma industry will be an added advantage.\\nKnowledge on Retailer loyalty card data/Store transaction level data will be an added advantage.\\n\\n\\nDesired Candidate Profile\\nMust have skill: statistical modeling, pyspark, python\\nNP : we can accept max 60 days. 90 days NP please avoid',\n",
       " 'Dynamic recruiting professional with 7 - 10 years of high-performance tech recruiting experience with search firms and /or mid-large-sized technology companies.\\nExperience in engaging and hiring the best talent for Data Engineers, Data Scientist and SAP\\nOpen to learning from your peers managers, anything that helps you do your job better day in day out also often share best practices in hiring talent attraction strategies with them.\\nWork well with teams as also on your own as a high-impact individual contributor.\\nUse social media, job boards, Internet sourcing, and other technical means to source candidates for open jobs.\\nUnderstanding of modern recruiting methods like hackathons but are equally comfortable with old school methods as well.\\nWork with internal technology teams and hiring managers to assist with recruitment efforts across levels.\\nWork in sync with the company-wide recruitment strategy. This may include job posting optimization, recruiting marketing channel development, search selection using job boards, digital and non-digital employment marketing, comprehensive recruitment campaign planning, talent planning, stakeholder management, etc.\\nIdentify and source appropriate talent for current open roles within the organization using traditional non-traditional means of recruiting.\\nProactively develop talent pools/talent communities to dip into when hiring is in full swing.\\nManage the end-to-end recruitment process and life-cycle, including sourcing, initial assessments, telephonic personal interviews culminating in offers maintaining the appropriate MIS.',\n",
       " 'Basic Qualifications\\n3-5 years of hands-on experience in in data science, applied statistics, machine learning, data mining, statistical modeling tools and underlying algorithms 3-5 years of hands-on experience building production grade machine learning enabled solutions end to end.\\n3-5 years of experience in statistical modeling methods, time series, text mining, optimization, information retrieval\\n3-5 years hands-on experience using R, Python or and other languages appropriate for large scale analysis of numerical and textual data\\n3-5 years Hands-on experience using SQL and data mining\\nExperience with experiments, machine learning, deep learning, anomaly detection, predictive analysis, exploratory data analysis, and other areas of data science\\nExperience using large data systems Advanced data visualization experience\\nExperience in business, program and/or strategy planning Experience in business, program and/or strategy planning Experience in business, program and/or strategy planning.\\nJob Requirements:\\nPython, SQL, R Language, Machine Learning for Rules, AI Hub, Machine Learning Fundamentals, Machine Learning Application',\n",
       " 'Design, develop and maintain Machine Learning/ Analytics solution in production environments.\\nArchitect and design infrastructure for big data analytics on cloud or production ready Edge cases.\\nDesign and architect End-to-End platform/system for various business critical products.\\nOwn maintain any/all of the various components in projects - solution architecture design, build data pipelines, ETL and web applications.\\nInteract with customers to understand their analytics needs requirements for designing the product\\n\\n\\nQualifications\\nMinimum Qualification:\\nProgramming Exp: 4-5 years\\n3 or more years of experience in Data Science and scaling AI in areas like personalization, forecasting, experimentation, computer vision, etc.\\nAbility to develop models and algorithms independently, writing your own code, developing strategy for algorithmic experimentation, and deploying in production.\\nCoding experience with demonstrated expertise in at least one of the programming languages - Python, Java, R, etc.\\nKnowledge of AI/ML models, frameworks and libraries/packages/APIs (e.g., scikit).\\nExperience with both batch and streaming models in production.\\nExperience with Hadoop, AWS or other distributed compute services.\\nPreferred Qualifications:\\nMaster s degree or PHD in mathematics, statistics, physics, engineering, computer science\\nKnowledge of data structures, data modeling and software architecture skills.\\nKnowledge and ability to explain both the code and the underlying math used algorithms/models.\\nCross-functional collaboration skills.\\nAnalytical and problem solving skills.\\nCommunication skills, critical thinking, and strategic thinking skills above and beyond the technical knowledge and commercial implementation experience.\\n\\n\\n\\n ']"
      ]
     },
     "execution_count": 104,
     "metadata": {},
     "output_type": "execute_result"
    }
   ],
   "source": [
    "job_descriptions = []\n",
    "for i in job_opening_urls[:10]:\n",
    "    driver.get(i)\n",
    "    try:\n",
    "        job_description = driver.find_element_by_xpath(\"//div[@class='dang-inner-html']\")\n",
    "        job_descriptions.append(job_description.text)\n",
    "    except:\n",
    "        job_descriptions.append(\"--\")\n",
    "job_descriptions"
   ]
  },
  {
   "cell_type": "code",
   "execution_count": 127,
   "id": "ebabe322",
   "metadata": {},
   "outputs": [
    {
     "name": "stdout",
     "output_type": "stream",
     "text": [
      "10 10 10\n"
     ]
    }
   ],
   "source": [
    "print(len(companies_names),len(job_descriptions),len(locations_list))"
   ]
  },
  {
   "cell_type": "code",
   "execution_count": 128,
   "id": "455c5e8c",
   "metadata": {},
   "outputs": [],
   "source": [
    "jobs=pd.DataFrame({})\n",
    "\n",
    "jobs['company']=companies_names\n",
    "jobs['description_required']=job_descriptions\n",
    "jobs['location']=locations_list"
   ]
  },
  {
   "cell_type": "code",
   "execution_count": 129,
   "id": "dea73084",
   "metadata": {},
   "outputs": [
    {
     "data": {
      "text/html": [
       "<div>\n",
       "<style scoped>\n",
       "    .dataframe tbody tr th:only-of-type {\n",
       "        vertical-align: middle;\n",
       "    }\n",
       "\n",
       "    .dataframe tbody tr th {\n",
       "        vertical-align: top;\n",
       "    }\n",
       "\n",
       "    .dataframe thead th {\n",
       "        text-align: right;\n",
       "    }\n",
       "</style>\n",
       "<table border=\"1\" class=\"dataframe\">\n",
       "  <thead>\n",
       "    <tr style=\"text-align: right;\">\n",
       "      <th></th>\n",
       "      <th>company</th>\n",
       "      <th>description_required</th>\n",
       "      <th>location</th>\n",
       "    </tr>\n",
       "  </thead>\n",
       "  <tbody>\n",
       "    <tr>\n",
       "      <th>0</th>\n",
       "      <td>Datamatics Global Services Ltd</td>\n",
       "      <td>Roles and Responsibilities\\n\\nDetails in lined...</td>\n",
       "      <td>Bangalore/Bengaluru</td>\n",
       "    </tr>\n",
       "    <tr>\n",
       "      <th>1</th>\n",
       "      <td>Publicis Groupe</td>\n",
       "      <td>Work location: Bengaluru (Currently, Remote)\\n...</td>\n",
       "      <td>Bangalore/Bengaluru</td>\n",
       "    </tr>\n",
       "    <tr>\n",
       "      <th>2</th>\n",
       "      <td>Bidgely Technologies Private Limited</td>\n",
       "      <td>Bidgely is looking for extraordinary and dynam...</td>\n",
       "      <td>Bangalore/Bengaluru</td>\n",
       "    </tr>\n",
       "    <tr>\n",
       "      <th>3</th>\n",
       "      <td>Goals 101 Data Solutions Pvt. Ltd.</td>\n",
       "      <td>Roles and Responsibilities:\\n\\nWork as part of...</td>\n",
       "      <td>New Delhi, Bangalore/Bengaluru, Delhi / NCR\\n(...</td>\n",
       "    </tr>\n",
       "    <tr>\n",
       "      <th>4</th>\n",
       "      <td>McAfee Software (India) Pvt. Ltd</td>\n",
       "      <td>--</td>\n",
       "      <td>Bangalore/Bengaluru</td>\n",
       "    </tr>\n",
       "    <tr>\n",
       "      <th>5</th>\n",
       "      <td>Confidential</td>\n",
       "      <td>Role : Sr Data Scientist / Tech Lead - Data Sc...</td>\n",
       "      <td>Bangalore/Bengaluru</td>\n",
       "    </tr>\n",
       "    <tr>\n",
       "      <th>6</th>\n",
       "      <td>RANDSTAD INDIA PVT LTD</td>\n",
       "      <td>Roles and Responsibilities\\nJob Description\\nW...</td>\n",
       "      <td>Bangalore/Bengaluru</td>\n",
       "    </tr>\n",
       "    <tr>\n",
       "      <th>7</th>\n",
       "      <td>Teamware Solutions</td>\n",
       "      <td>Dynamic recruiting professional with 7 - 10 ye...</td>\n",
       "      <td>Bangalore/Bengaluru</td>\n",
       "    </tr>\n",
       "    <tr>\n",
       "      <th>8</th>\n",
       "      <td>Mindtree Limited</td>\n",
       "      <td>Basic Qualifications\\n3-5 years of hands-on ex...</td>\n",
       "      <td>Bangalore/Bengaluru</td>\n",
       "    </tr>\n",
       "    <tr>\n",
       "      <th>9</th>\n",
       "      <td>Western Digital</td>\n",
       "      <td>Design, develop and maintain Machine Learning/...</td>\n",
       "      <td>Bangalore/Bengaluru</td>\n",
       "    </tr>\n",
       "  </tbody>\n",
       "</table>\n",
       "</div>"
      ],
      "text/plain": [
       "                                company  \\\n",
       "0        Datamatics Global Services Ltd   \n",
       "1                       Publicis Groupe   \n",
       "2  Bidgely Technologies Private Limited   \n",
       "3    Goals 101 Data Solutions Pvt. Ltd.   \n",
       "4      McAfee Software (India) Pvt. Ltd   \n",
       "5                          Confidential   \n",
       "6                RANDSTAD INDIA PVT LTD   \n",
       "7                    Teamware Solutions   \n",
       "8                      Mindtree Limited   \n",
       "9                       Western Digital   \n",
       "\n",
       "                                description_required  \\\n",
       "0  Roles and Responsibilities\\n\\nDetails in lined...   \n",
       "1  Work location: Bengaluru (Currently, Remote)\\n...   \n",
       "2  Bidgely is looking for extraordinary and dynam...   \n",
       "3  Roles and Responsibilities:\\n\\nWork as part of...   \n",
       "4                                                 --   \n",
       "5  Role : Sr Data Scientist / Tech Lead - Data Sc...   \n",
       "6  Roles and Responsibilities\\nJob Description\\nW...   \n",
       "7  Dynamic recruiting professional with 7 - 10 ye...   \n",
       "8  Basic Qualifications\\n3-5 years of hands-on ex...   \n",
       "9  Design, develop and maintain Machine Learning/...   \n",
       "\n",
       "                                            location  \n",
       "0                                Bangalore/Bengaluru  \n",
       "1                                Bangalore/Bengaluru  \n",
       "2                                Bangalore/Bengaluru  \n",
       "3  New Delhi, Bangalore/Bengaluru, Delhi / NCR\\n(...  \n",
       "4                                Bangalore/Bengaluru  \n",
       "5                                Bangalore/Bengaluru  \n",
       "6                                Bangalore/Bengaluru  \n",
       "7                                Bangalore/Bengaluru  \n",
       "8                                Bangalore/Bengaluru  \n",
       "9                                Bangalore/Bengaluru  "
      ]
     },
     "execution_count": 129,
     "metadata": {},
     "output_type": "execute_result"
    }
   ],
   "source": [
    "jobs"
   ]
  },
  {
   "cell_type": "markdown",
   "id": "bca969ba",
   "metadata": {},
   "source": [
    "Q.No.3 In this question you have to scrape data using the filters available on the webpage as shown below:\n",
    "You have to scrape the job-title, job-location, company_name, experience_required.\n",
    "The location filter to be used is “Delhi/NCR”\n",
    "The salary filter to be used is “3-6” lakhs"
   ]
  },
  {
   "cell_type": "code",
   "execution_count": 130,
   "id": "0762a5a9",
   "metadata": {},
   "outputs": [],
   "source": [
    "url = 'http://www.naukri.com/'\n",
    "driver.get(url)"
   ]
  },
  {
   "cell_type": "code",
   "execution_count": 139,
   "id": "557b3312",
   "metadata": {},
   "outputs": [],
   "source": [
    "location_filter =driver.find_element_by_xpath('/html/body/div[1]/div[3]/div[2]/section[1]/div[2]/div[1]/div[2]/div[2]/label/p/span[1]')\n",
    "location_filter.click()                                             "
   ]
  },
  {
   "cell_type": "code",
   "execution_count": 140,
   "id": "1d69ba2f",
   "metadata": {},
   "outputs": [],
   "source": [
    "salary_filter = driver.find_element_by_xpath('/html/body/div[1]/div[3]/div[2]/section[1]/div[2]/div[2]/div[2]/div[2]/label/p/span[1]')\n",
    "salary_filter.click()"
   ]
  },
  {
   "cell_type": "code",
   "execution_count": 146,
   "id": "d1024d18",
   "metadata": {},
   "outputs": [
    {
     "data": {
      "text/plain": [
       "<selenium.webdriver.remote.webelement.WebElement (session=\"0cb8e54a283e1f1013be2eb1fa0a2c77\", element=\"ad546a07-6bc1-4ad5-b36f-b1c827f3ae00\")>"
      ]
     },
     "execution_count": 146,
     "metadata": {},
     "output_type": "execute_result"
    }
   ],
   "source": [
    "search_job = driver.find_element_by_xpath('/html/body/div[1]/div[3]/div[2]/section/div/form/div[1]/div/div/div/div[1]/div[2]/input')\n",
    "search_job"
   ]
  },
  {
   "cell_type": "code",
   "execution_count": 132,
   "id": "c8affa7a",
   "metadata": {},
   "outputs": [],
   "source": [
    "search_job.send_keys(\"Data Scientist\")"
   ]
  },
  {
   "cell_type": "code",
   "execution_count": 133,
   "id": "ae801f47",
   "metadata": {},
   "outputs": [
    {
     "data": {
      "text/plain": [
       "<selenium.webdriver.remote.webelement.WebElement (session=\"0cb8e54a283e1f1013be2eb1fa0a2c77\", element=\"05c33019-2108-4e87-ada0-bc79f432af78\")>"
      ]
     },
     "execution_count": 133,
     "metadata": {},
     "output_type": "execute_result"
    }
   ],
   "source": [
    "search_job = driver.find_element_by_xpath('//input[@class=\"sugInp\"]')\n",
    "search_job"
   ]
  },
  {
   "cell_type": "code",
   "execution_count": 134,
   "id": "f2526005",
   "metadata": {},
   "outputs": [],
   "source": [
    "search_loc = driver.find_element_by_id(\"qsb-location-sugg\")\n",
    "search_loc.send_keys(\"Delhi/NCR\")"
   ]
  },
  {
   "cell_type": "code",
   "execution_count": 135,
   "id": "61545a80",
   "metadata": {},
   "outputs": [
    {
     "data": {
      "text/plain": [
       "<selenium.webdriver.remote.webelement.WebElement (session=\"0cb8e54a283e1f1013be2eb1fa0a2c77\", element=\"156bf261-f2ad-4633-8268-d2da5b853e1a\")>"
      ]
     },
     "execution_count": 135,
     "metadata": {},
     "output_type": "execute_result"
    }
   ],
   "source": [
    "search_btn = driver.find_element_by_xpath(\"//button[@class='btn']\")\n",
    "search_btn"
   ]
  },
  {
   "cell_type": "code",
   "execution_count": 136,
   "id": "c6308665",
   "metadata": {},
   "outputs": [],
   "source": [
    "search_btn.click()"
   ]
  },
  {
   "cell_type": "code",
   "execution_count": 137,
   "id": "0de1f448",
   "metadata": {},
   "outputs": [
    {
     "data": {
      "text/plain": [
       "[<selenium.webdriver.remote.webelement.WebElement (session=\"0cb8e54a283e1f1013be2eb1fa0a2c77\", element=\"2e12cfb5-cf7e-4275-9bdb-3bb507e7cbb3\")>,\n",
       " <selenium.webdriver.remote.webelement.WebElement (session=\"0cb8e54a283e1f1013be2eb1fa0a2c77\", element=\"52f5bc71-92cf-4214-961e-ced2b3b00696\")>,\n",
       " <selenium.webdriver.remote.webelement.WebElement (session=\"0cb8e54a283e1f1013be2eb1fa0a2c77\", element=\"fd6d4032-786b-4a40-b781-32a268f22825\")>,\n",
       " <selenium.webdriver.remote.webelement.WebElement (session=\"0cb8e54a283e1f1013be2eb1fa0a2c77\", element=\"40a2a988-0e64-40ed-852b-df3f0d257669\")>,\n",
       " <selenium.webdriver.remote.webelement.WebElement (session=\"0cb8e54a283e1f1013be2eb1fa0a2c77\", element=\"4d2a508f-674d-4dd0-bed2-091cc83989e6\")>,\n",
       " <selenium.webdriver.remote.webelement.WebElement (session=\"0cb8e54a283e1f1013be2eb1fa0a2c77\", element=\"d66a8e9a-f1d1-488f-9df8-62c1656c5a2b\")>,\n",
       " <selenium.webdriver.remote.webelement.WebElement (session=\"0cb8e54a283e1f1013be2eb1fa0a2c77\", element=\"2dfb913f-d0ea-4466-ae2c-c0e72c061183\")>,\n",
       " <selenium.webdriver.remote.webelement.WebElement (session=\"0cb8e54a283e1f1013be2eb1fa0a2c77\", element=\"2df67b7b-093b-497b-8f7e-a0bec4729053\")>,\n",
       " <selenium.webdriver.remote.webelement.WebElement (session=\"0cb8e54a283e1f1013be2eb1fa0a2c77\", element=\"035a286f-5bfd-4685-b925-005901a4ab81\")>,\n",
       " <selenium.webdriver.remote.webelement.WebElement (session=\"0cb8e54a283e1f1013be2eb1fa0a2c77\", element=\"29b055b1-0dbd-4064-b5d2-ad2212556a8d\")>,\n",
       " <selenium.webdriver.remote.webelement.WebElement (session=\"0cb8e54a283e1f1013be2eb1fa0a2c77\", element=\"93bac822-83d2-4717-8371-fa41925f101c\")>,\n",
       " <selenium.webdriver.remote.webelement.WebElement (session=\"0cb8e54a283e1f1013be2eb1fa0a2c77\", element=\"d0b6a76d-1f5c-491c-b4fd-aff1dca574ba\")>,\n",
       " <selenium.webdriver.remote.webelement.WebElement (session=\"0cb8e54a283e1f1013be2eb1fa0a2c77\", element=\"b8b90cef-5ee6-4c35-ab0f-bbcffdbd5914\")>,\n",
       " <selenium.webdriver.remote.webelement.WebElement (session=\"0cb8e54a283e1f1013be2eb1fa0a2c77\", element=\"b85ecc0d-d59a-4799-b580-8e9f8c1fdc53\")>,\n",
       " <selenium.webdriver.remote.webelement.WebElement (session=\"0cb8e54a283e1f1013be2eb1fa0a2c77\", element=\"ccf0c1e0-b204-49b0-9ec8-22929602585a\")>,\n",
       " <selenium.webdriver.remote.webelement.WebElement (session=\"0cb8e54a283e1f1013be2eb1fa0a2c77\", element=\"db42b458-8116-4bc9-aadc-7864c39ab2b7\")>,\n",
       " <selenium.webdriver.remote.webelement.WebElement (session=\"0cb8e54a283e1f1013be2eb1fa0a2c77\", element=\"247abcc7-b4d9-44ad-aeed-0f1a2328300d\")>,\n",
       " <selenium.webdriver.remote.webelement.WebElement (session=\"0cb8e54a283e1f1013be2eb1fa0a2c77\", element=\"c4ee1ab5-3508-4f3d-9208-27458c14c720\")>,\n",
       " <selenium.webdriver.remote.webelement.WebElement (session=\"0cb8e54a283e1f1013be2eb1fa0a2c77\", element=\"763f1970-fe76-4e1c-9030-ad9b2f583c7f\")>,\n",
       " <selenium.webdriver.remote.webelement.WebElement (session=\"0cb8e54a283e1f1013be2eb1fa0a2c77\", element=\"3a24fd23-8f85-43fd-aea5-dfaf765023fb\")>]"
      ]
     },
     "execution_count": 137,
     "metadata": {},
     "output_type": "execute_result"
    }
   ],
   "source": [
    "# lets extract all the tags having the job-titles\n",
    "titles_tags=driver.find_elements_by_xpath(\"//a[@class='title fw500 ellipsis']\")\n",
    "titles_tags"
   ]
  },
  {
   "cell_type": "code",
   "execution_count": 138,
   "id": "53273326",
   "metadata": {},
   "outputs": [
    {
     "data": {
      "text/plain": [
       "['Senior Data Scientist',\n",
       " 'Data Scientist / Analyst - Delhi NCR',\n",
       " 'Sr. Data scientist-For AI Platform product based company-Gurgaon',\n",
       " 'Data Scientist',\n",
       " 'Data scientist-For AI Platform product based company-Gurgaon',\n",
       " 'Senior Data Scientist',\n",
       " 'Data Scientist - Predictive Modeling/Tableau',\n",
       " 'Senior Data Scientist - Noida',\n",
       " 'Data Scientist / Data Analyst',\n",
       " 'Immediate Openings For DATA Scientist with 6 To 7 yrs of Experience']"
      ]
     },
     "execution_count": 138,
     "metadata": {},
     "output_type": "execute_result"
    }
   ],
   "source": [
    "# text of the job title.\n",
    "job_titles=[]\n",
    "for i in titles_tags[:10]:\n",
    "    job_titles.append(i.text)\n",
    "job_titles"
   ]
  },
  {
   "cell_type": "code",
   "execution_count": 141,
   "id": "d2c5247b",
   "metadata": {},
   "outputs": [
    {
     "data": {
      "text/plain": [
       "[<selenium.webdriver.remote.webelement.WebElement (session=\"0cb8e54a283e1f1013be2eb1fa0a2c77\", element=\"9d35e45e-9287-4b51-be75-1b78d82cd173\")>,\n",
       " <selenium.webdriver.remote.webelement.WebElement (session=\"0cb8e54a283e1f1013be2eb1fa0a2c77\", element=\"12358f34-d4fd-4f73-be77-834801570c4a\")>,\n",
       " <selenium.webdriver.remote.webelement.WebElement (session=\"0cb8e54a283e1f1013be2eb1fa0a2c77\", element=\"f9d93172-02fa-4272-ad32-917329a7d78d\")>,\n",
       " <selenium.webdriver.remote.webelement.WebElement (session=\"0cb8e54a283e1f1013be2eb1fa0a2c77\", element=\"75246381-eee4-48d2-9f43-b19c94368ca9\")>,\n",
       " <selenium.webdriver.remote.webelement.WebElement (session=\"0cb8e54a283e1f1013be2eb1fa0a2c77\", element=\"3d6c0369-f638-4059-910e-097aab5b8645\")>,\n",
       " <selenium.webdriver.remote.webelement.WebElement (session=\"0cb8e54a283e1f1013be2eb1fa0a2c77\", element=\"de4afcd8-6797-4abd-b058-0dba86a3ba98\")>,\n",
       " <selenium.webdriver.remote.webelement.WebElement (session=\"0cb8e54a283e1f1013be2eb1fa0a2c77\", element=\"5bbc953b-646b-4078-bfeb-24180c145c40\")>,\n",
       " <selenium.webdriver.remote.webelement.WebElement (session=\"0cb8e54a283e1f1013be2eb1fa0a2c77\", element=\"1c0d5805-ef70-42bd-a28a-8590c9e267b0\")>,\n",
       " <selenium.webdriver.remote.webelement.WebElement (session=\"0cb8e54a283e1f1013be2eb1fa0a2c77\", element=\"6ac9ebfc-6b38-4711-a07b-3af6515a1131\")>,\n",
       " <selenium.webdriver.remote.webelement.WebElement (session=\"0cb8e54a283e1f1013be2eb1fa0a2c77\", element=\"810b58fb-a571-4e23-84ae-fe873d36a050\")>,\n",
       " <selenium.webdriver.remote.webelement.WebElement (session=\"0cb8e54a283e1f1013be2eb1fa0a2c77\", element=\"6627b122-fe42-43db-818c-b322a7f522dc\")>,\n",
       " <selenium.webdriver.remote.webelement.WebElement (session=\"0cb8e54a283e1f1013be2eb1fa0a2c77\", element=\"70fbe130-3f63-4a13-94bf-4b94dcb48267\")>,\n",
       " <selenium.webdriver.remote.webelement.WebElement (session=\"0cb8e54a283e1f1013be2eb1fa0a2c77\", element=\"9cc1cfcb-d1db-4b52-a69e-e130e2ff42ef\")>,\n",
       " <selenium.webdriver.remote.webelement.WebElement (session=\"0cb8e54a283e1f1013be2eb1fa0a2c77\", element=\"f4c20044-1b20-48c7-b3f5-a0d78a544aed\")>,\n",
       " <selenium.webdriver.remote.webelement.WebElement (session=\"0cb8e54a283e1f1013be2eb1fa0a2c77\", element=\"a15bb9eb-4065-4587-99ec-5b0bec41f9e3\")>,\n",
       " <selenium.webdriver.remote.webelement.WebElement (session=\"0cb8e54a283e1f1013be2eb1fa0a2c77\", element=\"57a49cdd-c5e1-4381-b8df-6e2369ab8cd7\")>,\n",
       " <selenium.webdriver.remote.webelement.WebElement (session=\"0cb8e54a283e1f1013be2eb1fa0a2c77\", element=\"67a4e931-4279-43d5-9350-7239f27da72c\")>,\n",
       " <selenium.webdriver.remote.webelement.WebElement (session=\"0cb8e54a283e1f1013be2eb1fa0a2c77\", element=\"481863dd-acdb-4e65-b416-0d4d14bdd939\")>,\n",
       " <selenium.webdriver.remote.webelement.WebElement (session=\"0cb8e54a283e1f1013be2eb1fa0a2c77\", element=\"daa66b0b-ecd0-4144-a98d-00f6ef769f64\")>,\n",
       " <selenium.webdriver.remote.webelement.WebElement (session=\"0cb8e54a283e1f1013be2eb1fa0a2c77\", element=\"cf313b93-261a-4005-854d-b4ff0ecd62b9\")>]"
      ]
     },
     "execution_count": 141,
     "metadata": {},
     "output_type": "execute_result"
    }
   ],
   "source": [
    "locations_tags=driver.find_elements_by_xpath(\"//li[@class='fleft grey-text br2 placeHolderLi location']\")\n",
    "locations_tags"
   ]
  },
  {
   "cell_type": "code",
   "execution_count": 142,
   "id": "7d5ab01c",
   "metadata": {},
   "outputs": [
    {
     "data": {
      "text/plain": [
       "['Noida',\n",
       " 'Gurgaon/Gurugram',\n",
       " 'Kolkata, Hyderabad/Secunderabad, Pune, Ahmedabad, Chennai, Bangalore/Bengaluru, Delhi / NCR, Mumbai (All Areas)\\n(WFH during Covid)',\n",
       " 'Hyderabad/Secunderabad, Gurgaon/Gurugram, Bangalore/Bengaluru',\n",
       " 'Gurgaon/Gurugram',\n",
       " 'Gurgaon/Gurugram',\n",
       " 'Gurgaon/Gurugram',\n",
       " 'Noida, Gurgaon/Gurugram, Delhi / NCR',\n",
       " 'Chandigarh, Hyderabad/Secunderabad, Chennai, Bangalore/Bengaluru, Delhi / NCR',\n",
       " 'Chandigarh, Hyderabad/Secunderabad, Chennai, Bangalore/Bengaluru, Delhi / NCR']"
      ]
     },
     "execution_count": 142,
     "metadata": {},
     "output_type": "execute_result"
    }
   ],
   "source": [
    "locations_list=[]\n",
    "for i in locations_tags[:10]:\n",
    "    locations_list.append(i.text)\n",
    "locations_list"
   ]
  },
  {
   "cell_type": "code",
   "execution_count": 143,
   "id": "b5e145fd",
   "metadata": {},
   "outputs": [
    {
     "data": {
      "text/plain": [
       "[<selenium.webdriver.remote.webelement.WebElement (session=\"0cb8e54a283e1f1013be2eb1fa0a2c77\", element=\"b9260d27-d93b-4c42-bb40-e9fece213c59\")>,\n",
       " <selenium.webdriver.remote.webelement.WebElement (session=\"0cb8e54a283e1f1013be2eb1fa0a2c77\", element=\"723f4c33-8119-4fde-b67a-09c00e8b1490\")>,\n",
       " <selenium.webdriver.remote.webelement.WebElement (session=\"0cb8e54a283e1f1013be2eb1fa0a2c77\", element=\"657bebf7-d627-4092-a653-8d573afd786b\")>,\n",
       " <selenium.webdriver.remote.webelement.WebElement (session=\"0cb8e54a283e1f1013be2eb1fa0a2c77\", element=\"2c341c6a-089c-471e-b727-6a3c1fe36b79\")>,\n",
       " <selenium.webdriver.remote.webelement.WebElement (session=\"0cb8e54a283e1f1013be2eb1fa0a2c77\", element=\"1a7f7f9f-642c-4dbc-a11f-bcead54a6966\")>,\n",
       " <selenium.webdriver.remote.webelement.WebElement (session=\"0cb8e54a283e1f1013be2eb1fa0a2c77\", element=\"cf25cd85-cb23-49ad-9e8b-145b6cd7f72b\")>,\n",
       " <selenium.webdriver.remote.webelement.WebElement (session=\"0cb8e54a283e1f1013be2eb1fa0a2c77\", element=\"2ca6a036-546b-4307-be8a-82ca92bdd965\")>,\n",
       " <selenium.webdriver.remote.webelement.WebElement (session=\"0cb8e54a283e1f1013be2eb1fa0a2c77\", element=\"d1990f15-4bb6-4ba0-a122-fee289a64a9d\")>,\n",
       " <selenium.webdriver.remote.webelement.WebElement (session=\"0cb8e54a283e1f1013be2eb1fa0a2c77\", element=\"800d9187-a4d8-4b0b-bf81-1921f0574ca9\")>,\n",
       " <selenium.webdriver.remote.webelement.WebElement (session=\"0cb8e54a283e1f1013be2eb1fa0a2c77\", element=\"88804c33-ef27-4c07-9fce-52ad5b47c591\")>,\n",
       " <selenium.webdriver.remote.webelement.WebElement (session=\"0cb8e54a283e1f1013be2eb1fa0a2c77\", element=\"0324f658-3c99-4490-8981-b11aa3cd53e8\")>,\n",
       " <selenium.webdriver.remote.webelement.WebElement (session=\"0cb8e54a283e1f1013be2eb1fa0a2c77\", element=\"a9818d0a-ac6f-49c9-adb3-689935f70522\")>,\n",
       " <selenium.webdriver.remote.webelement.WebElement (session=\"0cb8e54a283e1f1013be2eb1fa0a2c77\", element=\"5b911325-a027-415d-9f5b-02473f6d49b6\")>,\n",
       " <selenium.webdriver.remote.webelement.WebElement (session=\"0cb8e54a283e1f1013be2eb1fa0a2c77\", element=\"d413ed12-7bdc-4337-8c9f-b1af25e21b43\")>,\n",
       " <selenium.webdriver.remote.webelement.WebElement (session=\"0cb8e54a283e1f1013be2eb1fa0a2c77\", element=\"e6915940-65e3-4d93-9d88-665aea36a74e\")>,\n",
       " <selenium.webdriver.remote.webelement.WebElement (session=\"0cb8e54a283e1f1013be2eb1fa0a2c77\", element=\"51ba1f85-99f5-4a47-a8ff-69a58dd7eac3\")>,\n",
       " <selenium.webdriver.remote.webelement.WebElement (session=\"0cb8e54a283e1f1013be2eb1fa0a2c77\", element=\"a12ba190-cc10-4e8b-9817-4ce71c40bc5b\")>,\n",
       " <selenium.webdriver.remote.webelement.WebElement (session=\"0cb8e54a283e1f1013be2eb1fa0a2c77\", element=\"3d41a746-94af-4498-95d4-e49c97c21e74\")>,\n",
       " <selenium.webdriver.remote.webelement.WebElement (session=\"0cb8e54a283e1f1013be2eb1fa0a2c77\", element=\"4e459010-e934-4bf5-810b-d8e839f39d04\")>,\n",
       " <selenium.webdriver.remote.webelement.WebElement (session=\"0cb8e54a283e1f1013be2eb1fa0a2c77\", element=\"86e32e0d-d441-456c-adab-fc8c66c1f625\")>]"
      ]
     },
     "execution_count": 143,
     "metadata": {},
     "output_type": "execute_result"
    }
   ],
   "source": [
    "# lets extract all the tags having the company names\n",
    "companies_tags=driver.find_elements_by_xpath(\"//a[@class='subTitle ellipsis fleft']\")\n",
    "companies_tags"
   ]
  },
  {
   "cell_type": "code",
   "execution_count": 144,
   "id": "fb39cede",
   "metadata": {},
   "outputs": [
    {
     "data": {
      "text/plain": [
       "['Optum Global Solutions (India) Private Limited',\n",
       " 'CARS24',\n",
       " 'Entune IT Consulting Private Limited',\n",
       " 'inVentiv International Pharma Services Pvt. Ltd.',\n",
       " 'Decimal Technologies Pvt Ltd.',\n",
       " 'TalPro',\n",
       " 'TalPro',\n",
       " 'GABA Consultancy services',\n",
       " 'IDS Infotech Ltd.',\n",
       " 'IDS Infotech Ltd.']"
      ]
     },
     "execution_count": 144,
     "metadata": {},
     "output_type": "execute_result"
    }
   ],
   "source": [
    "companies_names=[]\n",
    "for i in companies_tags[:10]:\n",
    "    companies_names.append(i.text)\n",
    "companies_names"
   ]
  },
  {
   "cell_type": "code",
   "execution_count": 149,
   "id": "63cb6102",
   "metadata": {},
   "outputs": [
    {
     "data": {
      "text/plain": [
       "[<selenium.webdriver.remote.webelement.WebElement (session=\"0cb8e54a283e1f1013be2eb1fa0a2c77\", element=\"05ebbe1c-8194-4f52-a9f3-10ebfa7f92a2\")>,\n",
       " <selenium.webdriver.remote.webelement.WebElement (session=\"0cb8e54a283e1f1013be2eb1fa0a2c77\", element=\"947920d6-5139-49f4-9b98-2425b5611115\")>,\n",
       " <selenium.webdriver.remote.webelement.WebElement (session=\"0cb8e54a283e1f1013be2eb1fa0a2c77\", element=\"24a3a066-ebac-43fe-80cd-79d6b1b50be9\")>,\n",
       " <selenium.webdriver.remote.webelement.WebElement (session=\"0cb8e54a283e1f1013be2eb1fa0a2c77\", element=\"b97558dc-786e-4d6d-917e-ba24c958aad8\")>,\n",
       " <selenium.webdriver.remote.webelement.WebElement (session=\"0cb8e54a283e1f1013be2eb1fa0a2c77\", element=\"139faf8f-b40e-43c2-b4b9-e2b751e0ae08\")>,\n",
       " <selenium.webdriver.remote.webelement.WebElement (session=\"0cb8e54a283e1f1013be2eb1fa0a2c77\", element=\"d84e49b0-b716-47f6-8aad-519a73ae0fff\")>,\n",
       " <selenium.webdriver.remote.webelement.WebElement (session=\"0cb8e54a283e1f1013be2eb1fa0a2c77\", element=\"4f62d40f-d473-4e56-8567-55c109184f01\")>,\n",
       " <selenium.webdriver.remote.webelement.WebElement (session=\"0cb8e54a283e1f1013be2eb1fa0a2c77\", element=\"b459b8cf-e084-4c15-b614-fa37214a6b17\")>,\n",
       " <selenium.webdriver.remote.webelement.WebElement (session=\"0cb8e54a283e1f1013be2eb1fa0a2c77\", element=\"d919de31-052b-4ead-b41b-3ea47e6f9b30\")>,\n",
       " <selenium.webdriver.remote.webelement.WebElement (session=\"0cb8e54a283e1f1013be2eb1fa0a2c77\", element=\"c97d1778-046c-4ccc-bed5-ef5be7a6708d\")>,\n",
       " <selenium.webdriver.remote.webelement.WebElement (session=\"0cb8e54a283e1f1013be2eb1fa0a2c77\", element=\"71627e6d-9ac4-4346-9e80-7472e974fdfb\")>,\n",
       " <selenium.webdriver.remote.webelement.WebElement (session=\"0cb8e54a283e1f1013be2eb1fa0a2c77\", element=\"73e13f61-6deb-424d-9949-2d48902511db\")>,\n",
       " <selenium.webdriver.remote.webelement.WebElement (session=\"0cb8e54a283e1f1013be2eb1fa0a2c77\", element=\"6b96a8d9-38ca-4f46-b7d1-9028e1d2dcd5\")>,\n",
       " <selenium.webdriver.remote.webelement.WebElement (session=\"0cb8e54a283e1f1013be2eb1fa0a2c77\", element=\"8a65aa0f-b9e6-4035-80a6-44042295c667\")>,\n",
       " <selenium.webdriver.remote.webelement.WebElement (session=\"0cb8e54a283e1f1013be2eb1fa0a2c77\", element=\"fe2add15-b2ed-41a0-96fd-548c04628ed9\")>,\n",
       " <selenium.webdriver.remote.webelement.WebElement (session=\"0cb8e54a283e1f1013be2eb1fa0a2c77\", element=\"415cca18-1a3b-4017-acc2-db8b2c6db33d\")>,\n",
       " <selenium.webdriver.remote.webelement.WebElement (session=\"0cb8e54a283e1f1013be2eb1fa0a2c77\", element=\"09a47d4b-9217-46c1-a395-e9fa9a483c50\")>,\n",
       " <selenium.webdriver.remote.webelement.WebElement (session=\"0cb8e54a283e1f1013be2eb1fa0a2c77\", element=\"a8199cca-d2ca-4e0a-8806-00ec70c3d4b3\")>,\n",
       " <selenium.webdriver.remote.webelement.WebElement (session=\"0cb8e54a283e1f1013be2eb1fa0a2c77\", element=\"d10005fd-c135-4d60-aa25-80287c748cc0\")>,\n",
       " <selenium.webdriver.remote.webelement.WebElement (session=\"0cb8e54a283e1f1013be2eb1fa0a2c77\", element=\"fa9c4022-8f65-42fa-8703-6378af862e50\")>]"
      ]
     },
     "execution_count": 149,
     "metadata": {},
     "output_type": "execute_result"
    }
   ],
   "source": [
    "# lets extract all the tags having the experience required data\n",
    "experience_tags=driver.find_elements_by_xpath(\"//li[@class='fleft grey-text br2 placeHolderLi experience']\")\n",
    "experience_tags"
   ]
  },
  {
   "cell_type": "code",
   "execution_count": 150,
   "id": "bc830e60",
   "metadata": {},
   "outputs": [
    {
     "data": {
      "text/plain": [
       "['4-8 Yrs',\n",
       " '3-8 Yrs',\n",
       " '10-15 Yrs',\n",
       " '3-6 Yrs',\n",
       " '4-9 Yrs',\n",
       " '5-9 Yrs',\n",
       " '2-5 Yrs',\n",
       " '2-6 Yrs',\n",
       " '1-5 Yrs',\n",
       " '5-8 Yrs']"
      ]
     },
     "execution_count": 150,
     "metadata": {},
     "output_type": "execute_result"
    }
   ],
   "source": [
    "experience_list=[]\n",
    "for i in experience_tags[:10]:\n",
    "    experience_list.append(i.text)\n",
    "experience_list"
   ]
  },
  {
   "cell_type": "code",
   "execution_count": 151,
   "id": "00692117",
   "metadata": {},
   "outputs": [
    {
     "name": "stdout",
     "output_type": "stream",
     "text": [
      "10 10 10 10\n"
     ]
    }
   ],
   "source": [
    "print(len(job_titles),len(companies_names),len(experience_list),len(locations_list))"
   ]
  },
  {
   "cell_type": "code",
   "execution_count": 152,
   "id": "6001db1e",
   "metadata": {},
   "outputs": [],
   "source": [
    "jobs=pd.DataFrame({})\n",
    "jobs['title']=job_titles\n",
    "jobs['company']=companies_names\n",
    "jobs['experience_required']=experience_list\n",
    "jobs['location']=locations_list"
   ]
  },
  {
   "cell_type": "code",
   "execution_count": 153,
   "id": "15456027",
   "metadata": {},
   "outputs": [
    {
     "data": {
      "text/html": [
       "<div>\n",
       "<style scoped>\n",
       "    .dataframe tbody tr th:only-of-type {\n",
       "        vertical-align: middle;\n",
       "    }\n",
       "\n",
       "    .dataframe tbody tr th {\n",
       "        vertical-align: top;\n",
       "    }\n",
       "\n",
       "    .dataframe thead th {\n",
       "        text-align: right;\n",
       "    }\n",
       "</style>\n",
       "<table border=\"1\" class=\"dataframe\">\n",
       "  <thead>\n",
       "    <tr style=\"text-align: right;\">\n",
       "      <th></th>\n",
       "      <th>title</th>\n",
       "      <th>company</th>\n",
       "      <th>experience_required</th>\n",
       "      <th>location</th>\n",
       "    </tr>\n",
       "  </thead>\n",
       "  <tbody>\n",
       "    <tr>\n",
       "      <th>0</th>\n",
       "      <td>Senior Data Scientist</td>\n",
       "      <td>Optum Global Solutions (India) Private Limited</td>\n",
       "      <td>4-8 Yrs</td>\n",
       "      <td>Noida</td>\n",
       "    </tr>\n",
       "    <tr>\n",
       "      <th>1</th>\n",
       "      <td>Data Scientist / Analyst - Delhi NCR</td>\n",
       "      <td>CARS24</td>\n",
       "      <td>3-8 Yrs</td>\n",
       "      <td>Gurgaon/Gurugram</td>\n",
       "    </tr>\n",
       "    <tr>\n",
       "      <th>2</th>\n",
       "      <td>Sr. Data scientist-For AI Platform product bas...</td>\n",
       "      <td>Entune IT Consulting Private Limited</td>\n",
       "      <td>10-15 Yrs</td>\n",
       "      <td>Kolkata, Hyderabad/Secunderabad, Pune, Ahmedab...</td>\n",
       "    </tr>\n",
       "    <tr>\n",
       "      <th>3</th>\n",
       "      <td>Data Scientist</td>\n",
       "      <td>inVentiv International Pharma Services Pvt. Ltd.</td>\n",
       "      <td>3-6 Yrs</td>\n",
       "      <td>Hyderabad/Secunderabad, Gurgaon/Gurugram, Bang...</td>\n",
       "    </tr>\n",
       "    <tr>\n",
       "      <th>4</th>\n",
       "      <td>Data scientist-For AI Platform product based c...</td>\n",
       "      <td>Decimal Technologies Pvt Ltd.</td>\n",
       "      <td>4-9 Yrs</td>\n",
       "      <td>Gurgaon/Gurugram</td>\n",
       "    </tr>\n",
       "    <tr>\n",
       "      <th>5</th>\n",
       "      <td>Senior Data Scientist</td>\n",
       "      <td>TalPro</td>\n",
       "      <td>5-9 Yrs</td>\n",
       "      <td>Gurgaon/Gurugram</td>\n",
       "    </tr>\n",
       "    <tr>\n",
       "      <th>6</th>\n",
       "      <td>Data Scientist - Predictive Modeling/Tableau</td>\n",
       "      <td>TalPro</td>\n",
       "      <td>2-5 Yrs</td>\n",
       "      <td>Gurgaon/Gurugram</td>\n",
       "    </tr>\n",
       "    <tr>\n",
       "      <th>7</th>\n",
       "      <td>Senior Data Scientist - Noida</td>\n",
       "      <td>GABA Consultancy services</td>\n",
       "      <td>2-6 Yrs</td>\n",
       "      <td>Noida, Gurgaon/Gurugram, Delhi / NCR</td>\n",
       "    </tr>\n",
       "    <tr>\n",
       "      <th>8</th>\n",
       "      <td>Data Scientist / Data Analyst</td>\n",
       "      <td>IDS Infotech Ltd.</td>\n",
       "      <td>1-5 Yrs</td>\n",
       "      <td>Chandigarh, Hyderabad/Secunderabad, Chennai, B...</td>\n",
       "    </tr>\n",
       "    <tr>\n",
       "      <th>9</th>\n",
       "      <td>Immediate Openings For DATA Scientist with 6 T...</td>\n",
       "      <td>IDS Infotech Ltd.</td>\n",
       "      <td>5-8 Yrs</td>\n",
       "      <td>Chandigarh, Hyderabad/Secunderabad, Chennai, B...</td>\n",
       "    </tr>\n",
       "  </tbody>\n",
       "</table>\n",
       "</div>"
      ],
      "text/plain": [
       "                                               title  \\\n",
       "0                              Senior Data Scientist   \n",
       "1               Data Scientist / Analyst - Delhi NCR   \n",
       "2  Sr. Data scientist-For AI Platform product bas...   \n",
       "3                                     Data Scientist   \n",
       "4  Data scientist-For AI Platform product based c...   \n",
       "5                              Senior Data Scientist   \n",
       "6       Data Scientist - Predictive Modeling/Tableau   \n",
       "7                      Senior Data Scientist - Noida   \n",
       "8                      Data Scientist / Data Analyst   \n",
       "9  Immediate Openings For DATA Scientist with 6 T...   \n",
       "\n",
       "                                            company experience_required  \\\n",
       "0    Optum Global Solutions (India) Private Limited             4-8 Yrs   \n",
       "1                                            CARS24             3-8 Yrs   \n",
       "2              Entune IT Consulting Private Limited           10-15 Yrs   \n",
       "3  inVentiv International Pharma Services Pvt. Ltd.             3-6 Yrs   \n",
       "4                     Decimal Technologies Pvt Ltd.             4-9 Yrs   \n",
       "5                                            TalPro             5-9 Yrs   \n",
       "6                                            TalPro             2-5 Yrs   \n",
       "7                         GABA Consultancy services             2-6 Yrs   \n",
       "8                                 IDS Infotech Ltd.             1-5 Yrs   \n",
       "9                                 IDS Infotech Ltd.             5-8 Yrs   \n",
       "\n",
       "                                            location  \n",
       "0                                              Noida  \n",
       "1                                   Gurgaon/Gurugram  \n",
       "2  Kolkata, Hyderabad/Secunderabad, Pune, Ahmedab...  \n",
       "3  Hyderabad/Secunderabad, Gurgaon/Gurugram, Bang...  \n",
       "4                                   Gurgaon/Gurugram  \n",
       "5                                   Gurgaon/Gurugram  \n",
       "6                                   Gurgaon/Gurugram  \n",
       "7               Noida, Gurgaon/Gurugram, Delhi / NCR  \n",
       "8  Chandigarh, Hyderabad/Secunderabad, Chennai, B...  \n",
       "9  Chandigarh, Hyderabad/Secunderabad, Chennai, B...  "
      ]
     },
     "execution_count": 153,
     "metadata": {},
     "output_type": "execute_result"
    }
   ],
   "source": [
    "jobs"
   ]
  },
  {
   "cell_type": "markdown",
   "id": "aa186b60",
   "metadata": {},
   "source": [
    "Q.NO.4 Write a python program to scrape data for first 10 job results for Data scientist Designation in Noida location. You have to scrape company_name, No. of days ago when job was posted, Rating of the company."
   ]
  },
  {
   "cell_type": "code",
   "execution_count": 199,
   "id": "3b8489ba",
   "metadata": {},
   "outputs": [],
   "source": [
    "url = 'https://www.glassdoor.co.in/index.htm'\n",
    "driver.get(url)"
   ]
  },
  {
   "cell_type": "code",
   "execution_count": 194,
   "id": "5e8fed85",
   "metadata": {},
   "outputs": [
    {
     "data": {
      "text/plain": [
       "[]"
      ]
     },
     "execution_count": 194,
     "metadata": {},
     "output_type": "execute_result"
    }
   ],
   "source": [
    "# lets extract all the tags having the job-titles\n",
    "titles_tags=driver.find_elements_by_xpath(\"//div[@class='css-1vg6q84 e1tk4kwz4']/div\")\n",
    "titles_tags"
   ]
  },
  {
   "cell_type": "code",
   "execution_count": 193,
   "id": "fc51d244",
   "metadata": {},
   "outputs": [
    {
     "data": {
      "text/plain": [
       "[]"
      ]
     },
     "execution_count": 193,
     "metadata": {},
     "output_type": "execute_result"
    }
   ],
   "source": [
    "job_titles=[]\n",
    "for i in titles_tags[:10]:\n",
    "    job_titles.append(i.text)\n",
    "job_titles"
   ]
  },
  {
   "cell_type": "code",
   "execution_count": 186,
   "id": "9daccb12",
   "metadata": {},
   "outputs": [
    {
     "data": {
      "text/plain": [
       "[]"
      ]
     },
     "execution_count": 186,
     "metadata": {},
     "output_type": "execute_result"
    }
   ],
   "source": [
    "companies_tags=driver.find_elements_by_xpath(\"//a[@class='css-l2wjgv e1n63ojh0 jobLink']\") \n",
    "companies_tags"
   ]
  },
  {
   "cell_type": "markdown",
   "id": "8d27c8fb",
   "metadata": {},
   "source": [
    "Q6 : Scrape data of first 100 sunglasses listings on flipkart.com. You have to scrape four attributes:\n",
    "1. Brand\n",
    "2. Product Description\n",
    "3. Price\n",
    "4. Discount %"
   ]
  },
  {
   "cell_type": "code",
   "execution_count": 4,
   "id": "1c8accb7",
   "metadata": {},
   "outputs": [],
   "source": [
    "url = 'https://www.flipkart.com/'\n",
    "driver.get(url)"
   ]
  },
  {
   "cell_type": "code",
   "execution_count": 7,
   "id": "2b0b1919",
   "metadata": {},
   "outputs": [
    {
     "data": {
      "text/plain": [
       "[<selenium.webdriver.remote.webelement.WebElement (session=\"ec46cf2fb3c1187e773ca08fa34b16bc\", element=\"c14f1a50-6128-4efc-80fe-e2de2ec6d661\")>,\n",
       " <selenium.webdriver.remote.webelement.WebElement (session=\"ec46cf2fb3c1187e773ca08fa34b16bc\", element=\"ddd566ad-2614-4bbf-a40e-fa667f1de734\")>,\n",
       " <selenium.webdriver.remote.webelement.WebElement (session=\"ec46cf2fb3c1187e773ca08fa34b16bc\", element=\"c4d84a28-88f4-4032-8b3a-42e897de5fcc\")>,\n",
       " <selenium.webdriver.remote.webelement.WebElement (session=\"ec46cf2fb3c1187e773ca08fa34b16bc\", element=\"9837fea4-c05b-4ed9-9017-8d3d1895fc21\")>,\n",
       " <selenium.webdriver.remote.webelement.WebElement (session=\"ec46cf2fb3c1187e773ca08fa34b16bc\", element=\"ee52ab82-76d8-4e17-a7a0-36dfa3da093e\")>,\n",
       " <selenium.webdriver.remote.webelement.WebElement (session=\"ec46cf2fb3c1187e773ca08fa34b16bc\", element=\"5fadc8f9-467a-4d43-a77a-fbfc03228f89\")>,\n",
       " <selenium.webdriver.remote.webelement.WebElement (session=\"ec46cf2fb3c1187e773ca08fa34b16bc\", element=\"969ca8b2-e867-4e52-9819-7fecb2ee0a73\")>,\n",
       " <selenium.webdriver.remote.webelement.WebElement (session=\"ec46cf2fb3c1187e773ca08fa34b16bc\", element=\"055f6acc-dae6-47e0-84d9-abb6dc7919f5\")>,\n",
       " <selenium.webdriver.remote.webelement.WebElement (session=\"ec46cf2fb3c1187e773ca08fa34b16bc\", element=\"5821579a-df93-4833-ab95-ee2c65143177\")>,\n",
       " <selenium.webdriver.remote.webelement.WebElement (session=\"ec46cf2fb3c1187e773ca08fa34b16bc\", element=\"d1f96291-5127-4f0d-be62-a7c0c6e0fcfc\")>,\n",
       " <selenium.webdriver.remote.webelement.WebElement (session=\"ec46cf2fb3c1187e773ca08fa34b16bc\", element=\"61d4b335-a57b-40b3-b4ec-6629c2435569\")>,\n",
       " <selenium.webdriver.remote.webelement.WebElement (session=\"ec46cf2fb3c1187e773ca08fa34b16bc\", element=\"9fdaf2ef-4c43-40dc-a225-975d6bee2f2d\")>,\n",
       " <selenium.webdriver.remote.webelement.WebElement (session=\"ec46cf2fb3c1187e773ca08fa34b16bc\", element=\"acbb4418-2d21-4139-a574-1df13c9e7b4f\")>,\n",
       " <selenium.webdriver.remote.webelement.WebElement (session=\"ec46cf2fb3c1187e773ca08fa34b16bc\", element=\"f8b797c3-89f0-4d0b-af6d-772230593ee3\")>,\n",
       " <selenium.webdriver.remote.webelement.WebElement (session=\"ec46cf2fb3c1187e773ca08fa34b16bc\", element=\"ce64498d-2fd7-4746-bbb4-123e86f10cec\")>,\n",
       " <selenium.webdriver.remote.webelement.WebElement (session=\"ec46cf2fb3c1187e773ca08fa34b16bc\", element=\"fd98b422-025b-47b9-ae91-5ab305f69cf1\")>,\n",
       " <selenium.webdriver.remote.webelement.WebElement (session=\"ec46cf2fb3c1187e773ca08fa34b16bc\", element=\"83747029-54e0-460f-a8c2-7b6e6234f3e4\")>,\n",
       " <selenium.webdriver.remote.webelement.WebElement (session=\"ec46cf2fb3c1187e773ca08fa34b16bc\", element=\"fba8e763-c450-4a24-b772-091c35cbe703\")>,\n",
       " <selenium.webdriver.remote.webelement.WebElement (session=\"ec46cf2fb3c1187e773ca08fa34b16bc\", element=\"43173cce-c7b4-4105-9475-4ab658badc92\")>,\n",
       " <selenium.webdriver.remote.webelement.WebElement (session=\"ec46cf2fb3c1187e773ca08fa34b16bc\", element=\"21730416-d8d2-4aa4-93d3-d16ee9235ad1\")>,\n",
       " <selenium.webdriver.remote.webelement.WebElement (session=\"ec46cf2fb3c1187e773ca08fa34b16bc\", element=\"25c10a0a-e55d-4e16-8e75-942c3ec4dd61\")>,\n",
       " <selenium.webdriver.remote.webelement.WebElement (session=\"ec46cf2fb3c1187e773ca08fa34b16bc\", element=\"e862364b-0bb5-44d6-91cd-9b9328d67590\")>,\n",
       " <selenium.webdriver.remote.webelement.WebElement (session=\"ec46cf2fb3c1187e773ca08fa34b16bc\", element=\"ad79df75-abb1-4d30-8e38-c5ab18cb1046\")>,\n",
       " <selenium.webdriver.remote.webelement.WebElement (session=\"ec46cf2fb3c1187e773ca08fa34b16bc\", element=\"70539417-cb7f-400a-956e-3f8aa2a18243\")>,\n",
       " <selenium.webdriver.remote.webelement.WebElement (session=\"ec46cf2fb3c1187e773ca08fa34b16bc\", element=\"2f5b2825-3413-4dbf-b68b-1488fa30ab0c\")>,\n",
       " <selenium.webdriver.remote.webelement.WebElement (session=\"ec46cf2fb3c1187e773ca08fa34b16bc\", element=\"52903ae2-907f-4fe2-9a76-a90c77262748\")>,\n",
       " <selenium.webdriver.remote.webelement.WebElement (session=\"ec46cf2fb3c1187e773ca08fa34b16bc\", element=\"e05ff135-0eb7-45dc-9ec9-ada7d8f0a6e0\")>,\n",
       " <selenium.webdriver.remote.webelement.WebElement (session=\"ec46cf2fb3c1187e773ca08fa34b16bc\", element=\"45d41b62-52a3-48a8-a168-82fd60720c6f\")>,\n",
       " <selenium.webdriver.remote.webelement.WebElement (session=\"ec46cf2fb3c1187e773ca08fa34b16bc\", element=\"5b4f79ec-fd6d-4ccd-a5f5-cb0c1517b128\")>,\n",
       " <selenium.webdriver.remote.webelement.WebElement (session=\"ec46cf2fb3c1187e773ca08fa34b16bc\", element=\"d8e8ebab-3456-4b4d-9aca-d8d15c3e75fb\")>,\n",
       " <selenium.webdriver.remote.webelement.WebElement (session=\"ec46cf2fb3c1187e773ca08fa34b16bc\", element=\"53eb64c5-1832-44d5-9f43-82e9f2675401\")>,\n",
       " <selenium.webdriver.remote.webelement.WebElement (session=\"ec46cf2fb3c1187e773ca08fa34b16bc\", element=\"a67caa1b-81b5-4c2f-bb25-fb05779449f1\")>,\n",
       " <selenium.webdriver.remote.webelement.WebElement (session=\"ec46cf2fb3c1187e773ca08fa34b16bc\", element=\"93093eb3-cc68-4e1d-9592-9d83c852179a\")>,\n",
       " <selenium.webdriver.remote.webelement.WebElement (session=\"ec46cf2fb3c1187e773ca08fa34b16bc\", element=\"d3180c03-aa8b-4089-8d16-6cb6df48107b\")>,\n",
       " <selenium.webdriver.remote.webelement.WebElement (session=\"ec46cf2fb3c1187e773ca08fa34b16bc\", element=\"b486b3e9-78f9-435a-bf4b-56232d298aa3\")>,\n",
       " <selenium.webdriver.remote.webelement.WebElement (session=\"ec46cf2fb3c1187e773ca08fa34b16bc\", element=\"f68456d7-0ea6-4894-b940-a3edc44374cd\")>,\n",
       " <selenium.webdriver.remote.webelement.WebElement (session=\"ec46cf2fb3c1187e773ca08fa34b16bc\", element=\"3e8c6361-195e-4c0f-b023-932ad3fb09b6\")>,\n",
       " <selenium.webdriver.remote.webelement.WebElement (session=\"ec46cf2fb3c1187e773ca08fa34b16bc\", element=\"c990c944-bf03-44c5-abc7-6a282b928a36\")>,\n",
       " <selenium.webdriver.remote.webelement.WebElement (session=\"ec46cf2fb3c1187e773ca08fa34b16bc\", element=\"1ee31158-224a-4b8e-b3b2-d8da4b415c99\")>,\n",
       " <selenium.webdriver.remote.webelement.WebElement (session=\"ec46cf2fb3c1187e773ca08fa34b16bc\", element=\"ccf74f6d-a6d4-448f-9d40-8c9c7adbd18f\")>]"
      ]
     },
     "execution_count": 7,
     "metadata": {},
     "output_type": "execute_result"
    }
   ],
   "source": [
    "Brand_names=driver.find_elements_by_xpath(\"//div[@class='_2WkVRV']\")\n",
    "Brand_names"
   ]
  },
  {
   "cell_type": "code",
   "execution_count": 8,
   "id": "e43b1a0e",
   "metadata": {},
   "outputs": [
    {
     "data": {
      "text/plain": [
       "['Wrogn',\n",
       " 'Wrogn',\n",
       " 'Fastrack',\n",
       " 'PIRASO',\n",
       " 'Elligator',\n",
       " 'kingsunglasses',\n",
       " 'Silver Kartz',\n",
       " 'HAMIW COLLECTION',\n",
       " 'ROZZETTA CRAFT',\n",
       " 'Singco India',\n",
       " 'hipe',\n",
       " 'PIRASO',\n",
       " 'HIPPON',\n",
       " 'NuVew',\n",
       " 'GANSTA',\n",
       " 'LIZA ANGEL',\n",
       " 'AISLIN',\n",
       " 'ROYAL SON',\n",
       " 'PHENOMENAL',\n",
       " 'VINCENT CHASE',\n",
       " 'Villain',\n",
       " 'Fravy',\n",
       " 'SRPM',\n",
       " 'VINCENT CHASE',\n",
       " 'Wrogn',\n",
       " 'Ray-Ban',\n",
       " 'Singco',\n",
       " 'PIRASO',\n",
       " 'Crackers',\n",
       " 'DEIXELS',\n",
       " 'United Colors of Benetton',\n",
       " 'elegante',\n",
       " 'elegante',\n",
       " 'IDEE',\n",
       " 'IRUS by IDEE',\n",
       " 'AISLIN',\n",
       " 'Badfella',\n",
       " 'Fastrack',\n",
       " 'PIRASO',\n",
       " 'elegante']"
      ]
     },
     "execution_count": 8,
     "metadata": {},
     "output_type": "execute_result"
    }
   ],
   "source": [
    "Brand_name=[]\n",
    "for i in Brand_names[:100]:\n",
    "    Brand_name.append(i.text)\n",
    "Brand_name"
   ]
  },
  {
   "cell_type": "code",
   "execution_count": 9,
   "id": "cf4f819d",
   "metadata": {},
   "outputs": [
    {
     "data": {
      "text/plain": [
       "[<selenium.webdriver.remote.webelement.WebElement (session=\"ec46cf2fb3c1187e773ca08fa34b16bc\", element=\"f9f90111-11bd-49e3-9214-c12e8f564098\")>,\n",
       " <selenium.webdriver.remote.webelement.WebElement (session=\"ec46cf2fb3c1187e773ca08fa34b16bc\", element=\"729a585b-31b7-4782-9876-b990bac3c38a\")>,\n",
       " <selenium.webdriver.remote.webelement.WebElement (session=\"ec46cf2fb3c1187e773ca08fa34b16bc\", element=\"c61fd54e-b883-49bd-b145-e97984ff562f\")>,\n",
       " <selenium.webdriver.remote.webelement.WebElement (session=\"ec46cf2fb3c1187e773ca08fa34b16bc\", element=\"793ae27a-3ba2-4861-b12d-eac3201fce69\")>,\n",
       " <selenium.webdriver.remote.webelement.WebElement (session=\"ec46cf2fb3c1187e773ca08fa34b16bc\", element=\"b0cbd8b0-5e25-459e-b650-01428f48b45a\")>,\n",
       " <selenium.webdriver.remote.webelement.WebElement (session=\"ec46cf2fb3c1187e773ca08fa34b16bc\", element=\"aad01f64-b2d4-4cb3-ac79-d406ba082009\")>,\n",
       " <selenium.webdriver.remote.webelement.WebElement (session=\"ec46cf2fb3c1187e773ca08fa34b16bc\", element=\"27845789-77a9-497d-8e69-c764bdbb38b6\")>,\n",
       " <selenium.webdriver.remote.webelement.WebElement (session=\"ec46cf2fb3c1187e773ca08fa34b16bc\", element=\"65e0a9e9-1d4d-4cfb-8b1f-e143109bfe3e\")>,\n",
       " <selenium.webdriver.remote.webelement.WebElement (session=\"ec46cf2fb3c1187e773ca08fa34b16bc\", element=\"309d691f-fe30-4e0f-86fb-4f49a6ef255d\")>,\n",
       " <selenium.webdriver.remote.webelement.WebElement (session=\"ec46cf2fb3c1187e773ca08fa34b16bc\", element=\"d40dbadc-24d4-4b93-ba66-f4df47748fa2\")>,\n",
       " <selenium.webdriver.remote.webelement.WebElement (session=\"ec46cf2fb3c1187e773ca08fa34b16bc\", element=\"cbb914cd-45b7-4b0b-8cb0-0859026158ff\")>,\n",
       " <selenium.webdriver.remote.webelement.WebElement (session=\"ec46cf2fb3c1187e773ca08fa34b16bc\", element=\"b11a698c-e75e-4b3f-af6e-fae4c36d4692\")>,\n",
       " <selenium.webdriver.remote.webelement.WebElement (session=\"ec46cf2fb3c1187e773ca08fa34b16bc\", element=\"567b3173-4b23-424e-9371-a747a71b9e08\")>,\n",
       " <selenium.webdriver.remote.webelement.WebElement (session=\"ec46cf2fb3c1187e773ca08fa34b16bc\", element=\"b798e97b-b0d6-4387-8a57-0d2da1400f18\")>,\n",
       " <selenium.webdriver.remote.webelement.WebElement (session=\"ec46cf2fb3c1187e773ca08fa34b16bc\", element=\"50ebc155-4667-4a1b-825a-1a3d99c9cc0d\")>,\n",
       " <selenium.webdriver.remote.webelement.WebElement (session=\"ec46cf2fb3c1187e773ca08fa34b16bc\", element=\"7b8bcd76-4f94-482c-ad03-8e5df18fcef0\")>,\n",
       " <selenium.webdriver.remote.webelement.WebElement (session=\"ec46cf2fb3c1187e773ca08fa34b16bc\", element=\"3cbb9959-d83f-4e34-a1e6-4d3f573bf7b1\")>,\n",
       " <selenium.webdriver.remote.webelement.WebElement (session=\"ec46cf2fb3c1187e773ca08fa34b16bc\", element=\"603a4c8a-1b3c-4b5e-a560-305c1c858c9b\")>,\n",
       " <selenium.webdriver.remote.webelement.WebElement (session=\"ec46cf2fb3c1187e773ca08fa34b16bc\", element=\"1bbf0b51-ae5f-4018-af47-18b131b0e7f9\")>,\n",
       " <selenium.webdriver.remote.webelement.WebElement (session=\"ec46cf2fb3c1187e773ca08fa34b16bc\", element=\"c694714d-18f2-4b46-8ac2-7616aa20635c\")>,\n",
       " <selenium.webdriver.remote.webelement.WebElement (session=\"ec46cf2fb3c1187e773ca08fa34b16bc\", element=\"5eae571e-0dcf-4a56-8065-129f08279f0b\")>,\n",
       " <selenium.webdriver.remote.webelement.WebElement (session=\"ec46cf2fb3c1187e773ca08fa34b16bc\", element=\"a7f360e9-c93c-449b-b5f6-af8ece06011d\")>,\n",
       " <selenium.webdriver.remote.webelement.WebElement (session=\"ec46cf2fb3c1187e773ca08fa34b16bc\", element=\"57821894-a3fa-43ce-81ab-69c792f4e27c\")>,\n",
       " <selenium.webdriver.remote.webelement.WebElement (session=\"ec46cf2fb3c1187e773ca08fa34b16bc\", element=\"1be96721-c3b7-434d-963b-20e1c4edab07\")>,\n",
       " <selenium.webdriver.remote.webelement.WebElement (session=\"ec46cf2fb3c1187e773ca08fa34b16bc\", element=\"913f9a3a-4570-4cd4-8921-cd25829f7681\")>,\n",
       " <selenium.webdriver.remote.webelement.WebElement (session=\"ec46cf2fb3c1187e773ca08fa34b16bc\", element=\"3d5bdccd-e957-43f0-8c5b-8a070f74305f\")>,\n",
       " <selenium.webdriver.remote.webelement.WebElement (session=\"ec46cf2fb3c1187e773ca08fa34b16bc\", element=\"30fe912d-7427-4c4a-9a4f-9c39046de2f5\")>,\n",
       " <selenium.webdriver.remote.webelement.WebElement (session=\"ec46cf2fb3c1187e773ca08fa34b16bc\", element=\"1f180cf4-ed96-4f3c-8b40-351930069139\")>,\n",
       " <selenium.webdriver.remote.webelement.WebElement (session=\"ec46cf2fb3c1187e773ca08fa34b16bc\", element=\"a2cbb8c0-69e9-4360-8500-ee2537be0704\")>,\n",
       " <selenium.webdriver.remote.webelement.WebElement (session=\"ec46cf2fb3c1187e773ca08fa34b16bc\", element=\"d7654751-ed2a-424d-902f-7491a8c54f00\")>,\n",
       " <selenium.webdriver.remote.webelement.WebElement (session=\"ec46cf2fb3c1187e773ca08fa34b16bc\", element=\"1ca3e55d-a2f9-4b04-acf9-78de9d5d0e3c\")>,\n",
       " <selenium.webdriver.remote.webelement.WebElement (session=\"ec46cf2fb3c1187e773ca08fa34b16bc\", element=\"f078fe04-e80c-4343-9e3a-097ae33757d5\")>,\n",
       " <selenium.webdriver.remote.webelement.WebElement (session=\"ec46cf2fb3c1187e773ca08fa34b16bc\", element=\"98bc8442-1101-42c5-b74f-585498816c2c\")>,\n",
       " <selenium.webdriver.remote.webelement.WebElement (session=\"ec46cf2fb3c1187e773ca08fa34b16bc\", element=\"a89bfc8a-ef76-47d9-8100-1d655e990e2a\")>,\n",
       " <selenium.webdriver.remote.webelement.WebElement (session=\"ec46cf2fb3c1187e773ca08fa34b16bc\", element=\"9abe235b-a43e-4802-8065-e2d1a801d49b\")>,\n",
       " <selenium.webdriver.remote.webelement.WebElement (session=\"ec46cf2fb3c1187e773ca08fa34b16bc\", element=\"e5986a09-49c8-4d43-a84c-99b8cdae02f5\")>,\n",
       " <selenium.webdriver.remote.webelement.WebElement (session=\"ec46cf2fb3c1187e773ca08fa34b16bc\", element=\"0f4741b4-afdb-44c1-bf18-77a204815897\")>,\n",
       " <selenium.webdriver.remote.webelement.WebElement (session=\"ec46cf2fb3c1187e773ca08fa34b16bc\", element=\"89bfe4e8-f81f-4a83-8666-d7d7d7e26a07\")>,\n",
       " <selenium.webdriver.remote.webelement.WebElement (session=\"ec46cf2fb3c1187e773ca08fa34b16bc\", element=\"4b8731fe-f5fb-4d96-bb95-dfb85bd16a9c\")>,\n",
       " <selenium.webdriver.remote.webelement.WebElement (session=\"ec46cf2fb3c1187e773ca08fa34b16bc\", element=\"fc7875cf-ebd1-45a8-af71-244acdb367bf\")>]"
      ]
     },
     "execution_count": 9,
     "metadata": {},
     "output_type": "execute_result"
    }
   ],
   "source": [
    "Price_list=driver.find_elements_by_xpath(\"//div[@class='_30jeq3']\")\n",
    "Price_list"
   ]
  },
  {
   "cell_type": "code",
   "execution_count": 10,
   "id": "e91bef8c",
   "metadata": {},
   "outputs": [
    {
     "data": {
      "text/plain": [
       "['₹1,009',\n",
       " '₹819',\n",
       " '₹455',\n",
       " '₹225',\n",
       " '₹295',\n",
       " '₹299',\n",
       " '₹246',\n",
       " '₹179',\n",
       " '₹404',\n",
       " '₹334',\n",
       " '₹210',\n",
       " '₹225',\n",
       " '₹257',\n",
       " '₹204',\n",
       " '₹284',\n",
       " '₹279',\n",
       " '₹516',\n",
       " '₹379',\n",
       " '₹379',\n",
       " '₹799',\n",
       " '₹599',\n",
       " '₹169',\n",
       " '₹246',\n",
       " '₹799',\n",
       " '₹819',\n",
       " '₹3,019',\n",
       " '₹239',\n",
       " '₹225',\n",
       " '₹170',\n",
       " '₹224',\n",
       " '₹1,249',\n",
       " '₹426',\n",
       " '₹189',\n",
       " '₹1,229',\n",
       " '₹589',\n",
       " '₹487',\n",
       " '₹255',\n",
       " '₹669',\n",
       " '₹225',\n",
       " '₹426']"
      ]
     },
     "execution_count": 10,
     "metadata": {},
     "output_type": "execute_result"
    }
   ],
   "source": [
    "Price_lists=[]\n",
    "for i in Price_list[:100]:\n",
    "    Price_lists.append(i.text)\n",
    "Price_lists"
   ]
  },
  {
   "cell_type": "code",
   "execution_count": 11,
   "id": "a4c2af66",
   "metadata": {},
   "outputs": [
    {
     "data": {
      "text/plain": [
       "[<selenium.webdriver.remote.webelement.WebElement (session=\"ec46cf2fb3c1187e773ca08fa34b16bc\", element=\"e00ab6d6-d89c-4e42-bb4d-30a148f2f0da\")>,\n",
       " <selenium.webdriver.remote.webelement.WebElement (session=\"ec46cf2fb3c1187e773ca08fa34b16bc\", element=\"14b883cd-d323-4d66-a8c4-5a934a515997\")>,\n",
       " <selenium.webdriver.remote.webelement.WebElement (session=\"ec46cf2fb3c1187e773ca08fa34b16bc\", element=\"ffd69bae-1348-49ab-89bc-33d2bd2a0c6d\")>,\n",
       " <selenium.webdriver.remote.webelement.WebElement (session=\"ec46cf2fb3c1187e773ca08fa34b16bc\", element=\"b08bff7f-1090-46b7-9b74-7d9ea6ade8bb\")>,\n",
       " <selenium.webdriver.remote.webelement.WebElement (session=\"ec46cf2fb3c1187e773ca08fa34b16bc\", element=\"0783f052-c4f3-4464-9baa-2befbb0424e4\")>,\n",
       " <selenium.webdriver.remote.webelement.WebElement (session=\"ec46cf2fb3c1187e773ca08fa34b16bc\", element=\"2fe97ca0-4a2b-45e4-b8ef-313f1899d3b5\")>,\n",
       " <selenium.webdriver.remote.webelement.WebElement (session=\"ec46cf2fb3c1187e773ca08fa34b16bc\", element=\"c3226be6-d95c-4421-a16b-4dda2e71821a\")>,\n",
       " <selenium.webdriver.remote.webelement.WebElement (session=\"ec46cf2fb3c1187e773ca08fa34b16bc\", element=\"ddc0e631-9346-41ed-aa8f-16aeae8716be\")>,\n",
       " <selenium.webdriver.remote.webelement.WebElement (session=\"ec46cf2fb3c1187e773ca08fa34b16bc\", element=\"dcee3938-70c5-4319-8665-3959f6ed8f52\")>,\n",
       " <selenium.webdriver.remote.webelement.WebElement (session=\"ec46cf2fb3c1187e773ca08fa34b16bc\", element=\"490e8fbf-09c7-4549-95f7-b4cf688fc960\")>,\n",
       " <selenium.webdriver.remote.webelement.WebElement (session=\"ec46cf2fb3c1187e773ca08fa34b16bc\", element=\"04d984c9-f747-4812-b996-ae5c372f16fa\")>,\n",
       " <selenium.webdriver.remote.webelement.WebElement (session=\"ec46cf2fb3c1187e773ca08fa34b16bc\", element=\"a9a79f96-6ccc-45be-8f07-5921400d4147\")>,\n",
       " <selenium.webdriver.remote.webelement.WebElement (session=\"ec46cf2fb3c1187e773ca08fa34b16bc\", element=\"ba5b547f-42cd-47ff-a826-be9ce2deecf0\")>,\n",
       " <selenium.webdriver.remote.webelement.WebElement (session=\"ec46cf2fb3c1187e773ca08fa34b16bc\", element=\"5d743a53-3a1b-4139-9b86-0336bb1eae29\")>,\n",
       " <selenium.webdriver.remote.webelement.WebElement (session=\"ec46cf2fb3c1187e773ca08fa34b16bc\", element=\"4341ad45-49d7-4438-9ecc-3cf17d7eb635\")>,\n",
       " <selenium.webdriver.remote.webelement.WebElement (session=\"ec46cf2fb3c1187e773ca08fa34b16bc\", element=\"1bb178e6-e785-4cb4-a3a8-bf8ab9db4e66\")>,\n",
       " <selenium.webdriver.remote.webelement.WebElement (session=\"ec46cf2fb3c1187e773ca08fa34b16bc\", element=\"71215bdf-824b-4adc-877f-15e6baf1af62\")>,\n",
       " <selenium.webdriver.remote.webelement.WebElement (session=\"ec46cf2fb3c1187e773ca08fa34b16bc\", element=\"82d9da3b-9449-4db8-92f4-38e716e3da40\")>,\n",
       " <selenium.webdriver.remote.webelement.WebElement (session=\"ec46cf2fb3c1187e773ca08fa34b16bc\", element=\"d0c0ee96-02ae-4c6b-aa45-983b73eb9782\")>,\n",
       " <selenium.webdriver.remote.webelement.WebElement (session=\"ec46cf2fb3c1187e773ca08fa34b16bc\", element=\"f5f8da76-0f50-4efd-b1d9-a0d7f0b066ff\")>,\n",
       " <selenium.webdriver.remote.webelement.WebElement (session=\"ec46cf2fb3c1187e773ca08fa34b16bc\", element=\"443319f6-a300-4545-9cd5-27fdc7d97226\")>,\n",
       " <selenium.webdriver.remote.webelement.WebElement (session=\"ec46cf2fb3c1187e773ca08fa34b16bc\", element=\"876a673d-4d6e-4550-b990-0e757457e063\")>,\n",
       " <selenium.webdriver.remote.webelement.WebElement (session=\"ec46cf2fb3c1187e773ca08fa34b16bc\", element=\"4b3634aa-f8d0-4c07-a181-b84a8461bfdc\")>,\n",
       " <selenium.webdriver.remote.webelement.WebElement (session=\"ec46cf2fb3c1187e773ca08fa34b16bc\", element=\"4782f9cf-0030-4e37-9db5-d0362c32b70b\")>,\n",
       " <selenium.webdriver.remote.webelement.WebElement (session=\"ec46cf2fb3c1187e773ca08fa34b16bc\", element=\"24055605-cf45-4927-a162-c58e10ce960e\")>,\n",
       " <selenium.webdriver.remote.webelement.WebElement (session=\"ec46cf2fb3c1187e773ca08fa34b16bc\", element=\"8594752a-8fd0-4722-8a14-2571e970131d\")>,\n",
       " <selenium.webdriver.remote.webelement.WebElement (session=\"ec46cf2fb3c1187e773ca08fa34b16bc\", element=\"50c678e3-7f6c-4dcf-97ea-4fb92e30086f\")>,\n",
       " <selenium.webdriver.remote.webelement.WebElement (session=\"ec46cf2fb3c1187e773ca08fa34b16bc\", element=\"cffdc352-c4b1-4483-90fa-38f66d657440\")>,\n",
       " <selenium.webdriver.remote.webelement.WebElement (session=\"ec46cf2fb3c1187e773ca08fa34b16bc\", element=\"4fdbc5a7-0ed9-4064-abfa-51eaadace8de\")>,\n",
       " <selenium.webdriver.remote.webelement.WebElement (session=\"ec46cf2fb3c1187e773ca08fa34b16bc\", element=\"c3f8bd97-6c77-4392-8374-d290d6d5dffd\")>,\n",
       " <selenium.webdriver.remote.webelement.WebElement (session=\"ec46cf2fb3c1187e773ca08fa34b16bc\", element=\"ee4f5308-f2ee-4e5e-b36c-550e483f2b88\")>,\n",
       " <selenium.webdriver.remote.webelement.WebElement (session=\"ec46cf2fb3c1187e773ca08fa34b16bc\", element=\"86c99e0d-bcaf-4190-a1f5-f131741ee0b3\")>,\n",
       " <selenium.webdriver.remote.webelement.WebElement (session=\"ec46cf2fb3c1187e773ca08fa34b16bc\", element=\"9f2550de-35bb-42db-81f7-fb509e2925c1\")>,\n",
       " <selenium.webdriver.remote.webelement.WebElement (session=\"ec46cf2fb3c1187e773ca08fa34b16bc\", element=\"c816a174-fbab-4da9-8641-2c314f96d686\")>,\n",
       " <selenium.webdriver.remote.webelement.WebElement (session=\"ec46cf2fb3c1187e773ca08fa34b16bc\", element=\"80e4cf59-e4c9-412b-a765-42f71599533a\")>,\n",
       " <selenium.webdriver.remote.webelement.WebElement (session=\"ec46cf2fb3c1187e773ca08fa34b16bc\", element=\"98fe434a-cd24-4cc3-9f13-8209d4b75d15\")>,\n",
       " <selenium.webdriver.remote.webelement.WebElement (session=\"ec46cf2fb3c1187e773ca08fa34b16bc\", element=\"a7c5a79f-c49d-45af-b009-288feb4dd770\")>,\n",
       " <selenium.webdriver.remote.webelement.WebElement (session=\"ec46cf2fb3c1187e773ca08fa34b16bc\", element=\"dc7aa450-9cac-4588-b3e5-235eaa514d77\")>,\n",
       " <selenium.webdriver.remote.webelement.WebElement (session=\"ec46cf2fb3c1187e773ca08fa34b16bc\", element=\"ff127e1b-39b9-461d-bd5c-b3d803d0bcc4\")>,\n",
       " <selenium.webdriver.remote.webelement.WebElement (session=\"ec46cf2fb3c1187e773ca08fa34b16bc\", element=\"ffaaed6e-c764-4e97-8f6f-2a360954e4c5\")>]"
      ]
     },
     "execution_count": 11,
     "metadata": {},
     "output_type": "execute_result"
    }
   ],
   "source": [
    "Discount_percent=driver.find_elements_by_xpath(\"//div[@class='_3Ay6Sb']\")\n",
    "Discount_percent"
   ]
  },
  {
   "cell_type": "code",
   "execution_count": 12,
   "id": "ea545c64",
   "metadata": {},
   "outputs": [
    {
     "data": {
      "text/plain": [
       "['68% off',\n",
       " '67% off',\n",
       " '43% off',\n",
       " '85% off',\n",
       " '88% off',\n",
       " '88% off',\n",
       " '83% off',\n",
       " '88% off',\n",
       " '79% off',\n",
       " '72% off',\n",
       " '85% off',\n",
       " '85% off',\n",
       " '78% off',\n",
       " '74% off',\n",
       " '85% off',\n",
       " '65% off',\n",
       " '66% off',\n",
       " '74% off',\n",
       " '81% off',\n",
       " '60% off',\n",
       " '20% off',\n",
       " '81% off',\n",
       " '75% off',\n",
       " '60% off',\n",
       " '67% off',\n",
       " '45% off',\n",
       " '76% off',\n",
       " '85% off',\n",
       " '82% off',\n",
       " '62% off',\n",
       " '69% off',\n",
       " '71% off',\n",
       " '81% off',\n",
       " '58% off',\n",
       " '54% off',\n",
       " '68% off',\n",
       " '74% off',\n",
       " '25% off',\n",
       " '85% off',\n",
       " '71% off']"
      ]
     },
     "execution_count": 12,
     "metadata": {},
     "output_type": "execute_result"
    }
   ],
   "source": [
    "Discount_lists=[]\n",
    "for i in Discount_percent[:100]:\n",
    "    Discount_lists.append(i.text)\n",
    "Discount_lists"
   ]
  },
  {
   "cell_type": "code",
   "execution_count": 72,
   "id": "aa36a118",
   "metadata": {},
   "outputs": [
    {
     "data": {
      "text/plain": [
       "[<selenium.webdriver.remote.webelement.WebElement (session=\"beca6339678df2e4f5bef88bd6af475c\", element=\"a26ba1c5-09ed-443d-8025-c0824dd2b342\")>,\n",
       " <selenium.webdriver.remote.webelement.WebElement (session=\"beca6339678df2e4f5bef88bd6af475c\", element=\"c47eb43d-5168-49e9-a534-53c15d8e453c\")>,\n",
       " <selenium.webdriver.remote.webelement.WebElement (session=\"beca6339678df2e4f5bef88bd6af475c\", element=\"691b392f-f448-45ce-a6d7-5c203a268033\")>,\n",
       " <selenium.webdriver.remote.webelement.WebElement (session=\"beca6339678df2e4f5bef88bd6af475c\", element=\"732e2f61-3586-41c8-9edf-a82b03332ce7\")>,\n",
       " <selenium.webdriver.remote.webelement.WebElement (session=\"beca6339678df2e4f5bef88bd6af475c\", element=\"a3691ae9-9be0-4beb-bbee-6b316c30bdea\")>,\n",
       " <selenium.webdriver.remote.webelement.WebElement (session=\"beca6339678df2e4f5bef88bd6af475c\", element=\"ebe62286-60dc-4621-a386-66454e29ff7a\")>,\n",
       " <selenium.webdriver.remote.webelement.WebElement (session=\"beca6339678df2e4f5bef88bd6af475c\", element=\"77b3cf74-0fde-4caa-abda-54e4ee066a68\")>,\n",
       " <selenium.webdriver.remote.webelement.WebElement (session=\"beca6339678df2e4f5bef88bd6af475c\", element=\"7b3f9ce6-0372-4805-95a4-69a50205f8be\")>,\n",
       " <selenium.webdriver.remote.webelement.WebElement (session=\"beca6339678df2e4f5bef88bd6af475c\", element=\"0a4862cf-4c50-4444-af98-f81a1a5baa85\")>,\n",
       " <selenium.webdriver.remote.webelement.WebElement (session=\"beca6339678df2e4f5bef88bd6af475c\", element=\"39e3ce6c-9108-42f2-852e-f68feab2a2a5\")>,\n",
       " <selenium.webdriver.remote.webelement.WebElement (session=\"beca6339678df2e4f5bef88bd6af475c\", element=\"40d96029-07fa-482f-859a-1a821faef64d\")>,\n",
       " <selenium.webdriver.remote.webelement.WebElement (session=\"beca6339678df2e4f5bef88bd6af475c\", element=\"a3f097b7-fb59-4902-b58c-acdacba34b9d\")>,\n",
       " <selenium.webdriver.remote.webelement.WebElement (session=\"beca6339678df2e4f5bef88bd6af475c\", element=\"c72c1526-6911-40f3-927f-cf14c0789365\")>,\n",
       " <selenium.webdriver.remote.webelement.WebElement (session=\"beca6339678df2e4f5bef88bd6af475c\", element=\"b6d9010f-5fae-4a35-a4c4-55e712c44261\")>,\n",
       " <selenium.webdriver.remote.webelement.WebElement (session=\"beca6339678df2e4f5bef88bd6af475c\", element=\"cff90a8c-6670-44b0-908c-b1760bf8bdea\")>,\n",
       " <selenium.webdriver.remote.webelement.WebElement (session=\"beca6339678df2e4f5bef88bd6af475c\", element=\"8e4c4305-4f73-459d-9528-c74d6c450324\")>,\n",
       " <selenium.webdriver.remote.webelement.WebElement (session=\"beca6339678df2e4f5bef88bd6af475c\", element=\"ca22364c-4198-4556-acaa-745001640808\")>,\n",
       " <selenium.webdriver.remote.webelement.WebElement (session=\"beca6339678df2e4f5bef88bd6af475c\", element=\"339dcb45-7f1a-4654-b647-380ecce81010\")>,\n",
       " <selenium.webdriver.remote.webelement.WebElement (session=\"beca6339678df2e4f5bef88bd6af475c\", element=\"9b2e1242-b08d-4830-a93a-1fedf249234e\")>,\n",
       " <selenium.webdriver.remote.webelement.WebElement (session=\"beca6339678df2e4f5bef88bd6af475c\", element=\"b2337f03-95b6-4a8a-a20a-73e3b847411f\")>,\n",
       " <selenium.webdriver.remote.webelement.WebElement (session=\"beca6339678df2e4f5bef88bd6af475c\", element=\"ee5fb930-f2e3-400a-986b-6ddfaf9184b7\")>,\n",
       " <selenium.webdriver.remote.webelement.WebElement (session=\"beca6339678df2e4f5bef88bd6af475c\", element=\"75c0346c-3c6c-437e-a68e-1a8d3f8e388d\")>,\n",
       " <selenium.webdriver.remote.webelement.WebElement (session=\"beca6339678df2e4f5bef88bd6af475c\", element=\"06a68075-1b9b-4537-b306-c96e41108347\")>,\n",
       " <selenium.webdriver.remote.webelement.WebElement (session=\"beca6339678df2e4f5bef88bd6af475c\", element=\"56ac9d4b-3231-49b4-9841-fe920301a128\")>,\n",
       " <selenium.webdriver.remote.webelement.WebElement (session=\"beca6339678df2e4f5bef88bd6af475c\", element=\"5cf10ae6-148e-4057-93b8-28b3f0f79b18\")>,\n",
       " <selenium.webdriver.remote.webelement.WebElement (session=\"beca6339678df2e4f5bef88bd6af475c\", element=\"d36b29ef-f91b-4cdd-8c7f-6468b1e8479f\")>,\n",
       " <selenium.webdriver.remote.webelement.WebElement (session=\"beca6339678df2e4f5bef88bd6af475c\", element=\"0ccf6232-f050-46e1-9518-8db4036bf779\")>,\n",
       " <selenium.webdriver.remote.webelement.WebElement (session=\"beca6339678df2e4f5bef88bd6af475c\", element=\"89bfa777-c32c-4ea2-909b-ec333fe30334\")>,\n",
       " <selenium.webdriver.remote.webelement.WebElement (session=\"beca6339678df2e4f5bef88bd6af475c\", element=\"2208e79f-c6a2-4893-a43d-d6d63065da9b\")>,\n",
       " <selenium.webdriver.remote.webelement.WebElement (session=\"beca6339678df2e4f5bef88bd6af475c\", element=\"f3aed9f8-2e9a-4575-bcf5-d5072db09310\")>,\n",
       " <selenium.webdriver.remote.webelement.WebElement (session=\"beca6339678df2e4f5bef88bd6af475c\", element=\"6885bbe3-3f07-4c84-86b3-b761c0b51cc7\")>,\n",
       " <selenium.webdriver.remote.webelement.WebElement (session=\"beca6339678df2e4f5bef88bd6af475c\", element=\"071679bc-1a09-4acc-9b11-c5718940217e\")>,\n",
       " <selenium.webdriver.remote.webelement.WebElement (session=\"beca6339678df2e4f5bef88bd6af475c\", element=\"bfdb8bd8-c646-4798-b448-19fb8f699eef\")>,\n",
       " <selenium.webdriver.remote.webelement.WebElement (session=\"beca6339678df2e4f5bef88bd6af475c\", element=\"fe447f02-ce1b-45d8-a6ab-66beda09c870\")>,\n",
       " <selenium.webdriver.remote.webelement.WebElement (session=\"beca6339678df2e4f5bef88bd6af475c\", element=\"28ee3172-5626-4097-adb5-ae9b3c52d026\")>,\n",
       " <selenium.webdriver.remote.webelement.WebElement (session=\"beca6339678df2e4f5bef88bd6af475c\", element=\"2c8156fb-833a-4fba-bfb8-250eb8abafaf\")>,\n",
       " <selenium.webdriver.remote.webelement.WebElement (session=\"beca6339678df2e4f5bef88bd6af475c\", element=\"bdd69f28-f61e-4922-9c23-61b6c3c3835a\")>,\n",
       " <selenium.webdriver.remote.webelement.WebElement (session=\"beca6339678df2e4f5bef88bd6af475c\", element=\"efe7e91c-059e-4c60-96ef-064b98cc9410\")>]"
      ]
     },
     "execution_count": 72,
     "metadata": {},
     "output_type": "execute_result"
    }
   ],
   "source": [
    "Product_description=driver.find_elements_by_xpath(\"//a[@class='IRpwTa']\")\n",
    "Product_description"
   ]
  },
  {
   "cell_type": "code",
   "execution_count": 73,
   "id": "634c51c2",
   "metadata": {},
   "outputs": [
    {
     "data": {
      "text/plain": [
       "['Mirrored Wayfarer Sunglasses (51)',\n",
       " 'UV Protection Aviator Sunglasses (60)',\n",
       " 'Gradient, UV Protection Wayfarer Sunglasses (Free Size)',\n",
       " 'UV Protection Aviator Sunglasses (54)',\n",
       " 'UV Protection Round Sunglasses (54)',\n",
       " 'Mirrored, UV Protection Wayfarer Sunglasses (Free Size)',\n",
       " 'UV Protection Wayfarer Sunglasses (Free Size)',\n",
       " 'Mirrored Wayfarer Sunglasses (56)',\n",
       " 'UV Protection, Gradient Rectangular Sunglasses (Free Si...',\n",
       " 'UV Protection Aviator Sunglasses (Free Size)',\n",
       " 'UV Protection Sports Sunglasses (Free Size)',\n",
       " 'UV Protection Wayfarer Sunglasses (55)',\n",
       " 'UV Protection Aviator Sunglasses (58)',\n",
       " 'UV Protection Aviator Sunglasses (57)',\n",
       " 'UV Protection, Gradient Butterfly, Retro Square Sunglas...',\n",
       " 'Mirrored Aviator Sunglasses (55)',\n",
       " 'UV Protection Retro Square Sunglasses (Free Size)',\n",
       " 'UV Protection Wayfarer, Sports, Shield, Rectangular, Re...',\n",
       " 'Others Retro Square Sunglasses (Free Size)',\n",
       " 'UV Protection Retro Square Sunglasses (Free Size)',\n",
       " 'UV Protection Wayfarer Sunglasses (53)',\n",
       " 'Polarized Retro Square Sunglasses (54)',\n",
       " 'Mirrored Retro Square Sunglasses (57)',\n",
       " 'Mirrored Aviator Sunglasses (53)',\n",
       " 'UV Protection Retro Square Sunglasses (55)',\n",
       " 'UV Protection Over-sized Sunglasses (Free Size)',\n",
       " 'UV Protection Aviator Sunglasses (55)',\n",
       " 'Gradient Rectangular Sunglasses (56)',\n",
       " 'Polarized, UV Protection, Riding Glasses Wayfarer Sungl...',\n",
       " 'Polarized Round Sunglasses (51)',\n",
       " 'UV Protection Round Sunglasses (Free Size)',\n",
       " 'Gradient Aviator Sunglasses (60)',\n",
       " 'Gradient Rectangular Sunglasses (56)',\n",
       " 'UV Protection, Mirrored Aviator Sunglasses (Free Size)',\n",
       " 'Polarized, UV Protection Retro Square Sunglasses (53)',\n",
       " 'UV Protection Wayfarer Sunglasses (Free Size)',\n",
       " 'UV Protection Aviator Sunglasses (54)',\n",
       " 'UV Protection, Mirrored, Others Aviator Sunglasses (33)']"
      ]
     },
     "execution_count": 73,
     "metadata": {},
     "output_type": "execute_result"
    }
   ],
   "source": [
    "Products_description=[]\n",
    "for i in Product_description[:100]:\n",
    "    Products_description.append(i.text)\n",
    "Products_description"
   ]
  },
  {
   "cell_type": "code",
   "execution_count": 16,
   "id": "12d8373b",
   "metadata": {},
   "outputs": [
    {
     "name": "stdout",
     "output_type": "stream",
     "text": [
      "40 40 40\n"
     ]
    }
   ],
   "source": [
    "print(len(Brand_name),len(Price_lists),len(Discount_lists))"
   ]
  },
  {
   "cell_type": "code",
   "execution_count": 17,
   "id": "1cb236d6",
   "metadata": {},
   "outputs": [],
   "source": [
    "Sunglasses=pd.DataFrame({})\n",
    "Sunglasses['Brand']=Brand_name\n",
    "Sunglasses['Price']=Price_lists\n",
    "Sunglasses['Discount_list']=Discount_lists\n"
   ]
  },
  {
   "cell_type": "code",
   "execution_count": 18,
   "id": "716b015d",
   "metadata": {},
   "outputs": [
    {
     "data": {
      "text/html": [
       "<div>\n",
       "<style scoped>\n",
       "    .dataframe tbody tr th:only-of-type {\n",
       "        vertical-align: middle;\n",
       "    }\n",
       "\n",
       "    .dataframe tbody tr th {\n",
       "        vertical-align: top;\n",
       "    }\n",
       "\n",
       "    .dataframe thead th {\n",
       "        text-align: right;\n",
       "    }\n",
       "</style>\n",
       "<table border=\"1\" class=\"dataframe\">\n",
       "  <thead>\n",
       "    <tr style=\"text-align: right;\">\n",
       "      <th></th>\n",
       "      <th>Brand</th>\n",
       "      <th>Price</th>\n",
       "      <th>Discount_list</th>\n",
       "    </tr>\n",
       "  </thead>\n",
       "  <tbody>\n",
       "    <tr>\n",
       "      <th>0</th>\n",
       "      <td>Wrogn</td>\n",
       "      <td>₹1,009</td>\n",
       "      <td>68% off</td>\n",
       "    </tr>\n",
       "    <tr>\n",
       "      <th>1</th>\n",
       "      <td>Wrogn</td>\n",
       "      <td>₹819</td>\n",
       "      <td>67% off</td>\n",
       "    </tr>\n",
       "    <tr>\n",
       "      <th>2</th>\n",
       "      <td>Fastrack</td>\n",
       "      <td>₹455</td>\n",
       "      <td>43% off</td>\n",
       "    </tr>\n",
       "    <tr>\n",
       "      <th>3</th>\n",
       "      <td>PIRASO</td>\n",
       "      <td>₹225</td>\n",
       "      <td>85% off</td>\n",
       "    </tr>\n",
       "    <tr>\n",
       "      <th>4</th>\n",
       "      <td>Elligator</td>\n",
       "      <td>₹295</td>\n",
       "      <td>88% off</td>\n",
       "    </tr>\n",
       "    <tr>\n",
       "      <th>5</th>\n",
       "      <td>kingsunglasses</td>\n",
       "      <td>₹299</td>\n",
       "      <td>88% off</td>\n",
       "    </tr>\n",
       "    <tr>\n",
       "      <th>6</th>\n",
       "      <td>Silver Kartz</td>\n",
       "      <td>₹246</td>\n",
       "      <td>83% off</td>\n",
       "    </tr>\n",
       "    <tr>\n",
       "      <th>7</th>\n",
       "      <td>HAMIW COLLECTION</td>\n",
       "      <td>₹179</td>\n",
       "      <td>88% off</td>\n",
       "    </tr>\n",
       "    <tr>\n",
       "      <th>8</th>\n",
       "      <td>ROZZETTA CRAFT</td>\n",
       "      <td>₹404</td>\n",
       "      <td>79% off</td>\n",
       "    </tr>\n",
       "    <tr>\n",
       "      <th>9</th>\n",
       "      <td>Singco India</td>\n",
       "      <td>₹334</td>\n",
       "      <td>72% off</td>\n",
       "    </tr>\n",
       "    <tr>\n",
       "      <th>10</th>\n",
       "      <td>hipe</td>\n",
       "      <td>₹210</td>\n",
       "      <td>85% off</td>\n",
       "    </tr>\n",
       "    <tr>\n",
       "      <th>11</th>\n",
       "      <td>PIRASO</td>\n",
       "      <td>₹225</td>\n",
       "      <td>85% off</td>\n",
       "    </tr>\n",
       "    <tr>\n",
       "      <th>12</th>\n",
       "      <td>HIPPON</td>\n",
       "      <td>₹257</td>\n",
       "      <td>78% off</td>\n",
       "    </tr>\n",
       "    <tr>\n",
       "      <th>13</th>\n",
       "      <td>NuVew</td>\n",
       "      <td>₹204</td>\n",
       "      <td>74% off</td>\n",
       "    </tr>\n",
       "    <tr>\n",
       "      <th>14</th>\n",
       "      <td>GANSTA</td>\n",
       "      <td>₹284</td>\n",
       "      <td>85% off</td>\n",
       "    </tr>\n",
       "    <tr>\n",
       "      <th>15</th>\n",
       "      <td>LIZA ANGEL</td>\n",
       "      <td>₹279</td>\n",
       "      <td>65% off</td>\n",
       "    </tr>\n",
       "    <tr>\n",
       "      <th>16</th>\n",
       "      <td>AISLIN</td>\n",
       "      <td>₹516</td>\n",
       "      <td>66% off</td>\n",
       "    </tr>\n",
       "    <tr>\n",
       "      <th>17</th>\n",
       "      <td>ROYAL SON</td>\n",
       "      <td>₹379</td>\n",
       "      <td>74% off</td>\n",
       "    </tr>\n",
       "    <tr>\n",
       "      <th>18</th>\n",
       "      <td>PHENOMENAL</td>\n",
       "      <td>₹379</td>\n",
       "      <td>81% off</td>\n",
       "    </tr>\n",
       "    <tr>\n",
       "      <th>19</th>\n",
       "      <td>VINCENT CHASE</td>\n",
       "      <td>₹799</td>\n",
       "      <td>60% off</td>\n",
       "    </tr>\n",
       "    <tr>\n",
       "      <th>20</th>\n",
       "      <td>Villain</td>\n",
       "      <td>₹599</td>\n",
       "      <td>20% off</td>\n",
       "    </tr>\n",
       "    <tr>\n",
       "      <th>21</th>\n",
       "      <td>Fravy</td>\n",
       "      <td>₹169</td>\n",
       "      <td>81% off</td>\n",
       "    </tr>\n",
       "    <tr>\n",
       "      <th>22</th>\n",
       "      <td>SRPM</td>\n",
       "      <td>₹246</td>\n",
       "      <td>75% off</td>\n",
       "    </tr>\n",
       "    <tr>\n",
       "      <th>23</th>\n",
       "      <td>VINCENT CHASE</td>\n",
       "      <td>₹799</td>\n",
       "      <td>60% off</td>\n",
       "    </tr>\n",
       "    <tr>\n",
       "      <th>24</th>\n",
       "      <td>Wrogn</td>\n",
       "      <td>₹819</td>\n",
       "      <td>67% off</td>\n",
       "    </tr>\n",
       "    <tr>\n",
       "      <th>25</th>\n",
       "      <td>Ray-Ban</td>\n",
       "      <td>₹3,019</td>\n",
       "      <td>45% off</td>\n",
       "    </tr>\n",
       "    <tr>\n",
       "      <th>26</th>\n",
       "      <td>Singco</td>\n",
       "      <td>₹239</td>\n",
       "      <td>76% off</td>\n",
       "    </tr>\n",
       "    <tr>\n",
       "      <th>27</th>\n",
       "      <td>PIRASO</td>\n",
       "      <td>₹225</td>\n",
       "      <td>85% off</td>\n",
       "    </tr>\n",
       "    <tr>\n",
       "      <th>28</th>\n",
       "      <td>Crackers</td>\n",
       "      <td>₹170</td>\n",
       "      <td>82% off</td>\n",
       "    </tr>\n",
       "    <tr>\n",
       "      <th>29</th>\n",
       "      <td>DEIXELS</td>\n",
       "      <td>₹224</td>\n",
       "      <td>62% off</td>\n",
       "    </tr>\n",
       "    <tr>\n",
       "      <th>30</th>\n",
       "      <td>United Colors of Benetton</td>\n",
       "      <td>₹1,249</td>\n",
       "      <td>69% off</td>\n",
       "    </tr>\n",
       "    <tr>\n",
       "      <th>31</th>\n",
       "      <td>elegante</td>\n",
       "      <td>₹426</td>\n",
       "      <td>71% off</td>\n",
       "    </tr>\n",
       "    <tr>\n",
       "      <th>32</th>\n",
       "      <td>elegante</td>\n",
       "      <td>₹189</td>\n",
       "      <td>81% off</td>\n",
       "    </tr>\n",
       "    <tr>\n",
       "      <th>33</th>\n",
       "      <td>IDEE</td>\n",
       "      <td>₹1,229</td>\n",
       "      <td>58% off</td>\n",
       "    </tr>\n",
       "    <tr>\n",
       "      <th>34</th>\n",
       "      <td>IRUS by IDEE</td>\n",
       "      <td>₹589</td>\n",
       "      <td>54% off</td>\n",
       "    </tr>\n",
       "    <tr>\n",
       "      <th>35</th>\n",
       "      <td>AISLIN</td>\n",
       "      <td>₹487</td>\n",
       "      <td>68% off</td>\n",
       "    </tr>\n",
       "    <tr>\n",
       "      <th>36</th>\n",
       "      <td>Badfella</td>\n",
       "      <td>₹255</td>\n",
       "      <td>74% off</td>\n",
       "    </tr>\n",
       "    <tr>\n",
       "      <th>37</th>\n",
       "      <td>Fastrack</td>\n",
       "      <td>₹669</td>\n",
       "      <td>25% off</td>\n",
       "    </tr>\n",
       "    <tr>\n",
       "      <th>38</th>\n",
       "      <td>PIRASO</td>\n",
       "      <td>₹225</td>\n",
       "      <td>85% off</td>\n",
       "    </tr>\n",
       "    <tr>\n",
       "      <th>39</th>\n",
       "      <td>elegante</td>\n",
       "      <td>₹426</td>\n",
       "      <td>71% off</td>\n",
       "    </tr>\n",
       "  </tbody>\n",
       "</table>\n",
       "</div>"
      ],
      "text/plain": [
       "                        Brand   Price Discount_list\n",
       "0                       Wrogn  ₹1,009       68% off\n",
       "1                       Wrogn    ₹819       67% off\n",
       "2                    Fastrack    ₹455       43% off\n",
       "3                      PIRASO    ₹225       85% off\n",
       "4                   Elligator    ₹295       88% off\n",
       "5              kingsunglasses    ₹299       88% off\n",
       "6                Silver Kartz    ₹246       83% off\n",
       "7            HAMIW COLLECTION    ₹179       88% off\n",
       "8              ROZZETTA CRAFT    ₹404       79% off\n",
       "9                Singco India    ₹334       72% off\n",
       "10                       hipe    ₹210       85% off\n",
       "11                     PIRASO    ₹225       85% off\n",
       "12                     HIPPON    ₹257       78% off\n",
       "13                      NuVew    ₹204       74% off\n",
       "14                     GANSTA    ₹284       85% off\n",
       "15                 LIZA ANGEL    ₹279       65% off\n",
       "16                     AISLIN    ₹516       66% off\n",
       "17                  ROYAL SON    ₹379       74% off\n",
       "18                 PHENOMENAL    ₹379       81% off\n",
       "19              VINCENT CHASE    ₹799       60% off\n",
       "20                    Villain    ₹599       20% off\n",
       "21                      Fravy    ₹169       81% off\n",
       "22                       SRPM    ₹246       75% off\n",
       "23              VINCENT CHASE    ₹799       60% off\n",
       "24                      Wrogn    ₹819       67% off\n",
       "25                    Ray-Ban  ₹3,019       45% off\n",
       "26                     Singco    ₹239       76% off\n",
       "27                     PIRASO    ₹225       85% off\n",
       "28                   Crackers    ₹170       82% off\n",
       "29                    DEIXELS    ₹224       62% off\n",
       "30  United Colors of Benetton  ₹1,249       69% off\n",
       "31                   elegante    ₹426       71% off\n",
       "32                   elegante    ₹189       81% off\n",
       "33                       IDEE  ₹1,229       58% off\n",
       "34               IRUS by IDEE    ₹589       54% off\n",
       "35                     AISLIN    ₹487       68% off\n",
       "36                   Badfella    ₹255       74% off\n",
       "37                   Fastrack    ₹669       25% off\n",
       "38                     PIRASO    ₹225       85% off\n",
       "39                   elegante    ₹426       71% off"
      ]
     },
     "execution_count": 18,
     "metadata": {},
     "output_type": "execute_result"
    }
   ],
   "source": [
    "Sunglasses"
   ]
  },
  {
   "cell_type": "markdown",
   "id": "124189a3",
   "metadata": {},
   "source": [
    "Q.NO.7 Scrape 100 reviews data from flipkart.com for iphone11 phone.\n",
    "1. Rating\n",
    "2. Review_summary\n",
    "3. Full review"
   ]
  },
  {
   "cell_type": "code",
   "execution_count": 38,
   "id": "b5bc617b",
   "metadata": {},
   "outputs": [],
   "source": [
    "url = 'https://www.flipkart.com/apple-iphone-11-black-64-gb-includes-earpods-power-adapter/p/itm0f37c2240b217?pid=MOBFKCTSVZAXUHGR&lid=LSTMOBFKCTSVZAXUHGREPBFGI&marketplace.'\n",
    "driver.get(url)"
   ]
  },
  {
   "cell_type": "code",
   "execution_count": 39,
   "id": "305fbe61",
   "metadata": {},
   "outputs": [
    {
     "data": {
      "text/plain": [
       "[<selenium.webdriver.remote.webelement.WebElement (session=\"09bb8b3bf488a163f1acdb8966ce92c9\", element=\"7f944aa8-0951-4f6a-9d1e-fc9e4febc898\")>,\n",
       " <selenium.webdriver.remote.webelement.WebElement (session=\"09bb8b3bf488a163f1acdb8966ce92c9\", element=\"febf30d0-6d8d-4505-bec8-7a8bf2bad64d\")>,\n",
       " <selenium.webdriver.remote.webelement.WebElement (session=\"09bb8b3bf488a163f1acdb8966ce92c9\", element=\"fe98d435-3f9e-4d5e-bc4a-1e75dbd657ca\")>,\n",
       " <selenium.webdriver.remote.webelement.WebElement (session=\"09bb8b3bf488a163f1acdb8966ce92c9\", element=\"3a9bc8c9-cb19-4a1c-b89f-88849b5ab8c9\")>,\n",
       " <selenium.webdriver.remote.webelement.WebElement (session=\"09bb8b3bf488a163f1acdb8966ce92c9\", element=\"084e06f8-70db-4ad2-8dd8-33cb90a3c5c2\")>,\n",
       " <selenium.webdriver.remote.webelement.WebElement (session=\"09bb8b3bf488a163f1acdb8966ce92c9\", element=\"6924b43a-c211-44f7-877b-491583ada938\")>,\n",
       " <selenium.webdriver.remote.webelement.WebElement (session=\"09bb8b3bf488a163f1acdb8966ce92c9\", element=\"6d2d7a0b-7f9b-4750-b7d0-9b3f2ca53070\")>,\n",
       " <selenium.webdriver.remote.webelement.WebElement (session=\"09bb8b3bf488a163f1acdb8966ce92c9\", element=\"22fd0a31-a621-41d7-9bbc-da13c400b72f\")>,\n",
       " <selenium.webdriver.remote.webelement.WebElement (session=\"09bb8b3bf488a163f1acdb8966ce92c9\", element=\"348c884d-31ab-4b5f-b1b7-fe92ffda0f53\")>,\n",
       " <selenium.webdriver.remote.webelement.WebElement (session=\"09bb8b3bf488a163f1acdb8966ce92c9\", element=\"18689131-d841-4442-97e3-2c25ac46aba8\")>]"
      ]
     },
     "execution_count": 39,
     "metadata": {},
     "output_type": "execute_result"
    }
   ],
   "source": [
    "# Ratings\n",
    "Rating_list=driver.find_elements_by_xpath(\"//div[@class='_3LWZlK _1BLPMq']\")\n",
    "Rating_list"
   ]
  },
  {
   "cell_type": "code",
   "execution_count": 40,
   "id": "ada1b409",
   "metadata": {},
   "outputs": [
    {
     "data": {
      "text/plain": [
       "['5', '5', '5', '', '', '', '', '', '', '']"
      ]
     },
     "execution_count": 40,
     "metadata": {},
     "output_type": "execute_result"
    }
   ],
   "source": [
    "Ratings_list=[]\n",
    "for i in Rating_list[:100]:\n",
    "    Ratings_list.append(i.text)\n",
    "Ratings_list"
   ]
  },
  {
   "cell_type": "code",
   "execution_count": 41,
   "id": "f678b866",
   "metadata": {},
   "outputs": [
    {
     "data": {
      "text/plain": [
       "[<selenium.webdriver.remote.webelement.WebElement (session=\"09bb8b3bf488a163f1acdb8966ce92c9\", element=\"df12bee8-d7db-4125-b639-e8de90879f7d\")>,\n",
       " <selenium.webdriver.remote.webelement.WebElement (session=\"09bb8b3bf488a163f1acdb8966ce92c9\", element=\"651018ef-95eb-428a-b14a-a8a04a32d068\")>,\n",
       " <selenium.webdriver.remote.webelement.WebElement (session=\"09bb8b3bf488a163f1acdb8966ce92c9\", element=\"d3e2439c-2005-4782-829d-218b5b4646a8\")>,\n",
       " <selenium.webdriver.remote.webelement.WebElement (session=\"09bb8b3bf488a163f1acdb8966ce92c9\", element=\"bbe958df-5091-45fb-8485-705eeeb52f21\")>,\n",
       " <selenium.webdriver.remote.webelement.WebElement (session=\"09bb8b3bf488a163f1acdb8966ce92c9\", element=\"aedaac50-1316-47eb-8e4b-b54232ca1aaf\")>,\n",
       " <selenium.webdriver.remote.webelement.WebElement (session=\"09bb8b3bf488a163f1acdb8966ce92c9\", element=\"5dc3a22a-7e09-4bac-acf9-dbb67011675b\")>,\n",
       " <selenium.webdriver.remote.webelement.WebElement (session=\"09bb8b3bf488a163f1acdb8966ce92c9\", element=\"891858b2-c279-46fc-bb87-9c130f0153c5\")>,\n",
       " <selenium.webdriver.remote.webelement.WebElement (session=\"09bb8b3bf488a163f1acdb8966ce92c9\", element=\"70110afe-4e86-474b-81a2-aa2ce3cff49c\")>,\n",
       " <selenium.webdriver.remote.webelement.WebElement (session=\"09bb8b3bf488a163f1acdb8966ce92c9\", element=\"89a84f41-0c60-48ed-a9f8-a077e23c4872\")>,\n",
       " <selenium.webdriver.remote.webelement.WebElement (session=\"09bb8b3bf488a163f1acdb8966ce92c9\", element=\"ed4696aa-74fd-493f-aabb-d69344d31e85\")>]"
      ]
     },
     "execution_count": 41,
     "metadata": {},
     "output_type": "execute_result"
    }
   ],
   "source": [
    "# Review_summary\n",
    "Review_summary=driver.find_elements_by_xpath(\"//p[@class='_2-N8zT']\")\n",
    "Review_summary"
   ]
  },
  {
   "cell_type": "code",
   "execution_count": 42,
   "id": "d99cdfbe",
   "metadata": {},
   "outputs": [
    {
     "data": {
      "text/plain": [
       "['Simply awesome', 'Brilliant', 'Fabulous!', '', '', '', '', '', '', '']"
      ]
     },
     "execution_count": 42,
     "metadata": {},
     "output_type": "execute_result"
    }
   ],
   "source": [
    "Reviews_summary=[]\n",
    "for i in Review_summary[:100]:\n",
    "    Reviews_summary.append(i.text)\n",
    "Reviews_summary"
   ]
  },
  {
   "cell_type": "code",
   "execution_count": 43,
   "id": "853290e7",
   "metadata": {},
   "outputs": [
    {
     "data": {
      "text/plain": [
       "[<selenium.webdriver.remote.webelement.WebElement (session=\"09bb8b3bf488a163f1acdb8966ce92c9\", element=\"4b55310d-cf19-4276-9cbb-951922d1d2d2\")>,\n",
       " <selenium.webdriver.remote.webelement.WebElement (session=\"09bb8b3bf488a163f1acdb8966ce92c9\", element=\"443167ca-384f-4227-82df-1784490ea1e3\")>,\n",
       " <selenium.webdriver.remote.webelement.WebElement (session=\"09bb8b3bf488a163f1acdb8966ce92c9\", element=\"ca6b3f76-e4de-42ac-86fd-04da826d2c98\")>,\n",
       " <selenium.webdriver.remote.webelement.WebElement (session=\"09bb8b3bf488a163f1acdb8966ce92c9\", element=\"8f617af7-3aec-47a3-9258-7dd1c9038fa2\")>,\n",
       " <selenium.webdriver.remote.webelement.WebElement (session=\"09bb8b3bf488a163f1acdb8966ce92c9\", element=\"72c695f0-bd44-4af7-b4a4-7dde917f1463\")>,\n",
       " <selenium.webdriver.remote.webelement.WebElement (session=\"09bb8b3bf488a163f1acdb8966ce92c9\", element=\"3c5dd628-c412-47c9-94f1-4cb9a0fc526d\")>,\n",
       " <selenium.webdriver.remote.webelement.WebElement (session=\"09bb8b3bf488a163f1acdb8966ce92c9\", element=\"5cad129a-dc55-4743-94be-5099572fb806\")>,\n",
       " <selenium.webdriver.remote.webelement.WebElement (session=\"09bb8b3bf488a163f1acdb8966ce92c9\", element=\"46475efe-1561-40f2-bc69-c0d6b6f9a04c\")>,\n",
       " <selenium.webdriver.remote.webelement.WebElement (session=\"09bb8b3bf488a163f1acdb8966ce92c9\", element=\"91af53f5-b06c-470b-9f40-359375b8ecff\")>,\n",
       " <selenium.webdriver.remote.webelement.WebElement (session=\"09bb8b3bf488a163f1acdb8966ce92c9\", element=\"78d1d71c-d1b5-47ef-90e2-1be49d4a9a86\")>]"
      ]
     },
     "execution_count": 43,
     "metadata": {},
     "output_type": "execute_result"
    }
   ],
   "source": [
    "Full_review=driver.find_elements_by_xpath(\"//div[@class='t-ZTKy']\")\n",
    "Full_review"
   ]
  },
  {
   "cell_type": "code",
   "execution_count": 44,
   "id": "9a3d4942",
   "metadata": {},
   "outputs": [
    {
     "data": {
      "text/plain": [
       "['Really satisfied with the Product I received... It’s totally genuine and the packaging was also really good so if ur planning to buy just go for it.',\n",
       " 'The Best Phone for the Money\\n\\nThe iPhone 11 offers superb cameras, a more durable design and excellent battery life for an affordable price.\\n\\nCompelling ultra-wide camera\\nNew Night mode is excellent\\nLong battery life',\n",
       " 'This is my first iOS phone. I am very happy with this product. Very much satisfied with this. I love this phone.',\n",
       " '',\n",
       " '',\n",
       " '',\n",
       " '',\n",
       " '',\n",
       " '',\n",
       " '']"
      ]
     },
     "execution_count": 44,
     "metadata": {},
     "output_type": "execute_result"
    }
   ],
   "source": [
    "Full_reviews=[]\n",
    "for i in Full_review[:100]:\n",
    "    Full_reviews.append(i.text)\n",
    "Full_reviews"
   ]
  },
  {
   "cell_type": "code",
   "execution_count": 45,
   "id": "ea64c123",
   "metadata": {},
   "outputs": [
    {
     "name": "stdout",
     "output_type": "stream",
     "text": [
      "10 10 10\n"
     ]
    }
   ],
   "source": [
    "print(len(Ratings_list),len(Reviews_summary),len(Full_reviews))"
   ]
  },
  {
   "cell_type": "code",
   "execution_count": 46,
   "id": "44930cd2",
   "metadata": {},
   "outputs": [],
   "source": [
    "Iphone=pd.DataFrame({})\n",
    "Iphone['Rating']=Ratings_list\n",
    "Iphone['Review']=Reviews_summary\n",
    "Iphone['Full_Review']=Full_reviews"
   ]
  },
  {
   "cell_type": "code",
   "execution_count": 47,
   "id": "caeb371f",
   "metadata": {},
   "outputs": [
    {
     "data": {
      "text/html": [
       "<div>\n",
       "<style scoped>\n",
       "    .dataframe tbody tr th:only-of-type {\n",
       "        vertical-align: middle;\n",
       "    }\n",
       "\n",
       "    .dataframe tbody tr th {\n",
       "        vertical-align: top;\n",
       "    }\n",
       "\n",
       "    .dataframe thead th {\n",
       "        text-align: right;\n",
       "    }\n",
       "</style>\n",
       "<table border=\"1\" class=\"dataframe\">\n",
       "  <thead>\n",
       "    <tr style=\"text-align: right;\">\n",
       "      <th></th>\n",
       "      <th>Rating</th>\n",
       "      <th>Review</th>\n",
       "      <th>Full_Review</th>\n",
       "    </tr>\n",
       "  </thead>\n",
       "  <tbody>\n",
       "    <tr>\n",
       "      <th>0</th>\n",
       "      <td>5</td>\n",
       "      <td>Simply awesome</td>\n",
       "      <td>Really satisfied with the Product I received.....</td>\n",
       "    </tr>\n",
       "    <tr>\n",
       "      <th>1</th>\n",
       "      <td>5</td>\n",
       "      <td>Brilliant</td>\n",
       "      <td>The Best Phone for the Money\\n\\nThe iPhone 11 ...</td>\n",
       "    </tr>\n",
       "    <tr>\n",
       "      <th>2</th>\n",
       "      <td>5</td>\n",
       "      <td>Fabulous!</td>\n",
       "      <td>This is my first iOS phone. I am very happy wi...</td>\n",
       "    </tr>\n",
       "    <tr>\n",
       "      <th>3</th>\n",
       "      <td></td>\n",
       "      <td></td>\n",
       "      <td></td>\n",
       "    </tr>\n",
       "    <tr>\n",
       "      <th>4</th>\n",
       "      <td></td>\n",
       "      <td></td>\n",
       "      <td></td>\n",
       "    </tr>\n",
       "    <tr>\n",
       "      <th>5</th>\n",
       "      <td></td>\n",
       "      <td></td>\n",
       "      <td></td>\n",
       "    </tr>\n",
       "    <tr>\n",
       "      <th>6</th>\n",
       "      <td></td>\n",
       "      <td></td>\n",
       "      <td></td>\n",
       "    </tr>\n",
       "    <tr>\n",
       "      <th>7</th>\n",
       "      <td></td>\n",
       "      <td></td>\n",
       "      <td></td>\n",
       "    </tr>\n",
       "    <tr>\n",
       "      <th>8</th>\n",
       "      <td></td>\n",
       "      <td></td>\n",
       "      <td></td>\n",
       "    </tr>\n",
       "    <tr>\n",
       "      <th>9</th>\n",
       "      <td></td>\n",
       "      <td></td>\n",
       "      <td></td>\n",
       "    </tr>\n",
       "  </tbody>\n",
       "</table>\n",
       "</div>"
      ],
      "text/plain": [
       "  Rating          Review                                        Full_Review\n",
       "0      5  Simply awesome  Really satisfied with the Product I received.....\n",
       "1      5       Brilliant  The Best Phone for the Money\\n\\nThe iPhone 11 ...\n",
       "2      5       Fabulous!  This is my first iOS phone. I am very happy wi...\n",
       "3                                                                          \n",
       "4                                                                          \n",
       "5                                                                          \n",
       "6                                                                          \n",
       "7                                                                          \n",
       "8                                                                          \n",
       "9                                                                          "
      ]
     },
     "execution_count": 47,
     "metadata": {},
     "output_type": "execute_result"
    }
   ],
   "source": [
    "Iphone"
   ]
  },
  {
   "cell_type": "markdown",
   "id": "2100df8d",
   "metadata": {},
   "source": [
    "Q.No.8 Scrape data for first 100 sneakers you find when you visit flipkart.com and search for “sneakers” in the search field.\n",
    "You have to scrape 4 attributes of each sneaker :\n",
    "1. Brand\n",
    "2. Product Description\n",
    "3. Price\n",
    "4. discount %"
   ]
  },
  {
   "cell_type": "code",
   "execution_count": 55,
   "id": "008551d9",
   "metadata": {},
   "outputs": [],
   "source": [
    "url = 'https://www.flipkart.com/'\n",
    "driver.get(url)"
   ]
  },
  {
   "cell_type": "code",
   "execution_count": 56,
   "id": "f688569d",
   "metadata": {},
   "outputs": [
    {
     "data": {
      "text/plain": [
       "[<selenium.webdriver.remote.webelement.WebElement (session=\"beca6339678df2e4f5bef88bd6af475c\", element=\"97f5a715-2774-4f35-b11a-b771572d90cd\")>,\n",
       " <selenium.webdriver.remote.webelement.WebElement (session=\"beca6339678df2e4f5bef88bd6af475c\", element=\"7fcb9278-0369-4103-8871-69ab8d40face\")>,\n",
       " <selenium.webdriver.remote.webelement.WebElement (session=\"beca6339678df2e4f5bef88bd6af475c\", element=\"a54f84d6-85f3-4706-b5ab-a43212b62c31\")>,\n",
       " <selenium.webdriver.remote.webelement.WebElement (session=\"beca6339678df2e4f5bef88bd6af475c\", element=\"6e58b178-80bd-40b6-b664-2e3107cc463d\")>,\n",
       " <selenium.webdriver.remote.webelement.WebElement (session=\"beca6339678df2e4f5bef88bd6af475c\", element=\"c1791fa5-fd34-4a7d-9825-6df777fa595c\")>,\n",
       " <selenium.webdriver.remote.webelement.WebElement (session=\"beca6339678df2e4f5bef88bd6af475c\", element=\"1fa5db4c-098c-4465-b40d-3d0577ae8e44\")>,\n",
       " <selenium.webdriver.remote.webelement.WebElement (session=\"beca6339678df2e4f5bef88bd6af475c\", element=\"edffe47b-d8ec-4973-9c0e-168ac6f1a2c1\")>,\n",
       " <selenium.webdriver.remote.webelement.WebElement (session=\"beca6339678df2e4f5bef88bd6af475c\", element=\"94cb6e3e-1934-4f3f-b502-d5dd87d41ecb\")>,\n",
       " <selenium.webdriver.remote.webelement.WebElement (session=\"beca6339678df2e4f5bef88bd6af475c\", element=\"d26386d3-812b-4631-a84c-8e8cefdc0322\")>,\n",
       " <selenium.webdriver.remote.webelement.WebElement (session=\"beca6339678df2e4f5bef88bd6af475c\", element=\"64aee39f-e05f-48d7-8cce-84b0fc1d9989\")>,\n",
       " <selenium.webdriver.remote.webelement.WebElement (session=\"beca6339678df2e4f5bef88bd6af475c\", element=\"2073cc51-1fff-4d57-962d-37489d9492e1\")>,\n",
       " <selenium.webdriver.remote.webelement.WebElement (session=\"beca6339678df2e4f5bef88bd6af475c\", element=\"ef730a94-edd8-4f22-b827-459e81a971f2\")>,\n",
       " <selenium.webdriver.remote.webelement.WebElement (session=\"beca6339678df2e4f5bef88bd6af475c\", element=\"22b10404-9755-4cc1-aafd-bd477236e3ce\")>,\n",
       " <selenium.webdriver.remote.webelement.WebElement (session=\"beca6339678df2e4f5bef88bd6af475c\", element=\"a2bfd778-942e-484c-bf80-bc4fa314d787\")>,\n",
       " <selenium.webdriver.remote.webelement.WebElement (session=\"beca6339678df2e4f5bef88bd6af475c\", element=\"cf3426cd-d9f7-4c06-b1cb-fb231299d7c8\")>,\n",
       " <selenium.webdriver.remote.webelement.WebElement (session=\"beca6339678df2e4f5bef88bd6af475c\", element=\"90f1d5b6-355b-45aa-8a74-cbdcc336984b\")>,\n",
       " <selenium.webdriver.remote.webelement.WebElement (session=\"beca6339678df2e4f5bef88bd6af475c\", element=\"7fc62d83-42a1-4280-9794-5d80e58c4538\")>,\n",
       " <selenium.webdriver.remote.webelement.WebElement (session=\"beca6339678df2e4f5bef88bd6af475c\", element=\"03b08bac-1677-423b-babb-38212545ad3c\")>,\n",
       " <selenium.webdriver.remote.webelement.WebElement (session=\"beca6339678df2e4f5bef88bd6af475c\", element=\"175fc0af-cdde-43d7-aa42-e6c696ee9cd2\")>,\n",
       " <selenium.webdriver.remote.webelement.WebElement (session=\"beca6339678df2e4f5bef88bd6af475c\", element=\"5fc6a0a8-c7dc-4a39-bad0-624c2a84c27a\")>,\n",
       " <selenium.webdriver.remote.webelement.WebElement (session=\"beca6339678df2e4f5bef88bd6af475c\", element=\"de9fa117-5fe4-43ac-a1d8-e760d35d765e\")>,\n",
       " <selenium.webdriver.remote.webelement.WebElement (session=\"beca6339678df2e4f5bef88bd6af475c\", element=\"757e8c6d-db36-4ec8-8853-231b3ad968e7\")>,\n",
       " <selenium.webdriver.remote.webelement.WebElement (session=\"beca6339678df2e4f5bef88bd6af475c\", element=\"89f9a412-ac5f-4868-b419-9b8db773b1aa\")>,\n",
       " <selenium.webdriver.remote.webelement.WebElement (session=\"beca6339678df2e4f5bef88bd6af475c\", element=\"b339cb67-7c0a-4c7a-8d2a-41f76458c35b\")>,\n",
       " <selenium.webdriver.remote.webelement.WebElement (session=\"beca6339678df2e4f5bef88bd6af475c\", element=\"55ee4a7b-8818-4f05-bf9e-ae940ebcdd57\")>,\n",
       " <selenium.webdriver.remote.webelement.WebElement (session=\"beca6339678df2e4f5bef88bd6af475c\", element=\"954ed7cb-5579-4c91-b4d3-f32b84e6ffa3\")>,\n",
       " <selenium.webdriver.remote.webelement.WebElement (session=\"beca6339678df2e4f5bef88bd6af475c\", element=\"1a085050-f5b0-486f-8433-296d741d7f9a\")>,\n",
       " <selenium.webdriver.remote.webelement.WebElement (session=\"beca6339678df2e4f5bef88bd6af475c\", element=\"0d2b6cfb-9d5d-432c-b2de-555f8862caec\")>,\n",
       " <selenium.webdriver.remote.webelement.WebElement (session=\"beca6339678df2e4f5bef88bd6af475c\", element=\"2fbc2f94-1102-4f2b-b791-c894c1e93de7\")>,\n",
       " <selenium.webdriver.remote.webelement.WebElement (session=\"beca6339678df2e4f5bef88bd6af475c\", element=\"08ffc4d3-4da1-4515-875c-ae5f980d85cd\")>,\n",
       " <selenium.webdriver.remote.webelement.WebElement (session=\"beca6339678df2e4f5bef88bd6af475c\", element=\"3688160b-995d-49d2-a66a-e5f73a24d46b\")>,\n",
       " <selenium.webdriver.remote.webelement.WebElement (session=\"beca6339678df2e4f5bef88bd6af475c\", element=\"7115ab26-cd1a-49ce-9181-bde1bbd0505f\")>,\n",
       " <selenium.webdriver.remote.webelement.WebElement (session=\"beca6339678df2e4f5bef88bd6af475c\", element=\"1b6dc8ea-14bf-4ccf-86ca-e6d32e70ca39\")>,\n",
       " <selenium.webdriver.remote.webelement.WebElement (session=\"beca6339678df2e4f5bef88bd6af475c\", element=\"0b786943-a852-430f-8445-1818cb435c64\")>,\n",
       " <selenium.webdriver.remote.webelement.WebElement (session=\"beca6339678df2e4f5bef88bd6af475c\", element=\"f8cf099b-f7c9-4a81-a784-c7266ee1b756\")>,\n",
       " <selenium.webdriver.remote.webelement.WebElement (session=\"beca6339678df2e4f5bef88bd6af475c\", element=\"a045d72f-211e-4433-96bc-81571dcc940c\")>,\n",
       " <selenium.webdriver.remote.webelement.WebElement (session=\"beca6339678df2e4f5bef88bd6af475c\", element=\"0a0a2400-1a40-4acb-b0f0-d19e27e5e5e6\")>,\n",
       " <selenium.webdriver.remote.webelement.WebElement (session=\"beca6339678df2e4f5bef88bd6af475c\", element=\"7b56c4a1-4790-47d2-97be-c5fd466efdb5\")>,\n",
       " <selenium.webdriver.remote.webelement.WebElement (session=\"beca6339678df2e4f5bef88bd6af475c\", element=\"3523509d-14ef-477c-8578-b8c2bc230029\")>,\n",
       " <selenium.webdriver.remote.webelement.WebElement (session=\"beca6339678df2e4f5bef88bd6af475c\", element=\"6e384c2e-a79d-4554-b94b-7e4b5fcb0e1c\")>]"
      ]
     },
     "execution_count": 56,
     "metadata": {},
     "output_type": "execute_result"
    }
   ],
   "source": [
    "Brand_name=driver.find_elements_by_xpath(\"//div[@class='_2WkVRV']\")\n",
    "Brand_name"
   ]
  },
  {
   "cell_type": "code",
   "execution_count": 57,
   "id": "b7ec273a",
   "metadata": {},
   "outputs": [
    {
     "data": {
      "text/plain": [
       "['PUMA',\n",
       " 'NIKE',\n",
       " 'PUMA',\n",
       " 'Magnolia',\n",
       " 'Shoes Bank',\n",
       " 'CAMPUS',\n",
       " 'PUMA',\n",
       " 'PUMA',\n",
       " 'bluemaker',\n",
       " 'Numenzo',\n",
       " 'PUMA',\n",
       " 'PUMA',\n",
       " 'Chevit',\n",
       " 'Numenzo',\n",
       " 'DUCATI',\n",
       " 'PUMA',\n",
       " 'NIKE',\n",
       " 'ASTEROID',\n",
       " 'Red Rose',\n",
       " 'Bond Street By Red Tape',\n",
       " 'FILA',\n",
       " 'ADIDAS',\n",
       " 'Robbie jones',\n",
       " 'Kraasa',\n",
       " 'ADIDAS',\n",
       " 'ADIDAS',\n",
       " 'ADIDAS',\n",
       " 'SCATCHITE',\n",
       " 'BRUTON',\n",
       " 'FILA',\n",
       " 'ADIDAS',\n",
       " 'PUMA',\n",
       " 'Chevit',\n",
       " 'PEHANOSA',\n",
       " 'PUMA',\n",
       " 'ADIDAS',\n",
       " 'ADIDAS',\n",
       " 'believe',\n",
       " 'World Wear Footwear',\n",
       " 'SPARX']"
      ]
     },
     "execution_count": 57,
     "metadata": {},
     "output_type": "execute_result"
    }
   ],
   "source": [
    "Brand_names=[]\n",
    "for i in Brand_name[:100]:\n",
    "    Brand_names.append(i.text)\n",
    "Brand_names"
   ]
  },
  {
   "cell_type": "code",
   "execution_count": 58,
   "id": "cf78a180",
   "metadata": {},
   "outputs": [
    {
     "data": {
      "text/plain": [
       "[<selenium.webdriver.remote.webelement.WebElement (session=\"beca6339678df2e4f5bef88bd6af475c\", element=\"c112c78b-520d-4a7d-aad9-0f1a00631271\")>,\n",
       " <selenium.webdriver.remote.webelement.WebElement (session=\"beca6339678df2e4f5bef88bd6af475c\", element=\"90ad42e2-83fe-447b-bb7f-9acc72b31847\")>,\n",
       " <selenium.webdriver.remote.webelement.WebElement (session=\"beca6339678df2e4f5bef88bd6af475c\", element=\"c5ed993c-b99f-4453-95e2-588d3d32544b\")>,\n",
       " <selenium.webdriver.remote.webelement.WebElement (session=\"beca6339678df2e4f5bef88bd6af475c\", element=\"2dbe9619-f908-40f1-a70f-384d38f76d87\")>,\n",
       " <selenium.webdriver.remote.webelement.WebElement (session=\"beca6339678df2e4f5bef88bd6af475c\", element=\"1f45e3b2-92a6-4c4a-9208-26e2ea555f50\")>,\n",
       " <selenium.webdriver.remote.webelement.WebElement (session=\"beca6339678df2e4f5bef88bd6af475c\", element=\"ee2ef986-e43c-4176-8f7c-12cd8c87f51d\")>,\n",
       " <selenium.webdriver.remote.webelement.WebElement (session=\"beca6339678df2e4f5bef88bd6af475c\", element=\"99d6849c-b469-4b85-9791-c1961d2b5dd2\")>,\n",
       " <selenium.webdriver.remote.webelement.WebElement (session=\"beca6339678df2e4f5bef88bd6af475c\", element=\"727881a1-c3c4-4444-995c-9ab05db0e291\")>,\n",
       " <selenium.webdriver.remote.webelement.WebElement (session=\"beca6339678df2e4f5bef88bd6af475c\", element=\"cf2f9123-61c8-4157-810d-fd561b950d40\")>,\n",
       " <selenium.webdriver.remote.webelement.WebElement (session=\"beca6339678df2e4f5bef88bd6af475c\", element=\"f2eb77dc-d99b-4a96-889e-a9af0bac5770\")>,\n",
       " <selenium.webdriver.remote.webelement.WebElement (session=\"beca6339678df2e4f5bef88bd6af475c\", element=\"fda80884-732e-40b0-b15b-0ca44c064a00\")>,\n",
       " <selenium.webdriver.remote.webelement.WebElement (session=\"beca6339678df2e4f5bef88bd6af475c\", element=\"f22c5d8e-05c6-434a-bd42-1c17fa8193b8\")>,\n",
       " <selenium.webdriver.remote.webelement.WebElement (session=\"beca6339678df2e4f5bef88bd6af475c\", element=\"e0b9a755-f979-44b6-b17f-4dff8d8eea22\")>,\n",
       " <selenium.webdriver.remote.webelement.WebElement (session=\"beca6339678df2e4f5bef88bd6af475c\", element=\"9290e41a-cd63-4e3c-9237-c292cb23a3d2\")>,\n",
       " <selenium.webdriver.remote.webelement.WebElement (session=\"beca6339678df2e4f5bef88bd6af475c\", element=\"5c08beed-52ba-420c-bc4c-6e4d65d782e6\")>,\n",
       " <selenium.webdriver.remote.webelement.WebElement (session=\"beca6339678df2e4f5bef88bd6af475c\", element=\"82f91418-2077-4dd1-994f-d481cac010e1\")>,\n",
       " <selenium.webdriver.remote.webelement.WebElement (session=\"beca6339678df2e4f5bef88bd6af475c\", element=\"8d4406d2-9970-4695-a58b-71af57eb6cd1\")>,\n",
       " <selenium.webdriver.remote.webelement.WebElement (session=\"beca6339678df2e4f5bef88bd6af475c\", element=\"3b3b4029-2f1b-49b7-bc16-9441981379d9\")>,\n",
       " <selenium.webdriver.remote.webelement.WebElement (session=\"beca6339678df2e4f5bef88bd6af475c\", element=\"bd21d627-3731-4561-87e3-5f3ffdf0e498\")>,\n",
       " <selenium.webdriver.remote.webelement.WebElement (session=\"beca6339678df2e4f5bef88bd6af475c\", element=\"0eff3dd1-61ce-4e40-bc2d-68a1da173329\")>,\n",
       " <selenium.webdriver.remote.webelement.WebElement (session=\"beca6339678df2e4f5bef88bd6af475c\", element=\"6b07e372-eb98-4433-99d0-d6f65fb2570f\")>,\n",
       " <selenium.webdriver.remote.webelement.WebElement (session=\"beca6339678df2e4f5bef88bd6af475c\", element=\"7ac087f0-842b-4ac8-987f-7fdeb4369558\")>,\n",
       " <selenium.webdriver.remote.webelement.WebElement (session=\"beca6339678df2e4f5bef88bd6af475c\", element=\"d6f43d6c-0afb-4d4e-a535-11399c7277f7\")>,\n",
       " <selenium.webdriver.remote.webelement.WebElement (session=\"beca6339678df2e4f5bef88bd6af475c\", element=\"d6b77867-0fc9-412b-b738-20892d5fdb4c\")>,\n",
       " <selenium.webdriver.remote.webelement.WebElement (session=\"beca6339678df2e4f5bef88bd6af475c\", element=\"163a263e-8933-434b-9160-c96dcb69cd85\")>,\n",
       " <selenium.webdriver.remote.webelement.WebElement (session=\"beca6339678df2e4f5bef88bd6af475c\", element=\"dd3b5c34-4a66-426c-b1e4-247d11648b76\")>,\n",
       " <selenium.webdriver.remote.webelement.WebElement (session=\"beca6339678df2e4f5bef88bd6af475c\", element=\"a4e7fea1-4d4c-4de4-88aa-e80c49d9876b\")>,\n",
       " <selenium.webdriver.remote.webelement.WebElement (session=\"beca6339678df2e4f5bef88bd6af475c\", element=\"c9a1ca74-78e9-4edb-a4ce-1b3031f70a72\")>,\n",
       " <selenium.webdriver.remote.webelement.WebElement (session=\"beca6339678df2e4f5bef88bd6af475c\", element=\"b6fa245d-99ad-43ac-b24a-a7d21e2d396c\")>,\n",
       " <selenium.webdriver.remote.webelement.WebElement (session=\"beca6339678df2e4f5bef88bd6af475c\", element=\"c85fb83b-ec3c-4b06-9ac6-118aa9f7b235\")>,\n",
       " <selenium.webdriver.remote.webelement.WebElement (session=\"beca6339678df2e4f5bef88bd6af475c\", element=\"8d5e241b-8041-4d23-b2ed-b8bf216b76f6\")>,\n",
       " <selenium.webdriver.remote.webelement.WebElement (session=\"beca6339678df2e4f5bef88bd6af475c\", element=\"55bb1adb-a2e6-426a-be90-acdaaa2bded5\")>,\n",
       " <selenium.webdriver.remote.webelement.WebElement (session=\"beca6339678df2e4f5bef88bd6af475c\", element=\"c22d4f24-1629-432c-accf-97164e191965\")>,\n",
       " <selenium.webdriver.remote.webelement.WebElement (session=\"beca6339678df2e4f5bef88bd6af475c\", element=\"bf8adeb3-406c-48f4-baf8-e2ce336dd826\")>,\n",
       " <selenium.webdriver.remote.webelement.WebElement (session=\"beca6339678df2e4f5bef88bd6af475c\", element=\"a39da0f9-a5f1-43f2-b58a-f1a78254321b\")>,\n",
       " <selenium.webdriver.remote.webelement.WebElement (session=\"beca6339678df2e4f5bef88bd6af475c\", element=\"4a021faa-17a1-4848-87ae-56e0e02a4e06\")>,\n",
       " <selenium.webdriver.remote.webelement.WebElement (session=\"beca6339678df2e4f5bef88bd6af475c\", element=\"045b43f4-cbb2-4030-8944-f50df8609483\")>,\n",
       " <selenium.webdriver.remote.webelement.WebElement (session=\"beca6339678df2e4f5bef88bd6af475c\", element=\"b176d39f-4ef6-471f-97da-2d556b44b4d5\")>,\n",
       " <selenium.webdriver.remote.webelement.WebElement (session=\"beca6339678df2e4f5bef88bd6af475c\", element=\"d45e1de7-d275-4fb5-a993-f909373744e2\")>]"
      ]
     },
     "execution_count": 58,
     "metadata": {},
     "output_type": "execute_result"
    }
   ],
   "source": [
    "Product_description=driver.find_elements_by_xpath(\"//a[@class='IRpwTa']\")\n",
    "Product_description"
   ]
  },
  {
   "cell_type": "code",
   "execution_count": 59,
   "id": "d5112ca9",
   "metadata": {},
   "outputs": [
    {
     "data": {
      "text/plain": [
       "['Acrux IDP Sneakers For Men',\n",
       " 'Court Royale Shoe Sneakers For Men',\n",
       " 'Corode IDP Sneakers For Men',\n",
       " 'Sneakers For Men',\n",
       " \"White Sneaker For Men's/Boy's Sneakers For Men\",\n",
       " 'Cape IDP Sneakers For Men',\n",
       " 'Flex Generation V1 IDP Sneakers For Men',\n",
       " 'casual for men (blue 06) Sneakers For Men',\n",
       " 'Sneakers For Men',\n",
       " 'Trenzo II IDP Sneakers For Men',\n",
       " '90s Runner Nu Wave Sig Sneakers For Men',\n",
       " 'Unique & Perfect Collection Combo Pack of 02 Shoes for ...',\n",
       " 'Sneakers For Men',\n",
       " 'Sneakers For Men',\n",
       " 'Poise Perf IDP Sneakers For Men',\n",
       " 'Sb Charge Slr Sneakers For Men',\n",
       " \"Original Luxury Branded Fashionable Men's Casual Walkin...\",\n",
       " 'Sneakers For Men',\n",
       " 'Sneakers For Men',\n",
       " 'EMAN Sneakers For Men',\n",
       " 'Vs Pace Sneakers For Men',\n",
       " 'Sneakers For Men',\n",
       " 'Series 7 Sneakers For Men',\n",
       " 'Breaknet Sneakers For Men',\n",
       " 'Advantage Sneakers For Men',\n",
       " 'ADISET 1.0 M Sneakers For Men',\n",
       " 'Sneakers Sneakers For Men',\n",
       " 'Combo Pack Of 4 Casual Shoes Loafer Shoes Sneakers For ...',\n",
       " 'TECLA Sneakers For Men',\n",
       " 'ADISET 1.0 M Sneakers For Men',\n",
       " 'Pace Slip On V2 IDP Sneakers For Men',\n",
       " 'Super Stylish & Trendy Combo Pack of 02 Pairs Sneakers ...',\n",
       " 'Sneakers For Men',\n",
       " 'Puma Smash v2 Mid L Sneakers For Men',\n",
       " 'Vs Pace Sneakers For Men',\n",
       " 'Vs Pace Sneakers For Men',\n",
       " 'Sneakers for men(black_6) Sneakers For Men',\n",
       " '5011-Latest Collection Stylish Casual Loafer Sneakers S...',\n",
       " 'SD-323 Sneakers For Men']"
      ]
     },
     "execution_count": 59,
     "metadata": {},
     "output_type": "execute_result"
    }
   ],
   "source": [
    "Products_description=[]\n",
    "for i in Product_description[:100]:\n",
    "    Products_description.append(i.text)\n",
    "Products_description"
   ]
  },
  {
   "cell_type": "code",
   "execution_count": 60,
   "id": "c71badb7",
   "metadata": {},
   "outputs": [
    {
     "data": {
      "text/plain": [
       "[<selenium.webdriver.remote.webelement.WebElement (session=\"beca6339678df2e4f5bef88bd6af475c\", element=\"ec1b55cb-bc31-4f12-bddf-12b6ae02c8b7\")>,\n",
       " <selenium.webdriver.remote.webelement.WebElement (session=\"beca6339678df2e4f5bef88bd6af475c\", element=\"e38826e5-8e5f-402a-9a49-8d5f8465a378\")>,\n",
       " <selenium.webdriver.remote.webelement.WebElement (session=\"beca6339678df2e4f5bef88bd6af475c\", element=\"678dc160-500f-41e4-914f-c88020ee6da6\")>,\n",
       " <selenium.webdriver.remote.webelement.WebElement (session=\"beca6339678df2e4f5bef88bd6af475c\", element=\"385b3591-a79d-4268-8cb6-c1052727039b\")>,\n",
       " <selenium.webdriver.remote.webelement.WebElement (session=\"beca6339678df2e4f5bef88bd6af475c\", element=\"ab04ac91-5b4a-49d2-ba02-0b82550cf9e2\")>,\n",
       " <selenium.webdriver.remote.webelement.WebElement (session=\"beca6339678df2e4f5bef88bd6af475c\", element=\"1b239ee7-9e9c-4ad3-a496-564a4efb43d8\")>,\n",
       " <selenium.webdriver.remote.webelement.WebElement (session=\"beca6339678df2e4f5bef88bd6af475c\", element=\"8b268930-7de7-4c41-854b-1d88e4b60e74\")>,\n",
       " <selenium.webdriver.remote.webelement.WebElement (session=\"beca6339678df2e4f5bef88bd6af475c\", element=\"b6d61adf-ccf8-4bca-9314-aa1a757cb464\")>,\n",
       " <selenium.webdriver.remote.webelement.WebElement (session=\"beca6339678df2e4f5bef88bd6af475c\", element=\"dbcc7e4d-36a9-467f-b0e0-3534cb14ec62\")>,\n",
       " <selenium.webdriver.remote.webelement.WebElement (session=\"beca6339678df2e4f5bef88bd6af475c\", element=\"ba1acc1a-1053-44d3-9e29-57e87c9c965f\")>,\n",
       " <selenium.webdriver.remote.webelement.WebElement (session=\"beca6339678df2e4f5bef88bd6af475c\", element=\"4318e629-ed37-45b2-b160-ac2b607de4e4\")>,\n",
       " <selenium.webdriver.remote.webelement.WebElement (session=\"beca6339678df2e4f5bef88bd6af475c\", element=\"24c9e6e5-b155-4942-ab5a-6576d90e5168\")>,\n",
       " <selenium.webdriver.remote.webelement.WebElement (session=\"beca6339678df2e4f5bef88bd6af475c\", element=\"7e5684fd-51d4-47d5-9b49-8598cee2f77d\")>,\n",
       " <selenium.webdriver.remote.webelement.WebElement (session=\"beca6339678df2e4f5bef88bd6af475c\", element=\"1dcb7682-f2fb-4d44-808a-d963c52a9013\")>,\n",
       " <selenium.webdriver.remote.webelement.WebElement (session=\"beca6339678df2e4f5bef88bd6af475c\", element=\"8d8237b8-daf6-4034-a5ff-aae5064ca861\")>,\n",
       " <selenium.webdriver.remote.webelement.WebElement (session=\"beca6339678df2e4f5bef88bd6af475c\", element=\"9833078d-1d08-4c63-9419-b821e7b87cc3\")>,\n",
       " <selenium.webdriver.remote.webelement.WebElement (session=\"beca6339678df2e4f5bef88bd6af475c\", element=\"be987789-a57d-4712-bf89-377d360b94af\")>,\n",
       " <selenium.webdriver.remote.webelement.WebElement (session=\"beca6339678df2e4f5bef88bd6af475c\", element=\"7be49705-e2fa-444e-8e0a-8c1f47175e11\")>,\n",
       " <selenium.webdriver.remote.webelement.WebElement (session=\"beca6339678df2e4f5bef88bd6af475c\", element=\"574f731e-4d9e-47f9-8373-833be1f53cb3\")>,\n",
       " <selenium.webdriver.remote.webelement.WebElement (session=\"beca6339678df2e4f5bef88bd6af475c\", element=\"339544a0-f6a1-42c2-b0a1-aaed93f316db\")>,\n",
       " <selenium.webdriver.remote.webelement.WebElement (session=\"beca6339678df2e4f5bef88bd6af475c\", element=\"7b9b77bb-facf-449f-aa57-d2bf157b3db2\")>,\n",
       " <selenium.webdriver.remote.webelement.WebElement (session=\"beca6339678df2e4f5bef88bd6af475c\", element=\"c7cda9b6-899f-402d-a243-5856110da818\")>,\n",
       " <selenium.webdriver.remote.webelement.WebElement (session=\"beca6339678df2e4f5bef88bd6af475c\", element=\"1cfbf7f6-714c-45e4-bba0-900694943bd2\")>,\n",
       " <selenium.webdriver.remote.webelement.WebElement (session=\"beca6339678df2e4f5bef88bd6af475c\", element=\"6ac37be0-1888-42ca-bfdc-60c8baf9a6f3\")>,\n",
       " <selenium.webdriver.remote.webelement.WebElement (session=\"beca6339678df2e4f5bef88bd6af475c\", element=\"596ffd8e-8214-4a9d-9a23-4c19192381e1\")>,\n",
       " <selenium.webdriver.remote.webelement.WebElement (session=\"beca6339678df2e4f5bef88bd6af475c\", element=\"769532c4-6f8f-44b4-afc3-9e28ba9506c1\")>,\n",
       " <selenium.webdriver.remote.webelement.WebElement (session=\"beca6339678df2e4f5bef88bd6af475c\", element=\"ca05934f-708f-4cc1-bffa-bdd3cb2c4209\")>,\n",
       " <selenium.webdriver.remote.webelement.WebElement (session=\"beca6339678df2e4f5bef88bd6af475c\", element=\"ad82ebd4-9f86-42c2-a2e5-739ed5b1f006\")>,\n",
       " <selenium.webdriver.remote.webelement.WebElement (session=\"beca6339678df2e4f5bef88bd6af475c\", element=\"d06072d2-ac6d-4ecc-b042-24cd72dd43c7\")>,\n",
       " <selenium.webdriver.remote.webelement.WebElement (session=\"beca6339678df2e4f5bef88bd6af475c\", element=\"f50ff0fc-7b77-4713-ab10-38b25d5e1dd9\")>,\n",
       " <selenium.webdriver.remote.webelement.WebElement (session=\"beca6339678df2e4f5bef88bd6af475c\", element=\"8e29f1f4-920f-46c3-8668-57e4918769fd\")>,\n",
       " <selenium.webdriver.remote.webelement.WebElement (session=\"beca6339678df2e4f5bef88bd6af475c\", element=\"4dc0fe49-ee9b-45e6-bf31-7c5aa469bcb3\")>,\n",
       " <selenium.webdriver.remote.webelement.WebElement (session=\"beca6339678df2e4f5bef88bd6af475c\", element=\"a22ae8b8-5db7-48eb-83d5-144404f1fb30\")>,\n",
       " <selenium.webdriver.remote.webelement.WebElement (session=\"beca6339678df2e4f5bef88bd6af475c\", element=\"884d1bd1-daee-4e87-84bc-ee8f4f345f27\")>,\n",
       " <selenium.webdriver.remote.webelement.WebElement (session=\"beca6339678df2e4f5bef88bd6af475c\", element=\"645deb61-5abd-47d5-80cc-c42c28490cf4\")>,\n",
       " <selenium.webdriver.remote.webelement.WebElement (session=\"beca6339678df2e4f5bef88bd6af475c\", element=\"15c793a5-50d3-47e6-b4dd-265f5cfd4ea6\")>,\n",
       " <selenium.webdriver.remote.webelement.WebElement (session=\"beca6339678df2e4f5bef88bd6af475c\", element=\"d026fcd2-e68c-4f5e-8b2e-95ede78cb8a6\")>,\n",
       " <selenium.webdriver.remote.webelement.WebElement (session=\"beca6339678df2e4f5bef88bd6af475c\", element=\"b0c882cc-6527-4a32-94d3-c076eab14926\")>,\n",
       " <selenium.webdriver.remote.webelement.WebElement (session=\"beca6339678df2e4f5bef88bd6af475c\", element=\"defe4889-1a49-46ca-ba90-af37ac862fa0\")>,\n",
       " <selenium.webdriver.remote.webelement.WebElement (session=\"beca6339678df2e4f5bef88bd6af475c\", element=\"3b0eb8a0-df76-4fc8-80ad-38d63c80b35e\")>]"
      ]
     },
     "execution_count": 60,
     "metadata": {},
     "output_type": "execute_result"
    }
   ],
   "source": [
    "Price_list=driver.find_elements_by_xpath(\"//div[@class='_30jeq3']\")\n",
    "Price_list"
   ]
  },
  {
   "cell_type": "code",
   "execution_count": 61,
   "id": "3364d70d",
   "metadata": {},
   "outputs": [
    {
     "data": {
      "text/plain": [
       "['₹1,350',\n",
       " '₹2,513',\n",
       " '₹1,325',\n",
       " '₹356',\n",
       " '₹331',\n",
       " '₹1,329',\n",
       " '₹1,330',\n",
       " '₹1,294',\n",
       " '₹399',\n",
       " '₹426',\n",
       " '₹1,911',\n",
       " '₹2,212',\n",
       " '₹420',\n",
       " '₹378',\n",
       " '₹1,219',\n",
       " '₹990',\n",
       " '₹2,555',\n",
       " '₹499',\n",
       " '₹299',\n",
       " '₹798',\n",
       " '₹951',\n",
       " '₹1,862',\n",
       " '₹474',\n",
       " '₹416',\n",
       " '₹2,039',\n",
       " '₹2,611',\n",
       " '₹1,678',\n",
       " '₹398',\n",
       " '₹399',\n",
       " '₹1,247',\n",
       " '₹1,670',\n",
       " '₹1,355',\n",
       " '₹536',\n",
       " '₹424',\n",
       " '₹1,710',\n",
       " '₹1,678',\n",
       " '₹1,943',\n",
       " '₹399',\n",
       " '₹240',\n",
       " '₹619']"
      ]
     },
     "execution_count": 61,
     "metadata": {},
     "output_type": "execute_result"
    }
   ],
   "source": [
    "Price_lists=[]\n",
    "for i in Price_list[:100]:\n",
    "    Price_lists.append(i.text)\n",
    "Price_lists"
   ]
  },
  {
   "cell_type": "code",
   "execution_count": 62,
   "id": "0dae204f",
   "metadata": {},
   "outputs": [
    {
     "data": {
      "text/plain": [
       "[<selenium.webdriver.remote.webelement.WebElement (session=\"beca6339678df2e4f5bef88bd6af475c\", element=\"6d5575e4-579a-4803-b7de-f6ab520bb913\")>,\n",
       " <selenium.webdriver.remote.webelement.WebElement (session=\"beca6339678df2e4f5bef88bd6af475c\", element=\"9fc1c08b-a0a0-4e04-9aac-a4955a7df10a\")>,\n",
       " <selenium.webdriver.remote.webelement.WebElement (session=\"beca6339678df2e4f5bef88bd6af475c\", element=\"013a5a8f-8dfb-471d-8de9-3b096de3d28f\")>,\n",
       " <selenium.webdriver.remote.webelement.WebElement (session=\"beca6339678df2e4f5bef88bd6af475c\", element=\"96ff9405-e4c1-457a-bcb7-c9ac9e85c25e\")>,\n",
       " <selenium.webdriver.remote.webelement.WebElement (session=\"beca6339678df2e4f5bef88bd6af475c\", element=\"9e703881-e65a-476b-b72a-0ef833885b04\")>,\n",
       " <selenium.webdriver.remote.webelement.WebElement (session=\"beca6339678df2e4f5bef88bd6af475c\", element=\"5c10ca18-205f-48d3-980a-565656414d83\")>,\n",
       " <selenium.webdriver.remote.webelement.WebElement (session=\"beca6339678df2e4f5bef88bd6af475c\", element=\"e702cedb-b7da-416a-b7f3-c71a5b7633a0\")>,\n",
       " <selenium.webdriver.remote.webelement.WebElement (session=\"beca6339678df2e4f5bef88bd6af475c\", element=\"68959566-dbf7-436d-af0e-d557de11c974\")>,\n",
       " <selenium.webdriver.remote.webelement.WebElement (session=\"beca6339678df2e4f5bef88bd6af475c\", element=\"257d7125-2260-4bfd-ad1a-553d8935ebdc\")>,\n",
       " <selenium.webdriver.remote.webelement.WebElement (session=\"beca6339678df2e4f5bef88bd6af475c\", element=\"25d55cf1-3bc9-4f14-8e65-2cddf639b02f\")>,\n",
       " <selenium.webdriver.remote.webelement.WebElement (session=\"beca6339678df2e4f5bef88bd6af475c\", element=\"a087bd71-a317-41d8-a54c-679af1ee31e9\")>,\n",
       " <selenium.webdriver.remote.webelement.WebElement (session=\"beca6339678df2e4f5bef88bd6af475c\", element=\"0fc27625-5552-4e67-be48-3747da784ea3\")>,\n",
       " <selenium.webdriver.remote.webelement.WebElement (session=\"beca6339678df2e4f5bef88bd6af475c\", element=\"4b98c0f2-4c60-40e5-a440-8fe6c5421468\")>,\n",
       " <selenium.webdriver.remote.webelement.WebElement (session=\"beca6339678df2e4f5bef88bd6af475c\", element=\"9310e432-fab0-4481-a902-65d13ff7a751\")>,\n",
       " <selenium.webdriver.remote.webelement.WebElement (session=\"beca6339678df2e4f5bef88bd6af475c\", element=\"7a68d6d8-7cc5-41dc-bc33-5e1417f097e4\")>,\n",
       " <selenium.webdriver.remote.webelement.WebElement (session=\"beca6339678df2e4f5bef88bd6af475c\", element=\"7fd95d3c-a56b-483b-8cf8-16be80d6375a\")>,\n",
       " <selenium.webdriver.remote.webelement.WebElement (session=\"beca6339678df2e4f5bef88bd6af475c\", element=\"6a5e9cb4-0578-475a-a133-a8021ff1903a\")>,\n",
       " <selenium.webdriver.remote.webelement.WebElement (session=\"beca6339678df2e4f5bef88bd6af475c\", element=\"2d6b1269-6d66-465c-bd7b-849da8f687ea\")>,\n",
       " <selenium.webdriver.remote.webelement.WebElement (session=\"beca6339678df2e4f5bef88bd6af475c\", element=\"295a588b-cf97-42bf-b646-cd2f22b15966\")>,\n",
       " <selenium.webdriver.remote.webelement.WebElement (session=\"beca6339678df2e4f5bef88bd6af475c\", element=\"8b98eb67-1907-4e5d-9f51-9191e953ad47\")>,\n",
       " <selenium.webdriver.remote.webelement.WebElement (session=\"beca6339678df2e4f5bef88bd6af475c\", element=\"13632663-5830-4107-8aa5-737dc60b8101\")>,\n",
       " <selenium.webdriver.remote.webelement.WebElement (session=\"beca6339678df2e4f5bef88bd6af475c\", element=\"af866df4-fb2f-4524-910a-84b30c2e3164\")>,\n",
       " <selenium.webdriver.remote.webelement.WebElement (session=\"beca6339678df2e4f5bef88bd6af475c\", element=\"ac3373e0-998a-4d30-b08e-37de68deb191\")>,\n",
       " <selenium.webdriver.remote.webelement.WebElement (session=\"beca6339678df2e4f5bef88bd6af475c\", element=\"ee748e3a-a505-4d3f-94af-5ee470612ced\")>,\n",
       " <selenium.webdriver.remote.webelement.WebElement (session=\"beca6339678df2e4f5bef88bd6af475c\", element=\"e15419c9-c0d6-4551-94db-78c63313acf0\")>,\n",
       " <selenium.webdriver.remote.webelement.WebElement (session=\"beca6339678df2e4f5bef88bd6af475c\", element=\"3355683f-1ac1-4ec3-8d97-6da9e4f223bf\")>,\n",
       " <selenium.webdriver.remote.webelement.WebElement (session=\"beca6339678df2e4f5bef88bd6af475c\", element=\"9a27788e-62e2-438d-b9a7-b0561483ec01\")>,\n",
       " <selenium.webdriver.remote.webelement.WebElement (session=\"beca6339678df2e4f5bef88bd6af475c\", element=\"7eac9341-ab91-4ed8-9e95-721eb3a11c0d\")>,\n",
       " <selenium.webdriver.remote.webelement.WebElement (session=\"beca6339678df2e4f5bef88bd6af475c\", element=\"46e1e30d-c86a-4d04-91a6-8c520730d6e6\")>,\n",
       " <selenium.webdriver.remote.webelement.WebElement (session=\"beca6339678df2e4f5bef88bd6af475c\", element=\"7a71a15d-89f4-4c60-ae8a-1f156d39d590\")>,\n",
       " <selenium.webdriver.remote.webelement.WebElement (session=\"beca6339678df2e4f5bef88bd6af475c\", element=\"97f95391-a846-4bc8-8e0a-3e95002f224e\")>,\n",
       " <selenium.webdriver.remote.webelement.WebElement (session=\"beca6339678df2e4f5bef88bd6af475c\", element=\"e9423bbd-06aa-4adc-8ddc-0229ac2ff793\")>,\n",
       " <selenium.webdriver.remote.webelement.WebElement (session=\"beca6339678df2e4f5bef88bd6af475c\", element=\"2e362061-619e-49a3-a0fc-1cbfc0a67d41\")>,\n",
       " <selenium.webdriver.remote.webelement.WebElement (session=\"beca6339678df2e4f5bef88bd6af475c\", element=\"f9abc6b6-d8fe-4cbb-a303-baff1cc40e3f\")>,\n",
       " <selenium.webdriver.remote.webelement.WebElement (session=\"beca6339678df2e4f5bef88bd6af475c\", element=\"f8ecd528-cedf-425f-9c8f-577facc4d671\")>,\n",
       " <selenium.webdriver.remote.webelement.WebElement (session=\"beca6339678df2e4f5bef88bd6af475c\", element=\"08930ea2-9fce-492b-bf61-43a7447db42d\")>,\n",
       " <selenium.webdriver.remote.webelement.WebElement (session=\"beca6339678df2e4f5bef88bd6af475c\", element=\"4f27bcd9-db3b-4098-8e26-2149935f3ef0\")>,\n",
       " <selenium.webdriver.remote.webelement.WebElement (session=\"beca6339678df2e4f5bef88bd6af475c\", element=\"359cd6c9-f766-4da3-a3bc-fcfaafe0fb07\")>,\n",
       " <selenium.webdriver.remote.webelement.WebElement (session=\"beca6339678df2e4f5bef88bd6af475c\", element=\"10dfc4eb-be2f-4ae3-b0d7-2375a4fe63fb\")>,\n",
       " <selenium.webdriver.remote.webelement.WebElement (session=\"beca6339678df2e4f5bef88bd6af475c\", element=\"8c741c19-1a2f-48e0-89bb-b301d5d2d390\")>]"
      ]
     },
     "execution_count": 62,
     "metadata": {},
     "output_type": "execute_result"
    }
   ],
   "source": [
    "Discount_percent=driver.find_elements_by_xpath(\"//div[@class='_3Ay6Sb']\")\n",
    "Discount_percent"
   ]
  },
  {
   "cell_type": "code",
   "execution_count": 63,
   "id": "603b6695",
   "metadata": {},
   "outputs": [
    {
     "data": {
      "text/plain": [
       "['59% off',\n",
       " '44% off',\n",
       " '66% off',\n",
       " '64% off',\n",
       " '66% off',\n",
       " '30% off',\n",
       " '61% off',\n",
       " '67% off',\n",
       " '60% off',\n",
       " '78% off',\n",
       " '36% off',\n",
       " '59% off',\n",
       " '71% off',\n",
       " '62% off',\n",
       " '66% off',\n",
       " '69% off',\n",
       " '43% off',\n",
       " '75% off',\n",
       " '70% off',\n",
       " '75% off',\n",
       " '69% off',\n",
       " '53% off',\n",
       " '52% off',\n",
       " '58% off',\n",
       " '55% off',\n",
       " '56% off',\n",
       " '53% off',\n",
       " '60% off',\n",
       " '88% off',\n",
       " '56% off',\n",
       " '53% off',\n",
       " '66% off',\n",
       " '66% off',\n",
       " '57% off',\n",
       " '61% off',\n",
       " '58% off',\n",
       " '51% off',\n",
       " '60% off',\n",
       " '51% off',\n",
       " '17% off']"
      ]
     },
     "execution_count": 63,
     "metadata": {},
     "output_type": "execute_result"
    }
   ],
   "source": [
    "Discount_lists=[]\n",
    "for i in Discount_percent[:100]:\n",
    "    Discount_lists.append(i.text)\n",
    "Discount_lists"
   ]
  },
  {
   "cell_type": "code",
   "execution_count": 67,
   "id": "c36abb73",
   "metadata": {},
   "outputs": [
    {
     "name": "stdout",
     "output_type": "stream",
     "text": [
      "40 40 40\n"
     ]
    }
   ],
   "source": [
    "print(len(Brand_names),len(Price_lists),len(Discount_lists))"
   ]
  },
  {
   "cell_type": "code",
   "execution_count": 68,
   "id": "4bad315a",
   "metadata": {},
   "outputs": [],
   "source": [
    "Sneaker=pd.DataFrame({})\n",
    "Sneaker['Brand']=Brand_names\n",
    "Sneaker['Price']=Price_lists\n",
    "Sneaker['Discount_list']=Discount_lists\n"
   ]
  },
  {
   "cell_type": "code",
   "execution_count": 69,
   "id": "2c6d2f45",
   "metadata": {},
   "outputs": [
    {
     "data": {
      "text/html": [
       "<div>\n",
       "<style scoped>\n",
       "    .dataframe tbody tr th:only-of-type {\n",
       "        vertical-align: middle;\n",
       "    }\n",
       "\n",
       "    .dataframe tbody tr th {\n",
       "        vertical-align: top;\n",
       "    }\n",
       "\n",
       "    .dataframe thead th {\n",
       "        text-align: right;\n",
       "    }\n",
       "</style>\n",
       "<table border=\"1\" class=\"dataframe\">\n",
       "  <thead>\n",
       "    <tr style=\"text-align: right;\">\n",
       "      <th></th>\n",
       "      <th>Brand</th>\n",
       "      <th>Price</th>\n",
       "      <th>Discount_list</th>\n",
       "    </tr>\n",
       "  </thead>\n",
       "  <tbody>\n",
       "    <tr>\n",
       "      <th>0</th>\n",
       "      <td>PUMA</td>\n",
       "      <td>₹1,350</td>\n",
       "      <td>59% off</td>\n",
       "    </tr>\n",
       "    <tr>\n",
       "      <th>1</th>\n",
       "      <td>NIKE</td>\n",
       "      <td>₹2,513</td>\n",
       "      <td>44% off</td>\n",
       "    </tr>\n",
       "    <tr>\n",
       "      <th>2</th>\n",
       "      <td>PUMA</td>\n",
       "      <td>₹1,325</td>\n",
       "      <td>66% off</td>\n",
       "    </tr>\n",
       "    <tr>\n",
       "      <th>3</th>\n",
       "      <td>Magnolia</td>\n",
       "      <td>₹356</td>\n",
       "      <td>64% off</td>\n",
       "    </tr>\n",
       "    <tr>\n",
       "      <th>4</th>\n",
       "      <td>Shoes Bank</td>\n",
       "      <td>₹331</td>\n",
       "      <td>66% off</td>\n",
       "    </tr>\n",
       "    <tr>\n",
       "      <th>5</th>\n",
       "      <td>CAMPUS</td>\n",
       "      <td>₹1,329</td>\n",
       "      <td>30% off</td>\n",
       "    </tr>\n",
       "    <tr>\n",
       "      <th>6</th>\n",
       "      <td>PUMA</td>\n",
       "      <td>₹1,330</td>\n",
       "      <td>61% off</td>\n",
       "    </tr>\n",
       "    <tr>\n",
       "      <th>7</th>\n",
       "      <td>PUMA</td>\n",
       "      <td>₹1,294</td>\n",
       "      <td>67% off</td>\n",
       "    </tr>\n",
       "    <tr>\n",
       "      <th>8</th>\n",
       "      <td>bluemaker</td>\n",
       "      <td>₹399</td>\n",
       "      <td>60% off</td>\n",
       "    </tr>\n",
       "    <tr>\n",
       "      <th>9</th>\n",
       "      <td>Numenzo</td>\n",
       "      <td>₹426</td>\n",
       "      <td>78% off</td>\n",
       "    </tr>\n",
       "    <tr>\n",
       "      <th>10</th>\n",
       "      <td>PUMA</td>\n",
       "      <td>₹1,911</td>\n",
       "      <td>36% off</td>\n",
       "    </tr>\n",
       "    <tr>\n",
       "      <th>11</th>\n",
       "      <td>PUMA</td>\n",
       "      <td>₹2,212</td>\n",
       "      <td>59% off</td>\n",
       "    </tr>\n",
       "    <tr>\n",
       "      <th>12</th>\n",
       "      <td>Chevit</td>\n",
       "      <td>₹420</td>\n",
       "      <td>71% off</td>\n",
       "    </tr>\n",
       "    <tr>\n",
       "      <th>13</th>\n",
       "      <td>Numenzo</td>\n",
       "      <td>₹378</td>\n",
       "      <td>62% off</td>\n",
       "    </tr>\n",
       "    <tr>\n",
       "      <th>14</th>\n",
       "      <td>DUCATI</td>\n",
       "      <td>₹1,219</td>\n",
       "      <td>66% off</td>\n",
       "    </tr>\n",
       "    <tr>\n",
       "      <th>15</th>\n",
       "      <td>PUMA</td>\n",
       "      <td>₹990</td>\n",
       "      <td>69% off</td>\n",
       "    </tr>\n",
       "    <tr>\n",
       "      <th>16</th>\n",
       "      <td>NIKE</td>\n",
       "      <td>₹2,555</td>\n",
       "      <td>43% off</td>\n",
       "    </tr>\n",
       "    <tr>\n",
       "      <th>17</th>\n",
       "      <td>ASTEROID</td>\n",
       "      <td>₹499</td>\n",
       "      <td>75% off</td>\n",
       "    </tr>\n",
       "    <tr>\n",
       "      <th>18</th>\n",
       "      <td>Red Rose</td>\n",
       "      <td>₹299</td>\n",
       "      <td>70% off</td>\n",
       "    </tr>\n",
       "    <tr>\n",
       "      <th>19</th>\n",
       "      <td>Bond Street By Red Tape</td>\n",
       "      <td>₹798</td>\n",
       "      <td>75% off</td>\n",
       "    </tr>\n",
       "    <tr>\n",
       "      <th>20</th>\n",
       "      <td>FILA</td>\n",
       "      <td>₹951</td>\n",
       "      <td>69% off</td>\n",
       "    </tr>\n",
       "    <tr>\n",
       "      <th>21</th>\n",
       "      <td>ADIDAS</td>\n",
       "      <td>₹1,862</td>\n",
       "      <td>53% off</td>\n",
       "    </tr>\n",
       "    <tr>\n",
       "      <th>22</th>\n",
       "      <td>Robbie jones</td>\n",
       "      <td>₹474</td>\n",
       "      <td>52% off</td>\n",
       "    </tr>\n",
       "    <tr>\n",
       "      <th>23</th>\n",
       "      <td>Kraasa</td>\n",
       "      <td>₹416</td>\n",
       "      <td>58% off</td>\n",
       "    </tr>\n",
       "    <tr>\n",
       "      <th>24</th>\n",
       "      <td>ADIDAS</td>\n",
       "      <td>₹2,039</td>\n",
       "      <td>55% off</td>\n",
       "    </tr>\n",
       "    <tr>\n",
       "      <th>25</th>\n",
       "      <td>ADIDAS</td>\n",
       "      <td>₹2,611</td>\n",
       "      <td>56% off</td>\n",
       "    </tr>\n",
       "    <tr>\n",
       "      <th>26</th>\n",
       "      <td>ADIDAS</td>\n",
       "      <td>₹1,678</td>\n",
       "      <td>53% off</td>\n",
       "    </tr>\n",
       "    <tr>\n",
       "      <th>27</th>\n",
       "      <td>SCATCHITE</td>\n",
       "      <td>₹398</td>\n",
       "      <td>60% off</td>\n",
       "    </tr>\n",
       "    <tr>\n",
       "      <th>28</th>\n",
       "      <td>BRUTON</td>\n",
       "      <td>₹399</td>\n",
       "      <td>88% off</td>\n",
       "    </tr>\n",
       "    <tr>\n",
       "      <th>29</th>\n",
       "      <td>FILA</td>\n",
       "      <td>₹1,247</td>\n",
       "      <td>56% off</td>\n",
       "    </tr>\n",
       "    <tr>\n",
       "      <th>30</th>\n",
       "      <td>ADIDAS</td>\n",
       "      <td>₹1,670</td>\n",
       "      <td>53% off</td>\n",
       "    </tr>\n",
       "    <tr>\n",
       "      <th>31</th>\n",
       "      <td>PUMA</td>\n",
       "      <td>₹1,355</td>\n",
       "      <td>66% off</td>\n",
       "    </tr>\n",
       "    <tr>\n",
       "      <th>32</th>\n",
       "      <td>Chevit</td>\n",
       "      <td>₹536</td>\n",
       "      <td>66% off</td>\n",
       "    </tr>\n",
       "    <tr>\n",
       "      <th>33</th>\n",
       "      <td>PEHANOSA</td>\n",
       "      <td>₹424</td>\n",
       "      <td>57% off</td>\n",
       "    </tr>\n",
       "    <tr>\n",
       "      <th>34</th>\n",
       "      <td>PUMA</td>\n",
       "      <td>₹1,710</td>\n",
       "      <td>61% off</td>\n",
       "    </tr>\n",
       "    <tr>\n",
       "      <th>35</th>\n",
       "      <td>ADIDAS</td>\n",
       "      <td>₹1,678</td>\n",
       "      <td>58% off</td>\n",
       "    </tr>\n",
       "    <tr>\n",
       "      <th>36</th>\n",
       "      <td>ADIDAS</td>\n",
       "      <td>₹1,943</td>\n",
       "      <td>51% off</td>\n",
       "    </tr>\n",
       "    <tr>\n",
       "      <th>37</th>\n",
       "      <td>believe</td>\n",
       "      <td>₹399</td>\n",
       "      <td>60% off</td>\n",
       "    </tr>\n",
       "    <tr>\n",
       "      <th>38</th>\n",
       "      <td>World Wear Footwear</td>\n",
       "      <td>₹240</td>\n",
       "      <td>51% off</td>\n",
       "    </tr>\n",
       "    <tr>\n",
       "      <th>39</th>\n",
       "      <td>SPARX</td>\n",
       "      <td>₹619</td>\n",
       "      <td>17% off</td>\n",
       "    </tr>\n",
       "  </tbody>\n",
       "</table>\n",
       "</div>"
      ],
      "text/plain": [
       "                      Brand   Price Discount_list\n",
       "0                      PUMA  ₹1,350       59% off\n",
       "1                      NIKE  ₹2,513       44% off\n",
       "2                      PUMA  ₹1,325       66% off\n",
       "3                  Magnolia    ₹356       64% off\n",
       "4                Shoes Bank    ₹331       66% off\n",
       "5                    CAMPUS  ₹1,329       30% off\n",
       "6                      PUMA  ₹1,330       61% off\n",
       "7                      PUMA  ₹1,294       67% off\n",
       "8                 bluemaker    ₹399       60% off\n",
       "9                   Numenzo    ₹426       78% off\n",
       "10                     PUMA  ₹1,911       36% off\n",
       "11                     PUMA  ₹2,212       59% off\n",
       "12                   Chevit    ₹420       71% off\n",
       "13                  Numenzo    ₹378       62% off\n",
       "14                   DUCATI  ₹1,219       66% off\n",
       "15                     PUMA    ₹990       69% off\n",
       "16                     NIKE  ₹2,555       43% off\n",
       "17                 ASTEROID    ₹499       75% off\n",
       "18                 Red Rose    ₹299       70% off\n",
       "19  Bond Street By Red Tape    ₹798       75% off\n",
       "20                     FILA    ₹951       69% off\n",
       "21                   ADIDAS  ₹1,862       53% off\n",
       "22             Robbie jones    ₹474       52% off\n",
       "23                   Kraasa    ₹416       58% off\n",
       "24                   ADIDAS  ₹2,039       55% off\n",
       "25                   ADIDAS  ₹2,611       56% off\n",
       "26                   ADIDAS  ₹1,678       53% off\n",
       "27                SCATCHITE    ₹398       60% off\n",
       "28                   BRUTON    ₹399       88% off\n",
       "29                     FILA  ₹1,247       56% off\n",
       "30                   ADIDAS  ₹1,670       53% off\n",
       "31                     PUMA  ₹1,355       66% off\n",
       "32                   Chevit    ₹536       66% off\n",
       "33                 PEHANOSA    ₹424       57% off\n",
       "34                     PUMA  ₹1,710       61% off\n",
       "35                   ADIDAS  ₹1,678       58% off\n",
       "36                   ADIDAS  ₹1,943       51% off\n",
       "37                  believe    ₹399       60% off\n",
       "38      World Wear Footwear    ₹240       51% off\n",
       "39                    SPARX    ₹619       17% off"
      ]
     },
     "execution_count": 69,
     "metadata": {},
     "output_type": "execute_result"
    }
   ],
   "source": [
    "Sneaker"
   ]
  },
  {
   "cell_type": "markdown",
   "id": "cb65227f",
   "metadata": {},
   "source": [
    "Q9: Go to the link - https://www.myntra.com/shoes\n",
    "Set Price filter to “Rs. 6649 to Rs. 13099” , Color filter to “Black”.\n",
    "And then scrape First 100 shoes data you get. The data should include “Brand” of the shoes , Short Shoe description, price of the shoe."
   ]
  },
  {
   "cell_type": "code",
   "execution_count": 100,
   "id": "b45593a5",
   "metadata": {},
   "outputs": [],
   "source": [
    "url = 'https://www.myntra.com/shoes'\n",
    "driver.get(url)"
   ]
  },
  {
   "cell_type": "code",
   "execution_count": 101,
   "id": "3016467a",
   "metadata": {},
   "outputs": [],
   "source": [
    "Price_filter = driver.find_element_by_xpath('/html/body/div[2]/div/div[1]/main/div[3]/div[1]/section/div/div[5]/ul/li[2]/label')\n",
    "Price_filter.click()"
   ]
  },
  {
   "cell_type": "code",
   "execution_count": 102,
   "id": "47ab14c0",
   "metadata": {},
   "outputs": [],
   "source": [
    "Color_filter = driver.find_element_by_xpath('/html/body/div[2]/div/div[1]/main/div[3]/div[1]/section/div/div[6]/ul/li[1]/label')\n",
    "Color_filter.click()"
   ]
  },
  {
   "cell_type": "code",
   "execution_count": 103,
   "id": "231f1cff",
   "metadata": {},
   "outputs": [
    {
     "data": {
      "text/plain": [
       "[<selenium.webdriver.remote.webelement.WebElement (session=\"639140c0af4b4e000a76e68d684e6158\", element=\"1b2feffc-e8a7-43d8-9238-01fcb39c650e\")>,\n",
       " <selenium.webdriver.remote.webelement.WebElement (session=\"639140c0af4b4e000a76e68d684e6158\", element=\"bb98aca5-a576-463a-8211-5b07569c8df1\")>,\n",
       " <selenium.webdriver.remote.webelement.WebElement (session=\"639140c0af4b4e000a76e68d684e6158\", element=\"825e02f3-6f61-4815-baef-bf767e51cd76\")>,\n",
       " <selenium.webdriver.remote.webelement.WebElement (session=\"639140c0af4b4e000a76e68d684e6158\", element=\"6d759112-c052-476e-b8eb-56e267284b22\")>,\n",
       " <selenium.webdriver.remote.webelement.WebElement (session=\"639140c0af4b4e000a76e68d684e6158\", element=\"00a051e3-0624-4cc6-ae96-12cf23d1b872\")>,\n",
       " <selenium.webdriver.remote.webelement.WebElement (session=\"639140c0af4b4e000a76e68d684e6158\", element=\"169d4f8e-6b8a-47a7-bd6a-f329e5ceb14b\")>,\n",
       " <selenium.webdriver.remote.webelement.WebElement (session=\"639140c0af4b4e000a76e68d684e6158\", element=\"dd1cf3e3-44e9-4499-85ba-15e835f4a903\")>,\n",
       " <selenium.webdriver.remote.webelement.WebElement (session=\"639140c0af4b4e000a76e68d684e6158\", element=\"f5603b8f-efa1-4163-acfe-8d67c1668843\")>,\n",
       " <selenium.webdriver.remote.webelement.WebElement (session=\"639140c0af4b4e000a76e68d684e6158\", element=\"811f2bed-7d47-4237-a2cc-9c1e40b4a6cb\")>,\n",
       " <selenium.webdriver.remote.webelement.WebElement (session=\"639140c0af4b4e000a76e68d684e6158\", element=\"4d78ff2b-dffb-4423-b3c3-1d132c597788\")>,\n",
       " <selenium.webdriver.remote.webelement.WebElement (session=\"639140c0af4b4e000a76e68d684e6158\", element=\"cd6c5d92-a606-43fc-9baf-2ec2c09327c9\")>,\n",
       " <selenium.webdriver.remote.webelement.WebElement (session=\"639140c0af4b4e000a76e68d684e6158\", element=\"9393c479-8aa2-4d13-90b1-26780309f998\")>,\n",
       " <selenium.webdriver.remote.webelement.WebElement (session=\"639140c0af4b4e000a76e68d684e6158\", element=\"9c7890bf-fc82-412f-8ce9-06e87734f99e\")>,\n",
       " <selenium.webdriver.remote.webelement.WebElement (session=\"639140c0af4b4e000a76e68d684e6158\", element=\"8a3af61f-7b39-47dc-9aca-a78cfed11c7a\")>,\n",
       " <selenium.webdriver.remote.webelement.WebElement (session=\"639140c0af4b4e000a76e68d684e6158\", element=\"0313f0ea-87b8-4eec-8f8d-39bc72e11b15\")>,\n",
       " <selenium.webdriver.remote.webelement.WebElement (session=\"639140c0af4b4e000a76e68d684e6158\", element=\"0d79e0c8-23e1-4385-bb4f-d8ff058ac586\")>,\n",
       " <selenium.webdriver.remote.webelement.WebElement (session=\"639140c0af4b4e000a76e68d684e6158\", element=\"28b0b383-eb27-4bf9-ae0a-916e09504fe4\")>,\n",
       " <selenium.webdriver.remote.webelement.WebElement (session=\"639140c0af4b4e000a76e68d684e6158\", element=\"4d4bd9e5-ea37-4e65-9b55-7f949086b631\")>,\n",
       " <selenium.webdriver.remote.webelement.WebElement (session=\"639140c0af4b4e000a76e68d684e6158\", element=\"4fea306d-0d4e-4bd3-917d-20eeced9c759\")>,\n",
       " <selenium.webdriver.remote.webelement.WebElement (session=\"639140c0af4b4e000a76e68d684e6158\", element=\"a42a3b6f-6ff9-4312-b638-3994f857028a\")>,\n",
       " <selenium.webdriver.remote.webelement.WebElement (session=\"639140c0af4b4e000a76e68d684e6158\", element=\"72e12da2-60a6-44fe-9725-0d725371d37e\")>,\n",
       " <selenium.webdriver.remote.webelement.WebElement (session=\"639140c0af4b4e000a76e68d684e6158\", element=\"5e878c39-b638-4913-9d54-7259cc2139fe\")>,\n",
       " <selenium.webdriver.remote.webelement.WebElement (session=\"639140c0af4b4e000a76e68d684e6158\", element=\"9c8fdfa3-d43f-4285-b70e-f76287f875e4\")>,\n",
       " <selenium.webdriver.remote.webelement.WebElement (session=\"639140c0af4b4e000a76e68d684e6158\", element=\"1c8cf136-1585-48f5-b976-7dd488a9a98e\")>,\n",
       " <selenium.webdriver.remote.webelement.WebElement (session=\"639140c0af4b4e000a76e68d684e6158\", element=\"044201cd-b5e9-43aa-a61e-79028cf7fbe2\")>,\n",
       " <selenium.webdriver.remote.webelement.WebElement (session=\"639140c0af4b4e000a76e68d684e6158\", element=\"e223d3dd-e69b-47ee-a8ba-4794e09bc251\")>,\n",
       " <selenium.webdriver.remote.webelement.WebElement (session=\"639140c0af4b4e000a76e68d684e6158\", element=\"d512135c-33ed-4621-9427-a1c38c17cb4e\")>,\n",
       " <selenium.webdriver.remote.webelement.WebElement (session=\"639140c0af4b4e000a76e68d684e6158\", element=\"33900330-9ea0-4ff1-8de4-7cd51dd5dbf3\")>,\n",
       " <selenium.webdriver.remote.webelement.WebElement (session=\"639140c0af4b4e000a76e68d684e6158\", element=\"0204190a-0ce7-499d-abf7-37b4177fb5c2\")>,\n",
       " <selenium.webdriver.remote.webelement.WebElement (session=\"639140c0af4b4e000a76e68d684e6158\", element=\"2a61adaf-5e2c-4e4e-a21f-34ad97f4d05b\")>,\n",
       " <selenium.webdriver.remote.webelement.WebElement (session=\"639140c0af4b4e000a76e68d684e6158\", element=\"16082b0e-362d-4bc5-9f70-ff1d1ecf358b\")>,\n",
       " <selenium.webdriver.remote.webelement.WebElement (session=\"639140c0af4b4e000a76e68d684e6158\", element=\"b688c0a3-3952-4e3f-9016-b619f8b4ef55\")>,\n",
       " <selenium.webdriver.remote.webelement.WebElement (session=\"639140c0af4b4e000a76e68d684e6158\", element=\"93c43f8b-2d80-4eb4-afe2-35ea8b573f0c\")>,\n",
       " <selenium.webdriver.remote.webelement.WebElement (session=\"639140c0af4b4e000a76e68d684e6158\", element=\"8f7a41a4-274d-46e2-b496-e9e1b37dbd69\")>,\n",
       " <selenium.webdriver.remote.webelement.WebElement (session=\"639140c0af4b4e000a76e68d684e6158\", element=\"b4fb73f4-d8d9-4bcf-8be5-9e7a5ce41b66\")>,\n",
       " <selenium.webdriver.remote.webelement.WebElement (session=\"639140c0af4b4e000a76e68d684e6158\", element=\"8f18d021-6c1f-430a-b058-f0fc6f0f112e\")>,\n",
       " <selenium.webdriver.remote.webelement.WebElement (session=\"639140c0af4b4e000a76e68d684e6158\", element=\"78d5c2d2-e0b6-4160-a496-30903afbad02\")>,\n",
       " <selenium.webdriver.remote.webelement.WebElement (session=\"639140c0af4b4e000a76e68d684e6158\", element=\"6f7257e8-e3be-4964-9222-1150e91558bf\")>,\n",
       " <selenium.webdriver.remote.webelement.WebElement (session=\"639140c0af4b4e000a76e68d684e6158\", element=\"31c509a1-d61f-4f27-8268-935c391e7c38\")>,\n",
       " <selenium.webdriver.remote.webelement.WebElement (session=\"639140c0af4b4e000a76e68d684e6158\", element=\"40887911-7ecb-4b76-9ed6-46016cf4158c\")>,\n",
       " <selenium.webdriver.remote.webelement.WebElement (session=\"639140c0af4b4e000a76e68d684e6158\", element=\"7880d641-8417-4304-8006-814cdb7554e8\")>,\n",
       " <selenium.webdriver.remote.webelement.WebElement (session=\"639140c0af4b4e000a76e68d684e6158\", element=\"aaba590d-a890-4cb1-9756-30c84240f2d4\")>,\n",
       " <selenium.webdriver.remote.webelement.WebElement (session=\"639140c0af4b4e000a76e68d684e6158\", element=\"fdb86e75-dbd3-4d78-861c-3a75fb62e311\")>,\n",
       " <selenium.webdriver.remote.webelement.WebElement (session=\"639140c0af4b4e000a76e68d684e6158\", element=\"d3510eb1-161d-44c0-9043-aeb658abd8a8\")>,\n",
       " <selenium.webdriver.remote.webelement.WebElement (session=\"639140c0af4b4e000a76e68d684e6158\", element=\"da585eb4-fb2e-430d-b7dc-1548cfb6069e\")>,\n",
       " <selenium.webdriver.remote.webelement.WebElement (session=\"639140c0af4b4e000a76e68d684e6158\", element=\"e333f20c-5283-4c3a-bb4a-25165b8a5ec2\")>,\n",
       " <selenium.webdriver.remote.webelement.WebElement (session=\"639140c0af4b4e000a76e68d684e6158\", element=\"71217440-adb3-48cd-9ff8-002eb85b68c7\")>,\n",
       " <selenium.webdriver.remote.webelement.WebElement (session=\"639140c0af4b4e000a76e68d684e6158\", element=\"a0996a6a-38f4-4d92-8b4c-62d773d13a6d\")>,\n",
       " <selenium.webdriver.remote.webelement.WebElement (session=\"639140c0af4b4e000a76e68d684e6158\", element=\"0838445a-5bdf-4eb8-bd71-dfed643618da\")>,\n",
       " <selenium.webdriver.remote.webelement.WebElement (session=\"639140c0af4b4e000a76e68d684e6158\", element=\"f8f1a133-f88a-4027-a4ad-75fd1e73d240\")>]"
      ]
     },
     "execution_count": 103,
     "metadata": {},
     "output_type": "execute_result"
    }
   ],
   "source": [
    "Brand_names=driver.find_elements_by_xpath(\"//h3[@class='product-brand']\")\n",
    "Brand_names"
   ]
  },
  {
   "cell_type": "code",
   "execution_count": 104,
   "id": "c42f27f3",
   "metadata": {},
   "outputs": [
    {
     "data": {
      "text/plain": [
       "['UNDER ARMOUR',\n",
       " 'Nike',\n",
       " 'UNDER ARMOUR',\n",
       " 'Puma',\n",
       " 'UNDER ARMOUR',\n",
       " 'Hush Puppies',\n",
       " 'Nike',\n",
       " 'Geox',\n",
       " 'ADIDAS',\n",
       " 'ADIDAS',\n",
       " 'UNDER ARMOUR',\n",
       " 'Puma',\n",
       " 'UNDER ARMOUR',\n",
       " 'UNDER ARMOUR',\n",
       " 'UNDER ARMOUR',\n",
       " 'UNDER ARMOUR',\n",
       " 'UNDER ARMOUR',\n",
       " 'UNDER ARMOUR',\n",
       " 'Puma',\n",
       " 'UNDER ARMOUR',\n",
       " 'Hush Puppies',\n",
       " 'Skechers',\n",
       " 'Hush Puppies',\n",
       " 'Puma',\n",
       " 'Hush Puppies',\n",
       " 'FORCLAZ By Decathlon',\n",
       " 'PUMA Hoops',\n",
       " 'Quechua By Decathlon',\n",
       " 'Puma',\n",
       " 'Geox',\n",
       " 'RARE RABBIT',\n",
       " 'Puma',\n",
       " 'UNDER ARMOUR',\n",
       " 'Bugatti',\n",
       " 'Kalenji By Decathlon',\n",
       " 'Geox',\n",
       " 'Hush Puppies',\n",
       " 'Quechua By Decathlon',\n",
       " 'Hush Puppies',\n",
       " 'Hush Puppies',\n",
       " 'RARE RABBIT',\n",
       " 'Geox',\n",
       " 'Puma',\n",
       " 'Nike',\n",
       " 'PUMA Hoops',\n",
       " 'Puma',\n",
       " 'Nike',\n",
       " 'Puma',\n",
       " 'UNDER ARMOUR',\n",
       " 'Geox']"
      ]
     },
     "execution_count": 104,
     "metadata": {},
     "output_type": "execute_result"
    }
   ],
   "source": [
    "Brand_name=[]\n",
    "for i in Brand_names[:100]:\n",
    "    Brand_name.append(i.text)\n",
    "Brand_name"
   ]
  },
  {
   "cell_type": "code",
   "execution_count": 105,
   "id": "b261e7ed",
   "metadata": {},
   "outputs": [
    {
     "data": {
      "text/plain": [
       "[<selenium.webdriver.remote.webelement.WebElement (session=\"639140c0af4b4e000a76e68d684e6158\", element=\"377b7f96-1c56-4ba2-90ea-f82b6887011e\")>,\n",
       " <selenium.webdriver.remote.webelement.WebElement (session=\"639140c0af4b4e000a76e68d684e6158\", element=\"2b572afa-2ce0-499d-8591-6935199e2b06\")>,\n",
       " <selenium.webdriver.remote.webelement.WebElement (session=\"639140c0af4b4e000a76e68d684e6158\", element=\"31336d7c-9a7c-4059-818f-a3848ede43bd\")>,\n",
       " <selenium.webdriver.remote.webelement.WebElement (session=\"639140c0af4b4e000a76e68d684e6158\", element=\"2a6f424f-7ba9-46f8-a55e-0c222f050d56\")>,\n",
       " <selenium.webdriver.remote.webelement.WebElement (session=\"639140c0af4b4e000a76e68d684e6158\", element=\"549912df-2938-45aa-91dd-1f836e3a5578\")>,\n",
       " <selenium.webdriver.remote.webelement.WebElement (session=\"639140c0af4b4e000a76e68d684e6158\", element=\"a257e03b-0b6a-4707-91d7-1ab29da295a1\")>,\n",
       " <selenium.webdriver.remote.webelement.WebElement (session=\"639140c0af4b4e000a76e68d684e6158\", element=\"7df63fda-fd37-488a-a730-9de2cfc18dab\")>,\n",
       " <selenium.webdriver.remote.webelement.WebElement (session=\"639140c0af4b4e000a76e68d684e6158\", element=\"24c4dfb5-b941-415a-a2a7-9bde8ee2b8cd\")>,\n",
       " <selenium.webdriver.remote.webelement.WebElement (session=\"639140c0af4b4e000a76e68d684e6158\", element=\"8f58e221-9b16-4d80-8150-56d744642c8f\")>,\n",
       " <selenium.webdriver.remote.webelement.WebElement (session=\"639140c0af4b4e000a76e68d684e6158\", element=\"02427942-41f1-4c5a-b8ab-958f0b9bcce4\")>,\n",
       " <selenium.webdriver.remote.webelement.WebElement (session=\"639140c0af4b4e000a76e68d684e6158\", element=\"fc2c582e-a93d-4bb4-ace3-8a2b4b8df207\")>,\n",
       " <selenium.webdriver.remote.webelement.WebElement (session=\"639140c0af4b4e000a76e68d684e6158\", element=\"498531bc-d633-4367-bb41-722701aee7fd\")>,\n",
       " <selenium.webdriver.remote.webelement.WebElement (session=\"639140c0af4b4e000a76e68d684e6158\", element=\"688e29a9-a390-4236-a842-2e1f44cf3a75\")>,\n",
       " <selenium.webdriver.remote.webelement.WebElement (session=\"639140c0af4b4e000a76e68d684e6158\", element=\"42352377-7482-498a-844a-456b666d54d6\")>,\n",
       " <selenium.webdriver.remote.webelement.WebElement (session=\"639140c0af4b4e000a76e68d684e6158\", element=\"55d8313c-45d7-4bd6-af0e-1d99ffbe9b34\")>,\n",
       " <selenium.webdriver.remote.webelement.WebElement (session=\"639140c0af4b4e000a76e68d684e6158\", element=\"25730201-3cbe-4057-97da-0fffd56e163a\")>,\n",
       " <selenium.webdriver.remote.webelement.WebElement (session=\"639140c0af4b4e000a76e68d684e6158\", element=\"e383da6c-f889-4dde-8896-958cff117c35\")>,\n",
       " <selenium.webdriver.remote.webelement.WebElement (session=\"639140c0af4b4e000a76e68d684e6158\", element=\"e7d6f248-9fca-4482-bed0-26b766dbd52a\")>,\n",
       " <selenium.webdriver.remote.webelement.WebElement (session=\"639140c0af4b4e000a76e68d684e6158\", element=\"02da5f30-486f-4911-880f-2cea7d100be4\")>,\n",
       " <selenium.webdriver.remote.webelement.WebElement (session=\"639140c0af4b4e000a76e68d684e6158\", element=\"cde870ba-865d-4748-9f22-f7ff9fa249b0\")>,\n",
       " <selenium.webdriver.remote.webelement.WebElement (session=\"639140c0af4b4e000a76e68d684e6158\", element=\"9dcdcd85-8c22-4661-866c-cc53b5e19711\")>,\n",
       " <selenium.webdriver.remote.webelement.WebElement (session=\"639140c0af4b4e000a76e68d684e6158\", element=\"a648ea50-969e-4968-b808-1e85a033c136\")>,\n",
       " <selenium.webdriver.remote.webelement.WebElement (session=\"639140c0af4b4e000a76e68d684e6158\", element=\"d1125be3-37cf-433d-8849-d1e07d0a5df3\")>,\n",
       " <selenium.webdriver.remote.webelement.WebElement (session=\"639140c0af4b4e000a76e68d684e6158\", element=\"92c37147-659b-46c2-9b81-f4fb11b4a922\")>,\n",
       " <selenium.webdriver.remote.webelement.WebElement (session=\"639140c0af4b4e000a76e68d684e6158\", element=\"69b4dee0-3d97-462c-b952-b4d94a34010a\")>,\n",
       " <selenium.webdriver.remote.webelement.WebElement (session=\"639140c0af4b4e000a76e68d684e6158\", element=\"a0501a44-a8fd-4ba1-b2ec-8df85892c8ea\")>,\n",
       " <selenium.webdriver.remote.webelement.WebElement (session=\"639140c0af4b4e000a76e68d684e6158\", element=\"77bae656-cefd-4417-bea4-dfd4354c38cb\")>,\n",
       " <selenium.webdriver.remote.webelement.WebElement (session=\"639140c0af4b4e000a76e68d684e6158\", element=\"3dbce270-0c9e-4cc0-bc3b-e8421584b4cb\")>,\n",
       " <selenium.webdriver.remote.webelement.WebElement (session=\"639140c0af4b4e000a76e68d684e6158\", element=\"2fa7fca8-7bdb-4ff8-a097-4c98315c3426\")>,\n",
       " <selenium.webdriver.remote.webelement.WebElement (session=\"639140c0af4b4e000a76e68d684e6158\", element=\"6ad172a5-089f-463e-aaa9-9eca7b06800e\")>,\n",
       " <selenium.webdriver.remote.webelement.WebElement (session=\"639140c0af4b4e000a76e68d684e6158\", element=\"3cd4e2a3-2a5f-4d55-bb75-a524cb14de3c\")>,\n",
       " <selenium.webdriver.remote.webelement.WebElement (session=\"639140c0af4b4e000a76e68d684e6158\", element=\"cab6a904-1ac1-461d-80cc-116a26edf3a1\")>,\n",
       " <selenium.webdriver.remote.webelement.WebElement (session=\"639140c0af4b4e000a76e68d684e6158\", element=\"4d6ae415-62d0-43f7-9768-7eeab96a7c11\")>,\n",
       " <selenium.webdriver.remote.webelement.WebElement (session=\"639140c0af4b4e000a76e68d684e6158\", element=\"0cfed070-4a5b-444f-ab39-51a437506e75\")>,\n",
       " <selenium.webdriver.remote.webelement.WebElement (session=\"639140c0af4b4e000a76e68d684e6158\", element=\"cdedf44a-f79f-4c88-adf9-077f75427458\")>,\n",
       " <selenium.webdriver.remote.webelement.WebElement (session=\"639140c0af4b4e000a76e68d684e6158\", element=\"520cdb64-228f-4ba7-a582-529ac39db9af\")>,\n",
       " <selenium.webdriver.remote.webelement.WebElement (session=\"639140c0af4b4e000a76e68d684e6158\", element=\"0f859df9-fe52-4ab8-a8cc-8d21667421d4\")>,\n",
       " <selenium.webdriver.remote.webelement.WebElement (session=\"639140c0af4b4e000a76e68d684e6158\", element=\"cf86db8e-aeee-44a2-b4a7-44e19619f234\")>,\n",
       " <selenium.webdriver.remote.webelement.WebElement (session=\"639140c0af4b4e000a76e68d684e6158\", element=\"83e7cbe8-8ef1-4d06-8546-078fdb015884\")>,\n",
       " <selenium.webdriver.remote.webelement.WebElement (session=\"639140c0af4b4e000a76e68d684e6158\", element=\"547b92a1-67bb-4565-b594-27e7dc18552c\")>,\n",
       " <selenium.webdriver.remote.webelement.WebElement (session=\"639140c0af4b4e000a76e68d684e6158\", element=\"e2a62ed8-cfeb-4e10-ad7c-76c2f0a8a2ed\")>,\n",
       " <selenium.webdriver.remote.webelement.WebElement (session=\"639140c0af4b4e000a76e68d684e6158\", element=\"c9deb03f-cc41-4c14-b303-30bb02668cb8\")>,\n",
       " <selenium.webdriver.remote.webelement.WebElement (session=\"639140c0af4b4e000a76e68d684e6158\", element=\"dd15209b-d7ed-4bee-b0e3-474720404a09\")>,\n",
       " <selenium.webdriver.remote.webelement.WebElement (session=\"639140c0af4b4e000a76e68d684e6158\", element=\"5bd68267-db3f-43f7-afa5-7a9d40b6b91b\")>,\n",
       " <selenium.webdriver.remote.webelement.WebElement (session=\"639140c0af4b4e000a76e68d684e6158\", element=\"59c01d90-8fb5-4ccb-a3c4-bc0d5c87cfc8\")>,\n",
       " <selenium.webdriver.remote.webelement.WebElement (session=\"639140c0af4b4e000a76e68d684e6158\", element=\"a6135153-1786-4081-bb7f-02d6e504acd2\")>,\n",
       " <selenium.webdriver.remote.webelement.WebElement (session=\"639140c0af4b4e000a76e68d684e6158\", element=\"6745bcc8-8999-4471-ae90-568265fd4e7b\")>,\n",
       " <selenium.webdriver.remote.webelement.WebElement (session=\"639140c0af4b4e000a76e68d684e6158\", element=\"dd141ac1-35e1-4639-a07a-65930821e5b1\")>,\n",
       " <selenium.webdriver.remote.webelement.WebElement (session=\"639140c0af4b4e000a76e68d684e6158\", element=\"934cbfc9-536a-4b40-99e6-f9a168fc3ac8\")>,\n",
       " <selenium.webdriver.remote.webelement.WebElement (session=\"639140c0af4b4e000a76e68d684e6158\", element=\"4f4ac38d-1851-424d-a29d-f8f249f275ec\")>]"
      ]
     },
     "execution_count": 105,
     "metadata": {},
     "output_type": "execute_result"
    }
   ],
   "source": [
    "# short shoe description\n",
    "Short_shoe_description=driver.find_elements_by_xpath(\"//h4[@class='product-product']\")\n",
    "Short_shoe_description"
   ]
  },
  {
   "cell_type": "code",
   "execution_count": 106,
   "id": "26ca858f",
   "metadata": {},
   "outputs": [
    {
     "data": {
      "text/plain": [
       "['Men ZOOM SPAN 3 Running Shoes',\n",
       " 'Men Charged Bandit 6 Running',\n",
       " 'Men HOVR Sonic STRT Tech Shoes',\n",
       " 'Axelion Block Running Shoes',\n",
       " 'Men Charged Vantage Running',\n",
       " 'Men Solid Leather Formal Oxfords',\n",
       " 'Men Crater Remixa Sneakers',\n",
       " 'Women Response SR Running',\n",
       " 'Men Leather Formal Derbys',\n",
       " 'Women SUPERNOVA Running Shoes',\n",
       " 'Men Perforations Brogues',\n",
       " 'Unisex Project Rock Recruit',\n",
       " 'Men Cell Fraction Fade Running',\n",
       " 'Men Charged Pursuit 2 SE Shoes',\n",
       " 'Men Charged Assert 8 Marble',\n",
       " 'Men Charged Pursuit 2 SE',\n",
       " 'Women Charged Vantage ClrShft',\n",
       " 'Men Charged Commit 3 Training',\n",
       " 'GS SC 3Zero IV Basketball',\n",
       " 'Women Deviate Nitro Running',\n",
       " 'Men Colourblocked Leather Derbys',\n",
       " 'Women UltraRide Running Shoes',\n",
       " 'Men Charged Rogue 2.5 RFLCT',\n",
       " 'Men Formal Derbys',\n",
       " 'Men Equalizer 4.0 Trail',\n",
       " 'Men Leather Slip-On Sneakers',\n",
       " 'Men SOFTRIDE Rift Shoes',\n",
       " 'Men Solid Leather Formal Slip-Ons',\n",
       " 'Men Textured Leather Driving Shoes',\n",
       " 'Women Leather Loafers',\n",
       " 'TREKKING 100 Boots',\n",
       " 'Women Waterproof Hiking Shoes',\n",
       " 'Unisex Clyde Basketball Shoes',\n",
       " 'Men Leader VT Running Shoes',\n",
       " 'Women BETTER FOAM Adore Shoes',\n",
       " 'Men Sneakers',\n",
       " 'Men Victory Sneakers',\n",
       " 'Men Perforated Mule Sneakers',\n",
       " 'Men Leather Formal Derbys',\n",
       " 'Men Leather Slip-On Sneakers',\n",
       " 'Men Leather Formal Brogues',\n",
       " 'Men Colourblocked Driving Shoes',\n",
       " 'Men Trekking Shoes',\n",
       " 'Women Eternity Nitro Running',\n",
       " 'Men Leather Formal Derbys',\n",
       " \"Men BlazerLow '77 Sneakers\",\n",
       " 'Unisex Future Rider Sneakers',\n",
       " 'Unisex Clyde Basketball Shoes',\n",
       " 'Women AIR MAX VIVA Sneakers',\n",
       " 'Men Running Shoes']"
      ]
     },
     "execution_count": 106,
     "metadata": {},
     "output_type": "execute_result"
    }
   ],
   "source": [
    "Shoe_description=[]\n",
    "for i in Short_shoe_description[:100]:\n",
    "    Shoe_description.append(i.text)\n",
    "Shoe_description"
   ]
  },
  {
   "cell_type": "code",
   "execution_count": 108,
   "id": "9ab153d7",
   "metadata": {},
   "outputs": [
    {
     "data": {
      "text/plain": [
       "[<selenium.webdriver.remote.webelement.WebElement (session=\"639140c0af4b4e000a76e68d684e6158\", element=\"b42c9c50-7415-4716-83c2-81a258b9d1c4\")>,\n",
       " <selenium.webdriver.remote.webelement.WebElement (session=\"639140c0af4b4e000a76e68d684e6158\", element=\"a92f22bd-fea4-490d-b420-d954e9e0c7ab\")>,\n",
       " <selenium.webdriver.remote.webelement.WebElement (session=\"639140c0af4b4e000a76e68d684e6158\", element=\"f7aaeeb3-1307-44fd-9b09-93aee11afc79\")>,\n",
       " <selenium.webdriver.remote.webelement.WebElement (session=\"639140c0af4b4e000a76e68d684e6158\", element=\"65c819ef-a095-41e5-aa0b-5acd60f880eb\")>,\n",
       " <selenium.webdriver.remote.webelement.WebElement (session=\"639140c0af4b4e000a76e68d684e6158\", element=\"08e0efc8-23c7-43aa-a825-13e3e9c0ea15\")>,\n",
       " <selenium.webdriver.remote.webelement.WebElement (session=\"639140c0af4b4e000a76e68d684e6158\", element=\"17f3ced4-e5c8-49d8-9eee-ecfd3b5966b9\")>,\n",
       " <selenium.webdriver.remote.webelement.WebElement (session=\"639140c0af4b4e000a76e68d684e6158\", element=\"84e6f0d8-4e7a-456d-b7be-0bf4b2bbf312\")>,\n",
       " <selenium.webdriver.remote.webelement.WebElement (session=\"639140c0af4b4e000a76e68d684e6158\", element=\"b0f4edd5-54bd-487f-ae42-097eb146633b\")>,\n",
       " <selenium.webdriver.remote.webelement.WebElement (session=\"639140c0af4b4e000a76e68d684e6158\", element=\"d4995af0-e735-4143-b089-1187486c16fe\")>,\n",
       " <selenium.webdriver.remote.webelement.WebElement (session=\"639140c0af4b4e000a76e68d684e6158\", element=\"9cfdb204-3ade-4cf5-893d-da444c3b6df7\")>,\n",
       " <selenium.webdriver.remote.webelement.WebElement (session=\"639140c0af4b4e000a76e68d684e6158\", element=\"0c5b6526-2fe5-4f67-8a37-03f397e91d07\")>,\n",
       " <selenium.webdriver.remote.webelement.WebElement (session=\"639140c0af4b4e000a76e68d684e6158\", element=\"869a5594-6e4a-4b09-b621-4c40de0d209d\")>,\n",
       " <selenium.webdriver.remote.webelement.WebElement (session=\"639140c0af4b4e000a76e68d684e6158\", element=\"1ba0b7c2-9a3b-4a0a-9a88-07ee4dc9ed1f\")>,\n",
       " <selenium.webdriver.remote.webelement.WebElement (session=\"639140c0af4b4e000a76e68d684e6158\", element=\"a59e1752-f1f8-4edf-85a4-2003a6f8f60b\")>,\n",
       " <selenium.webdriver.remote.webelement.WebElement (session=\"639140c0af4b4e000a76e68d684e6158\", element=\"464d07a1-0a95-40a5-b85d-5e085fe0e7c2\")>,\n",
       " <selenium.webdriver.remote.webelement.WebElement (session=\"639140c0af4b4e000a76e68d684e6158\", element=\"7fc6a21c-d249-4b5a-9942-1a004a79e77c\")>,\n",
       " <selenium.webdriver.remote.webelement.WebElement (session=\"639140c0af4b4e000a76e68d684e6158\", element=\"412bcdf5-38ba-4cbf-9ce5-2d90f289fc83\")>,\n",
       " <selenium.webdriver.remote.webelement.WebElement (session=\"639140c0af4b4e000a76e68d684e6158\", element=\"5d5eba1b-3a51-47b1-88ac-ef5086a0c0f5\")>,\n",
       " <selenium.webdriver.remote.webelement.WebElement (session=\"639140c0af4b4e000a76e68d684e6158\", element=\"5728405e-1b99-4246-ac27-9e8c22de7cb0\")>,\n",
       " <selenium.webdriver.remote.webelement.WebElement (session=\"639140c0af4b4e000a76e68d684e6158\", element=\"3ade82d3-53e4-4bb7-b3fd-7ef17c32ae85\")>,\n",
       " <selenium.webdriver.remote.webelement.WebElement (session=\"639140c0af4b4e000a76e68d684e6158\", element=\"a37aae05-7023-4c93-95d9-30b98f13afcf\")>,\n",
       " <selenium.webdriver.remote.webelement.WebElement (session=\"639140c0af4b4e000a76e68d684e6158\", element=\"1b5db96d-900f-4c9a-a06a-171776bd4df1\")>,\n",
       " <selenium.webdriver.remote.webelement.WebElement (session=\"639140c0af4b4e000a76e68d684e6158\", element=\"32b0e86c-2bd4-4102-b3ae-292e50bd5ce6\")>,\n",
       " <selenium.webdriver.remote.webelement.WebElement (session=\"639140c0af4b4e000a76e68d684e6158\", element=\"345f0718-a46e-4e1f-a1bb-5170d72502ae\")>,\n",
       " <selenium.webdriver.remote.webelement.WebElement (session=\"639140c0af4b4e000a76e68d684e6158\", element=\"f9ab222b-a73c-4299-98a7-8cad90c8c73e\")>,\n",
       " <selenium.webdriver.remote.webelement.WebElement (session=\"639140c0af4b4e000a76e68d684e6158\", element=\"febfa1f4-d24b-40a5-971a-19d01894ed59\")>,\n",
       " <selenium.webdriver.remote.webelement.WebElement (session=\"639140c0af4b4e000a76e68d684e6158\", element=\"c6a49f4d-c5d7-4de6-9444-d47a785cdc0d\")>,\n",
       " <selenium.webdriver.remote.webelement.WebElement (session=\"639140c0af4b4e000a76e68d684e6158\", element=\"491ed4a4-1bd3-4870-9750-4cc9e1907f1a\")>,\n",
       " <selenium.webdriver.remote.webelement.WebElement (session=\"639140c0af4b4e000a76e68d684e6158\", element=\"35713404-c4fc-489c-9804-56079701d012\")>,\n",
       " <selenium.webdriver.remote.webelement.WebElement (session=\"639140c0af4b4e000a76e68d684e6158\", element=\"26fa8599-6239-4d6d-aa7e-940dd710b24f\")>,\n",
       " <selenium.webdriver.remote.webelement.WebElement (session=\"639140c0af4b4e000a76e68d684e6158\", element=\"114256c1-adb4-4dc2-a99d-d5525d57eea0\")>,\n",
       " <selenium.webdriver.remote.webelement.WebElement (session=\"639140c0af4b4e000a76e68d684e6158\", element=\"16abf747-a25a-438a-865e-e26eb82bf57a\")>,\n",
       " <selenium.webdriver.remote.webelement.WebElement (session=\"639140c0af4b4e000a76e68d684e6158\", element=\"1ad6cd79-705c-4f54-8930-7a6d7cc83bff\")>,\n",
       " <selenium.webdriver.remote.webelement.WebElement (session=\"639140c0af4b4e000a76e68d684e6158\", element=\"1cddc148-5464-44ad-b339-0d87b81dd958\")>,\n",
       " <selenium.webdriver.remote.webelement.WebElement (session=\"639140c0af4b4e000a76e68d684e6158\", element=\"9fd585e7-e1c7-4a25-a119-42c92cba4ee2\")>,\n",
       " <selenium.webdriver.remote.webelement.WebElement (session=\"639140c0af4b4e000a76e68d684e6158\", element=\"5b1a925b-dc2f-4449-81a7-43a80c8e179a\")>,\n",
       " <selenium.webdriver.remote.webelement.WebElement (session=\"639140c0af4b4e000a76e68d684e6158\", element=\"88a56c3a-d148-420c-94c1-3b0476152190\")>,\n",
       " <selenium.webdriver.remote.webelement.WebElement (session=\"639140c0af4b4e000a76e68d684e6158\", element=\"1ae31acc-09e4-4009-b843-a12e2369a054\")>,\n",
       " <selenium.webdriver.remote.webelement.WebElement (session=\"639140c0af4b4e000a76e68d684e6158\", element=\"baf48485-025e-427b-ab97-9456c96cddf8\")>,\n",
       " <selenium.webdriver.remote.webelement.WebElement (session=\"639140c0af4b4e000a76e68d684e6158\", element=\"32ff73a1-f16e-4d3a-8a2e-018e567f2f49\")>,\n",
       " <selenium.webdriver.remote.webelement.WebElement (session=\"639140c0af4b4e000a76e68d684e6158\", element=\"99064db9-e4c0-49dd-931c-d2d1b7c6e6c8\")>,\n",
       " <selenium.webdriver.remote.webelement.WebElement (session=\"639140c0af4b4e000a76e68d684e6158\", element=\"0904ba53-95ad-42c7-b073-78b1bcc8b97f\")>,\n",
       " <selenium.webdriver.remote.webelement.WebElement (session=\"639140c0af4b4e000a76e68d684e6158\", element=\"f4443bc3-a2d4-4894-9742-9ed34ce29330\")>,\n",
       " <selenium.webdriver.remote.webelement.WebElement (session=\"639140c0af4b4e000a76e68d684e6158\", element=\"4a049aaf-4c5b-4412-a572-857a257fac5d\")>,\n",
       " <selenium.webdriver.remote.webelement.WebElement (session=\"639140c0af4b4e000a76e68d684e6158\", element=\"524fd210-98ea-4a1c-a4ff-e3ceaeb25406\")>,\n",
       " <selenium.webdriver.remote.webelement.WebElement (session=\"639140c0af4b4e000a76e68d684e6158\", element=\"63cd44f5-559b-409f-a15e-f01e94e5b10a\")>,\n",
       " <selenium.webdriver.remote.webelement.WebElement (session=\"639140c0af4b4e000a76e68d684e6158\", element=\"fa0972c2-e40a-4c44-8ab8-d5f26c96ca37\")>,\n",
       " <selenium.webdriver.remote.webelement.WebElement (session=\"639140c0af4b4e000a76e68d684e6158\", element=\"8bba9e62-cf71-48db-baca-cc166dca6ac8\")>,\n",
       " <selenium.webdriver.remote.webelement.WebElement (session=\"639140c0af4b4e000a76e68d684e6158\", element=\"51be39fe-740b-4c77-afc4-7cdf6864fe97\")>,\n",
       " <selenium.webdriver.remote.webelement.WebElement (session=\"639140c0af4b4e000a76e68d684e6158\", element=\"aae683de-b404-44e1-8835-835cb796f78f\")>]"
      ]
     },
     "execution_count": 108,
     "metadata": {},
     "output_type": "execute_result"
    }
   ],
   "source": [
    "Price_list=driver.find_elements_by_xpath(\"//div[@class='product-price']\")\n",
    "Price_list"
   ]
  },
  {
   "cell_type": "code",
   "execution_count": 109,
   "id": "e4f6096d",
   "metadata": {},
   "outputs": [
    {
     "data": {
      "text/plain": [
       "['Rs. 5396Rs. 7195(25% OFF)',\n",
       " 'Rs. 8999',\n",
       " 'Rs. 9999',\n",
       " 'Rs. 5999',\n",
       " 'Rs. 7999',\n",
       " 'Rs. 5399Rs. 5999(10% OFF)',\n",
       " 'Rs. 5495',\n",
       " 'Rs. 6079Rs. 7599(20% OFF)',\n",
       " 'Rs. 9999',\n",
       " 'Rs. 6999Rs. 9999(30% OFF)',\n",
       " 'Rs. 5995',\n",
       " 'Rs. 9999',\n",
       " 'Rs. 6999',\n",
       " 'Rs. 6999',\n",
       " 'Rs. 6999',\n",
       " 'Rs. 6999',\n",
       " 'Rs. 7999',\n",
       " 'Rs. 7999',\n",
       " 'Rs. 7499',\n",
       " 'Rs. 9749Rs. 14999(35% OFF)',\n",
       " 'Rs. 6499',\n",
       " 'Rs. 6299Rs. 8999(30% OFF)',\n",
       " 'Rs. 7999',\n",
       " 'Rs. 8999Rs. 9999(10% OFF)',\n",
       " 'Rs. 6499',\n",
       " 'Rs. 6299Rs. 6999(10% OFF)',\n",
       " 'Rs. 6499',\n",
       " 'Rs. 6299Rs. 8999(30% OFF)',\n",
       " 'Rs. 9999',\n",
       " 'Rs. 6399Rs. 7999(20% OFF)',\n",
       " 'Rs. 6999',\n",
       " 'Rs. 5499',\n",
       " 'Rs. 8999',\n",
       " 'Rs. 5999',\n",
       " 'Rs. 5499',\n",
       " 'Rs. 7999Rs. 9999(20% OFF)',\n",
       " 'Rs. 5999',\n",
       " 'Rs. 5599Rs. 6999(20% OFF)',\n",
       " 'Rs. 9999',\n",
       " 'Rs. 6999Rs. 9999(30% OFF)',\n",
       " 'Rs. 5399Rs. 5999(10% OFF)',\n",
       " 'Rs. 6299Rs. 8999(30% OFF)',\n",
       " 'Rs. 9999',\n",
       " 'Rs. 8449Rs. 12999(35% OFF)',\n",
       " 'Rs. 8399Rs. 10499(20% OFF)',\n",
       " 'Rs. 7195',\n",
       " 'Rs. 6999',\n",
       " 'Rs. 7149Rs. 10999(35% OFF)',\n",
       " 'Rs. 8121Rs. 12495(35% OFF)',\n",
       " 'Rs. 6499']"
      ]
     },
     "execution_count": 109,
     "metadata": {},
     "output_type": "execute_result"
    }
   ],
   "source": [
    "Price_lists=[]\n",
    "for i in Price_list[:100]:\n",
    "    Price_lists.append(i.text)\n",
    "Price_lists"
   ]
  },
  {
   "cell_type": "code",
   "execution_count": 113,
   "id": "63305ad6",
   "metadata": {},
   "outputs": [
    {
     "name": "stdout",
     "output_type": "stream",
     "text": [
      "10 16 11\n"
     ]
    }
   ],
   "source": [
    "print(len('Brand_name'),len('Shoe_description'),len('Price_lists'))"
   ]
  },
  {
   "cell_type": "code",
   "execution_count": 114,
   "id": "869b6f98",
   "metadata": {},
   "outputs": [],
   "source": [
    "Shoe=pd.DataFrame({})\n",
    "Shoe['Brand']=Brand_name\n",
    "Shoe['Shoe_description']=Shoe_description\n",
    "Shoe['Price']=Price_lists"
   ]
  },
  {
   "cell_type": "code",
   "execution_count": 115,
   "id": "7f7b9fc9",
   "metadata": {},
   "outputs": [
    {
     "data": {
      "text/html": [
       "<div>\n",
       "<style scoped>\n",
       "    .dataframe tbody tr th:only-of-type {\n",
       "        vertical-align: middle;\n",
       "    }\n",
       "\n",
       "    .dataframe tbody tr th {\n",
       "        vertical-align: top;\n",
       "    }\n",
       "\n",
       "    .dataframe thead th {\n",
       "        text-align: right;\n",
       "    }\n",
       "</style>\n",
       "<table border=\"1\" class=\"dataframe\">\n",
       "  <thead>\n",
       "    <tr style=\"text-align: right;\">\n",
       "      <th></th>\n",
       "      <th>Brand</th>\n",
       "      <th>Shoe_description</th>\n",
       "      <th>Price</th>\n",
       "    </tr>\n",
       "  </thead>\n",
       "  <tbody>\n",
       "    <tr>\n",
       "      <th>0</th>\n",
       "      <td>UNDER ARMOUR</td>\n",
       "      <td>Men ZOOM SPAN 3 Running Shoes</td>\n",
       "      <td>Rs. 5396Rs. 7195(25% OFF)</td>\n",
       "    </tr>\n",
       "    <tr>\n",
       "      <th>1</th>\n",
       "      <td>Nike</td>\n",
       "      <td>Men Charged Bandit 6 Running</td>\n",
       "      <td>Rs. 8999</td>\n",
       "    </tr>\n",
       "    <tr>\n",
       "      <th>2</th>\n",
       "      <td>UNDER ARMOUR</td>\n",
       "      <td>Men HOVR Sonic STRT Tech Shoes</td>\n",
       "      <td>Rs. 9999</td>\n",
       "    </tr>\n",
       "    <tr>\n",
       "      <th>3</th>\n",
       "      <td>Puma</td>\n",
       "      <td>Axelion Block Running Shoes</td>\n",
       "      <td>Rs. 5999</td>\n",
       "    </tr>\n",
       "    <tr>\n",
       "      <th>4</th>\n",
       "      <td>UNDER ARMOUR</td>\n",
       "      <td>Men Charged Vantage Running</td>\n",
       "      <td>Rs. 7999</td>\n",
       "    </tr>\n",
       "    <tr>\n",
       "      <th>5</th>\n",
       "      <td>Hush Puppies</td>\n",
       "      <td>Men Solid Leather Formal Oxfords</td>\n",
       "      <td>Rs. 5399Rs. 5999(10% OFF)</td>\n",
       "    </tr>\n",
       "    <tr>\n",
       "      <th>6</th>\n",
       "      <td>Nike</td>\n",
       "      <td>Men Crater Remixa Sneakers</td>\n",
       "      <td>Rs. 5495</td>\n",
       "    </tr>\n",
       "    <tr>\n",
       "      <th>7</th>\n",
       "      <td>Geox</td>\n",
       "      <td>Women Response SR Running</td>\n",
       "      <td>Rs. 6079Rs. 7599(20% OFF)</td>\n",
       "    </tr>\n",
       "    <tr>\n",
       "      <th>8</th>\n",
       "      <td>ADIDAS</td>\n",
       "      <td>Men Leather Formal Derbys</td>\n",
       "      <td>Rs. 9999</td>\n",
       "    </tr>\n",
       "    <tr>\n",
       "      <th>9</th>\n",
       "      <td>ADIDAS</td>\n",
       "      <td>Women SUPERNOVA Running Shoes</td>\n",
       "      <td>Rs. 6999Rs. 9999(30% OFF)</td>\n",
       "    </tr>\n",
       "    <tr>\n",
       "      <th>10</th>\n",
       "      <td>UNDER ARMOUR</td>\n",
       "      <td>Men Perforations Brogues</td>\n",
       "      <td>Rs. 5995</td>\n",
       "    </tr>\n",
       "    <tr>\n",
       "      <th>11</th>\n",
       "      <td>Puma</td>\n",
       "      <td>Unisex Project Rock Recruit</td>\n",
       "      <td>Rs. 9999</td>\n",
       "    </tr>\n",
       "    <tr>\n",
       "      <th>12</th>\n",
       "      <td>UNDER ARMOUR</td>\n",
       "      <td>Men Cell Fraction Fade Running</td>\n",
       "      <td>Rs. 6999</td>\n",
       "    </tr>\n",
       "    <tr>\n",
       "      <th>13</th>\n",
       "      <td>UNDER ARMOUR</td>\n",
       "      <td>Men Charged Pursuit 2 SE Shoes</td>\n",
       "      <td>Rs. 6999</td>\n",
       "    </tr>\n",
       "    <tr>\n",
       "      <th>14</th>\n",
       "      <td>UNDER ARMOUR</td>\n",
       "      <td>Men Charged Assert 8 Marble</td>\n",
       "      <td>Rs. 6999</td>\n",
       "    </tr>\n",
       "    <tr>\n",
       "      <th>15</th>\n",
       "      <td>UNDER ARMOUR</td>\n",
       "      <td>Men Charged Pursuit 2 SE</td>\n",
       "      <td>Rs. 6999</td>\n",
       "    </tr>\n",
       "    <tr>\n",
       "      <th>16</th>\n",
       "      <td>UNDER ARMOUR</td>\n",
       "      <td>Women Charged Vantage ClrShft</td>\n",
       "      <td>Rs. 7999</td>\n",
       "    </tr>\n",
       "    <tr>\n",
       "      <th>17</th>\n",
       "      <td>UNDER ARMOUR</td>\n",
       "      <td>Men Charged Commit 3 Training</td>\n",
       "      <td>Rs. 7999</td>\n",
       "    </tr>\n",
       "    <tr>\n",
       "      <th>18</th>\n",
       "      <td>Puma</td>\n",
       "      <td>GS SC 3Zero IV Basketball</td>\n",
       "      <td>Rs. 7499</td>\n",
       "    </tr>\n",
       "    <tr>\n",
       "      <th>19</th>\n",
       "      <td>UNDER ARMOUR</td>\n",
       "      <td>Women Deviate Nitro Running</td>\n",
       "      <td>Rs. 9749Rs. 14999(35% OFF)</td>\n",
       "    </tr>\n",
       "    <tr>\n",
       "      <th>20</th>\n",
       "      <td>Hush Puppies</td>\n",
       "      <td>Men Colourblocked Leather Derbys</td>\n",
       "      <td>Rs. 6499</td>\n",
       "    </tr>\n",
       "    <tr>\n",
       "      <th>21</th>\n",
       "      <td>Skechers</td>\n",
       "      <td>Women UltraRide Running Shoes</td>\n",
       "      <td>Rs. 6299Rs. 8999(30% OFF)</td>\n",
       "    </tr>\n",
       "    <tr>\n",
       "      <th>22</th>\n",
       "      <td>Hush Puppies</td>\n",
       "      <td>Men Charged Rogue 2.5 RFLCT</td>\n",
       "      <td>Rs. 7999</td>\n",
       "    </tr>\n",
       "    <tr>\n",
       "      <th>23</th>\n",
       "      <td>Puma</td>\n",
       "      <td>Men Formal Derbys</td>\n",
       "      <td>Rs. 8999Rs. 9999(10% OFF)</td>\n",
       "    </tr>\n",
       "    <tr>\n",
       "      <th>24</th>\n",
       "      <td>Hush Puppies</td>\n",
       "      <td>Men Equalizer 4.0 Trail</td>\n",
       "      <td>Rs. 6499</td>\n",
       "    </tr>\n",
       "    <tr>\n",
       "      <th>25</th>\n",
       "      <td>FORCLAZ By Decathlon</td>\n",
       "      <td>Men Leather Slip-On Sneakers</td>\n",
       "      <td>Rs. 6299Rs. 6999(10% OFF)</td>\n",
       "    </tr>\n",
       "    <tr>\n",
       "      <th>26</th>\n",
       "      <td>PUMA Hoops</td>\n",
       "      <td>Men SOFTRIDE Rift Shoes</td>\n",
       "      <td>Rs. 6499</td>\n",
       "    </tr>\n",
       "    <tr>\n",
       "      <th>27</th>\n",
       "      <td>Quechua By Decathlon</td>\n",
       "      <td>Men Solid Leather Formal Slip-Ons</td>\n",
       "      <td>Rs. 6299Rs. 8999(30% OFF)</td>\n",
       "    </tr>\n",
       "    <tr>\n",
       "      <th>28</th>\n",
       "      <td>Puma</td>\n",
       "      <td>Men Textured Leather Driving Shoes</td>\n",
       "      <td>Rs. 9999</td>\n",
       "    </tr>\n",
       "    <tr>\n",
       "      <th>29</th>\n",
       "      <td>Geox</td>\n",
       "      <td>Women Leather Loafers</td>\n",
       "      <td>Rs. 6399Rs. 7999(20% OFF)</td>\n",
       "    </tr>\n",
       "    <tr>\n",
       "      <th>30</th>\n",
       "      <td>RARE RABBIT</td>\n",
       "      <td>TREKKING 100 Boots</td>\n",
       "      <td>Rs. 6999</td>\n",
       "    </tr>\n",
       "    <tr>\n",
       "      <th>31</th>\n",
       "      <td>Puma</td>\n",
       "      <td>Women Waterproof Hiking Shoes</td>\n",
       "      <td>Rs. 5499</td>\n",
       "    </tr>\n",
       "    <tr>\n",
       "      <th>32</th>\n",
       "      <td>UNDER ARMOUR</td>\n",
       "      <td>Unisex Clyde Basketball Shoes</td>\n",
       "      <td>Rs. 8999</td>\n",
       "    </tr>\n",
       "    <tr>\n",
       "      <th>33</th>\n",
       "      <td>Bugatti</td>\n",
       "      <td>Men Leader VT Running Shoes</td>\n",
       "      <td>Rs. 5999</td>\n",
       "    </tr>\n",
       "    <tr>\n",
       "      <th>34</th>\n",
       "      <td>Kalenji By Decathlon</td>\n",
       "      <td>Women BETTER FOAM Adore Shoes</td>\n",
       "      <td>Rs. 5499</td>\n",
       "    </tr>\n",
       "    <tr>\n",
       "      <th>35</th>\n",
       "      <td>Geox</td>\n",
       "      <td>Men Sneakers</td>\n",
       "      <td>Rs. 7999Rs. 9999(20% OFF)</td>\n",
       "    </tr>\n",
       "    <tr>\n",
       "      <th>36</th>\n",
       "      <td>Hush Puppies</td>\n",
       "      <td>Men Victory Sneakers</td>\n",
       "      <td>Rs. 5999</td>\n",
       "    </tr>\n",
       "    <tr>\n",
       "      <th>37</th>\n",
       "      <td>Quechua By Decathlon</td>\n",
       "      <td>Men Perforated Mule Sneakers</td>\n",
       "      <td>Rs. 5599Rs. 6999(20% OFF)</td>\n",
       "    </tr>\n",
       "    <tr>\n",
       "      <th>38</th>\n",
       "      <td>Hush Puppies</td>\n",
       "      <td>Men Leather Formal Derbys</td>\n",
       "      <td>Rs. 9999</td>\n",
       "    </tr>\n",
       "    <tr>\n",
       "      <th>39</th>\n",
       "      <td>Hush Puppies</td>\n",
       "      <td>Men Leather Slip-On Sneakers</td>\n",
       "      <td>Rs. 6999Rs. 9999(30% OFF)</td>\n",
       "    </tr>\n",
       "    <tr>\n",
       "      <th>40</th>\n",
       "      <td>RARE RABBIT</td>\n",
       "      <td>Men Leather Formal Brogues</td>\n",
       "      <td>Rs. 5399Rs. 5999(10% OFF)</td>\n",
       "    </tr>\n",
       "    <tr>\n",
       "      <th>41</th>\n",
       "      <td>Geox</td>\n",
       "      <td>Men Colourblocked Driving Shoes</td>\n",
       "      <td>Rs. 6299Rs. 8999(30% OFF)</td>\n",
       "    </tr>\n",
       "    <tr>\n",
       "      <th>42</th>\n",
       "      <td>Puma</td>\n",
       "      <td>Men Trekking Shoes</td>\n",
       "      <td>Rs. 9999</td>\n",
       "    </tr>\n",
       "    <tr>\n",
       "      <th>43</th>\n",
       "      <td>Nike</td>\n",
       "      <td>Women Eternity Nitro Running</td>\n",
       "      <td>Rs. 8449Rs. 12999(35% OFF)</td>\n",
       "    </tr>\n",
       "    <tr>\n",
       "      <th>44</th>\n",
       "      <td>PUMA Hoops</td>\n",
       "      <td>Men Leather Formal Derbys</td>\n",
       "      <td>Rs. 8399Rs. 10499(20% OFF)</td>\n",
       "    </tr>\n",
       "    <tr>\n",
       "      <th>45</th>\n",
       "      <td>Puma</td>\n",
       "      <td>Men BlazerLow '77 Sneakers</td>\n",
       "      <td>Rs. 7195</td>\n",
       "    </tr>\n",
       "    <tr>\n",
       "      <th>46</th>\n",
       "      <td>Nike</td>\n",
       "      <td>Unisex Future Rider Sneakers</td>\n",
       "      <td>Rs. 6999</td>\n",
       "    </tr>\n",
       "    <tr>\n",
       "      <th>47</th>\n",
       "      <td>Puma</td>\n",
       "      <td>Unisex Clyde Basketball Shoes</td>\n",
       "      <td>Rs. 7149Rs. 10999(35% OFF)</td>\n",
       "    </tr>\n",
       "    <tr>\n",
       "      <th>48</th>\n",
       "      <td>UNDER ARMOUR</td>\n",
       "      <td>Women AIR MAX VIVA Sneakers</td>\n",
       "      <td>Rs. 8121Rs. 12495(35% OFF)</td>\n",
       "    </tr>\n",
       "    <tr>\n",
       "      <th>49</th>\n",
       "      <td>Geox</td>\n",
       "      <td>Men Running Shoes</td>\n",
       "      <td>Rs. 6499</td>\n",
       "    </tr>\n",
       "  </tbody>\n",
       "</table>\n",
       "</div>"
      ],
      "text/plain": [
       "                   Brand                    Shoe_description  \\\n",
       "0           UNDER ARMOUR       Men ZOOM SPAN 3 Running Shoes   \n",
       "1                   Nike        Men Charged Bandit 6 Running   \n",
       "2           UNDER ARMOUR      Men HOVR Sonic STRT Tech Shoes   \n",
       "3                   Puma         Axelion Block Running Shoes   \n",
       "4           UNDER ARMOUR         Men Charged Vantage Running   \n",
       "5           Hush Puppies    Men Solid Leather Formal Oxfords   \n",
       "6                   Nike          Men Crater Remixa Sneakers   \n",
       "7                   Geox           Women Response SR Running   \n",
       "8                 ADIDAS           Men Leather Formal Derbys   \n",
       "9                 ADIDAS       Women SUPERNOVA Running Shoes   \n",
       "10          UNDER ARMOUR            Men Perforations Brogues   \n",
       "11                  Puma         Unisex Project Rock Recruit   \n",
       "12          UNDER ARMOUR      Men Cell Fraction Fade Running   \n",
       "13          UNDER ARMOUR      Men Charged Pursuit 2 SE Shoes   \n",
       "14          UNDER ARMOUR         Men Charged Assert 8 Marble   \n",
       "15          UNDER ARMOUR            Men Charged Pursuit 2 SE   \n",
       "16          UNDER ARMOUR       Women Charged Vantage ClrShft   \n",
       "17          UNDER ARMOUR       Men Charged Commit 3 Training   \n",
       "18                  Puma           GS SC 3Zero IV Basketball   \n",
       "19          UNDER ARMOUR         Women Deviate Nitro Running   \n",
       "20          Hush Puppies    Men Colourblocked Leather Derbys   \n",
       "21              Skechers       Women UltraRide Running Shoes   \n",
       "22          Hush Puppies         Men Charged Rogue 2.5 RFLCT   \n",
       "23                  Puma                   Men Formal Derbys   \n",
       "24          Hush Puppies             Men Equalizer 4.0 Trail   \n",
       "25  FORCLAZ By Decathlon        Men Leather Slip-On Sneakers   \n",
       "26            PUMA Hoops             Men SOFTRIDE Rift Shoes   \n",
       "27  Quechua By Decathlon   Men Solid Leather Formal Slip-Ons   \n",
       "28                  Puma  Men Textured Leather Driving Shoes   \n",
       "29                  Geox               Women Leather Loafers   \n",
       "30           RARE RABBIT                  TREKKING 100 Boots   \n",
       "31                  Puma       Women Waterproof Hiking Shoes   \n",
       "32          UNDER ARMOUR       Unisex Clyde Basketball Shoes   \n",
       "33               Bugatti         Men Leader VT Running Shoes   \n",
       "34  Kalenji By Decathlon       Women BETTER FOAM Adore Shoes   \n",
       "35                  Geox                        Men Sneakers   \n",
       "36          Hush Puppies                Men Victory Sneakers   \n",
       "37  Quechua By Decathlon        Men Perforated Mule Sneakers   \n",
       "38          Hush Puppies           Men Leather Formal Derbys   \n",
       "39          Hush Puppies        Men Leather Slip-On Sneakers   \n",
       "40           RARE RABBIT          Men Leather Formal Brogues   \n",
       "41                  Geox     Men Colourblocked Driving Shoes   \n",
       "42                  Puma                  Men Trekking Shoes   \n",
       "43                  Nike        Women Eternity Nitro Running   \n",
       "44            PUMA Hoops           Men Leather Formal Derbys   \n",
       "45                  Puma          Men BlazerLow '77 Sneakers   \n",
       "46                  Nike        Unisex Future Rider Sneakers   \n",
       "47                  Puma       Unisex Clyde Basketball Shoes   \n",
       "48          UNDER ARMOUR         Women AIR MAX VIVA Sneakers   \n",
       "49                  Geox                   Men Running Shoes   \n",
       "\n",
       "                         Price  \n",
       "0    Rs. 5396Rs. 7195(25% OFF)  \n",
       "1                     Rs. 8999  \n",
       "2                     Rs. 9999  \n",
       "3                     Rs. 5999  \n",
       "4                     Rs. 7999  \n",
       "5    Rs. 5399Rs. 5999(10% OFF)  \n",
       "6                     Rs. 5495  \n",
       "7    Rs. 6079Rs. 7599(20% OFF)  \n",
       "8                     Rs. 9999  \n",
       "9    Rs. 6999Rs. 9999(30% OFF)  \n",
       "10                    Rs. 5995  \n",
       "11                    Rs. 9999  \n",
       "12                    Rs. 6999  \n",
       "13                    Rs. 6999  \n",
       "14                    Rs. 6999  \n",
       "15                    Rs. 6999  \n",
       "16                    Rs. 7999  \n",
       "17                    Rs. 7999  \n",
       "18                    Rs. 7499  \n",
       "19  Rs. 9749Rs. 14999(35% OFF)  \n",
       "20                    Rs. 6499  \n",
       "21   Rs. 6299Rs. 8999(30% OFF)  \n",
       "22                    Rs. 7999  \n",
       "23   Rs. 8999Rs. 9999(10% OFF)  \n",
       "24                    Rs. 6499  \n",
       "25   Rs. 6299Rs. 6999(10% OFF)  \n",
       "26                    Rs. 6499  \n",
       "27   Rs. 6299Rs. 8999(30% OFF)  \n",
       "28                    Rs. 9999  \n",
       "29   Rs. 6399Rs. 7999(20% OFF)  \n",
       "30                    Rs. 6999  \n",
       "31                    Rs. 5499  \n",
       "32                    Rs. 8999  \n",
       "33                    Rs. 5999  \n",
       "34                    Rs. 5499  \n",
       "35   Rs. 7999Rs. 9999(20% OFF)  \n",
       "36                    Rs. 5999  \n",
       "37   Rs. 5599Rs. 6999(20% OFF)  \n",
       "38                    Rs. 9999  \n",
       "39   Rs. 6999Rs. 9999(30% OFF)  \n",
       "40   Rs. 5399Rs. 5999(10% OFF)  \n",
       "41   Rs. 6299Rs. 8999(30% OFF)  \n",
       "42                    Rs. 9999  \n",
       "43  Rs. 8449Rs. 12999(35% OFF)  \n",
       "44  Rs. 8399Rs. 10499(20% OFF)  \n",
       "45                    Rs. 7195  \n",
       "46                    Rs. 6999  \n",
       "47  Rs. 7149Rs. 10999(35% OFF)  \n",
       "48  Rs. 8121Rs. 12495(35% OFF)  \n",
       "49                    Rs. 6499  "
      ]
     },
     "execution_count": 115,
     "metadata": {},
     "output_type": "execute_result"
    }
   ],
   "source": [
    "Shoe"
   ]
  },
  {
   "cell_type": "markdown",
   "id": "a53b9b6b",
   "metadata": {},
   "source": [
    "Q.No.10 Go to webpage https://www.amazon.in/\n",
    "Enter “Laptop” in the search field and then click the search icon.\n",
    "Then set CPU Type filter to “Intel Core i7” and “Intel Core i9” as shown in the below image:\n",
    "After setting the filters scrape first 10 laptops data. You have to scrape 3 attributes for each laptop:\n",
    "1. title\n",
    "2. Ratings\n",
    "3. Price"
   ]
  },
  {
   "cell_type": "code",
   "execution_count": 3,
   "id": "4a3effff",
   "metadata": {},
   "outputs": [],
   "source": [
    "url = 'https://www.amazon.in/'\n",
    "driver.get(url)"
   ]
  },
  {
   "cell_type": "code",
   "execution_count": 4,
   "id": "a5dc278a",
   "metadata": {},
   "outputs": [],
   "source": [
    "CPU_filter = driver.find_element_by_xpath('/html/body/div[1]/div[2]/div[1]/div[2]/div/div[3]/span/div[1]/span/div/div/div[6]/ul[16]/li[26]/span/a/span')\n",
    "CPU_filter.click()"
   ]
  },
  {
   "cell_type": "code",
   "execution_count": 5,
   "id": "4ed65b00",
   "metadata": {},
   "outputs": [],
   "source": [
    "Cpu_filter = driver.find_element_by_xpath('/html/body/div[1]/div[2]/div[1]/div[2]/div/div[3]/span/div[1]/span/div/div/div[6]/ul[16]/li[28]/span/a/span')\n",
    "Cpu_filter.click()"
   ]
  },
  {
   "cell_type": "code",
   "execution_count": 6,
   "id": "62888dec",
   "metadata": {},
   "outputs": [
    {
     "data": {
      "text/plain": [
       "[<selenium.webdriver.remote.webelement.WebElement (session=\"e0eb73c61b7c17258dd84c28284039a1\", element=\"25c0f55d-17a6-4e16-bb8a-4102d5c7fcd8\")>,\n",
       " <selenium.webdriver.remote.webelement.WebElement (session=\"e0eb73c61b7c17258dd84c28284039a1\", element=\"926f0f8a-7c38-4c40-85a5-5a6ec6319fff\")>,\n",
       " <selenium.webdriver.remote.webelement.WebElement (session=\"e0eb73c61b7c17258dd84c28284039a1\", element=\"c3949b16-71c1-4826-9463-1ea48766b8bd\")>,\n",
       " <selenium.webdriver.remote.webelement.WebElement (session=\"e0eb73c61b7c17258dd84c28284039a1\", element=\"431eeb0d-b8ca-4108-b4e4-e39c790600ef\")>,\n",
       " <selenium.webdriver.remote.webelement.WebElement (session=\"e0eb73c61b7c17258dd84c28284039a1\", element=\"139d8bdf-8749-4cf2-9a02-f94d44f03b7d\")>,\n",
       " <selenium.webdriver.remote.webelement.WebElement (session=\"e0eb73c61b7c17258dd84c28284039a1\", element=\"c0acfaa6-0fa7-42ca-9e64-3e5b23842f6b\")>,\n",
       " <selenium.webdriver.remote.webelement.WebElement (session=\"e0eb73c61b7c17258dd84c28284039a1\", element=\"ada2e3b4-7177-4b79-b05a-eaefb6d75453\")>,\n",
       " <selenium.webdriver.remote.webelement.WebElement (session=\"e0eb73c61b7c17258dd84c28284039a1\", element=\"7fa1e0c7-e69e-48c4-af09-d98193e8275f\")>,\n",
       " <selenium.webdriver.remote.webelement.WebElement (session=\"e0eb73c61b7c17258dd84c28284039a1\", element=\"f36bc521-3340-4a34-9f42-fa4c942e6ca6\")>,\n",
       " <selenium.webdriver.remote.webelement.WebElement (session=\"e0eb73c61b7c17258dd84c28284039a1\", element=\"20d8b2ef-796a-4d3d-b485-b81fffa1dc55\")>,\n",
       " <selenium.webdriver.remote.webelement.WebElement (session=\"e0eb73c61b7c17258dd84c28284039a1\", element=\"32d36576-ede6-40bc-9759-c47e8b7c8c3f\")>,\n",
       " <selenium.webdriver.remote.webelement.WebElement (session=\"e0eb73c61b7c17258dd84c28284039a1\", element=\"5b4b10be-8c58-4f6c-a86c-202e5c69b46a\")>,\n",
       " <selenium.webdriver.remote.webelement.WebElement (session=\"e0eb73c61b7c17258dd84c28284039a1\", element=\"99ff72f1-2e35-41d1-95d2-592d785ffc5c\")>,\n",
       " <selenium.webdriver.remote.webelement.WebElement (session=\"e0eb73c61b7c17258dd84c28284039a1\", element=\"148430cb-c4b8-4f4d-a2fc-9d2f82928f64\")>,\n",
       " <selenium.webdriver.remote.webelement.WebElement (session=\"e0eb73c61b7c17258dd84c28284039a1\", element=\"05c6e472-321a-4752-9931-74d86deb0e2d\")>,\n",
       " <selenium.webdriver.remote.webelement.WebElement (session=\"e0eb73c61b7c17258dd84c28284039a1\", element=\"1a943772-66f5-42eb-9f52-494bf454f966\")>,\n",
       " <selenium.webdriver.remote.webelement.WebElement (session=\"e0eb73c61b7c17258dd84c28284039a1\", element=\"4080840d-f978-4da1-b260-39db23301da3\")>,\n",
       " <selenium.webdriver.remote.webelement.WebElement (session=\"e0eb73c61b7c17258dd84c28284039a1\", element=\"902e28bd-1dfa-4cf1-b479-d1cf2915322b\")>,\n",
       " <selenium.webdriver.remote.webelement.WebElement (session=\"e0eb73c61b7c17258dd84c28284039a1\", element=\"54c5d082-d881-42b1-b565-beeb609c8630\")>,\n",
       " <selenium.webdriver.remote.webelement.WebElement (session=\"e0eb73c61b7c17258dd84c28284039a1\", element=\"7dc18946-0ef8-45a5-8193-81510cbf732c\")>,\n",
       " <selenium.webdriver.remote.webelement.WebElement (session=\"e0eb73c61b7c17258dd84c28284039a1\", element=\"b1dadedf-0bcd-4726-8d3f-894fe79585cc\")>,\n",
       " <selenium.webdriver.remote.webelement.WebElement (session=\"e0eb73c61b7c17258dd84c28284039a1\", element=\"dc5e7751-2762-4362-b1a0-9de8b8f8ceda\")>,\n",
       " <selenium.webdriver.remote.webelement.WebElement (session=\"e0eb73c61b7c17258dd84c28284039a1\", element=\"2234b979-a54b-4b2e-b6bf-eb31e017f7e6\")>,\n",
       " <selenium.webdriver.remote.webelement.WebElement (session=\"e0eb73c61b7c17258dd84c28284039a1\", element=\"2a7aa01d-0336-4202-9714-f799ea124490\")>,\n",
       " <selenium.webdriver.remote.webelement.WebElement (session=\"e0eb73c61b7c17258dd84c28284039a1\", element=\"e94be003-fd8f-4a2b-bc9c-5e4e9b12a4a2\")>,\n",
       " <selenium.webdriver.remote.webelement.WebElement (session=\"e0eb73c61b7c17258dd84c28284039a1\", element=\"6b51c57e-1cbb-4b48-9a48-112210b9fda9\")>,\n",
       " <selenium.webdriver.remote.webelement.WebElement (session=\"e0eb73c61b7c17258dd84c28284039a1\", element=\"2c6c8a74-5a28-441d-b1cc-ec59c51e21d4\")>,\n",
       " <selenium.webdriver.remote.webelement.WebElement (session=\"e0eb73c61b7c17258dd84c28284039a1\", element=\"4cbb9666-81ae-49b7-be80-6c52c48b1ddf\")>,\n",
       " <selenium.webdriver.remote.webelement.WebElement (session=\"e0eb73c61b7c17258dd84c28284039a1\", element=\"3158e524-70b4-4bdf-a782-19fe168e0cd6\")>,\n",
       " <selenium.webdriver.remote.webelement.WebElement (session=\"e0eb73c61b7c17258dd84c28284039a1\", element=\"bb3ae53f-1599-427f-adf9-b518a6ba9a82\")>]"
      ]
     },
     "execution_count": 6,
     "metadata": {},
     "output_type": "execute_result"
    }
   ],
   "source": [
    "Title_names=driver.find_elements_by_xpath(\"//h2[@class='a-size-mini a-spacing-none a-color-base s-line-clamp-2']\")\n",
    "Title_names"
   ]
  },
  {
   "cell_type": "code",
   "execution_count": 7,
   "id": "866c6573",
   "metadata": {},
   "outputs": [
    {
     "data": {
      "text/plain": [
       "['ASUS TUF Dash F15 (2021), 15.6\" (39.62 cms) FHD 144Hz, Intel Core i7-11370H 11th Gen, RTX 3050 Ti 4GB Graphics, Gaming Laptop (16GB/1TB SSD/Office 2019/Windows 10/Eclipse Gray/2 kg), FX516PE-HN088TS',\n",
       " 'Dell Alienware m15(R3) 15.6-inch FHD Gaming Laptop (10th Gen Core i7-10750H/16GB/512GB SSD/Windows 10 Home & MS Office/6GB NVIDIA GTX 1660 Ti Graphics), Lunar Light',\n",
       " 'HP Pavilion (2021) Thin & Light 11th Gen Core i7 Laptop, 16 GB RAM, 1TB SSD, Iris Xe Graphics, 14\" (35.56cms) FHD Screen, Windows 10, MS Office, Backlit Keyboard (14-dv0058TU)',\n",
       " 'Life Digital Laptop 15.6-inch (39.62 cms) (Intel Core i7, 4GB RAM, 256GB SSD, Windows 10), ZED AIR CX7',\n",
       " 'Mi Notebook Horizon Edition 14 Intel Core i7-10510U 10th Gen 14-inch (35.56 cms) Thin and Light Laptop(8GB/512GB SSD/Windows 10/Nvidia MX350 2GB Graphics/Grey/1.35Kg), XMA1904-AF+Webcam',\n",
       " 'ASUS TUF Gaming F15 (2020), 15.6-inch (39.62 cms) FHD 144Hz, Intel Core i7-10870H 10th Gen, NVIDIA GeForce GTX 1650 4GB Graphics, Gaming Laptop(8GB/512GB SSDWindows 10/Gray/2.3 Kg), FX566LH-HN255T',\n",
       " 'Life Digital Laptop 15.6-inch (39.62 cms) (Intel Core i7, 8GB RAM, 512GB SSD, Windows 10), ZED AIR CX7',\n",
       " 'NEXSTGO Primus NX201 NP15N1IN008P 15.6-inch Laptop (Core i7-8550U/8GB/256GBSSD/Windows 10 Pro/Full HD + IR/Finger Print/Integrated Graphics/Thin & Light/1.88KG), Dark Gray',\n",
       " 'Dell 14 (2021) i7-1165G7 2in1 Touch Screen Laptop, 16Gb RAM, 512Gb SSD, 14” (35.56 cms) FHD Display, Win 10 + MSO, Backlit KB + FPR + Active Pen, Silver Metal Color (Inspiron 5410, D560469WIN9S)',\n",
       " 'OMEN 17 Gaming Laptop, NVIDIA GeForce RTX 2070, Intel Core i7-10750H, 16 GB DDR4 RAM, 512 GB PCIe NVMe SSD, 17.3\" 144Hz Full HD, Windows 10 Home, RGB Keyboard (17-cb1080nr, 2020 Model)']"
      ]
     },
     "execution_count": 7,
     "metadata": {},
     "output_type": "execute_result"
    }
   ],
   "source": [
    "Titles_name=[]\n",
    "for i in Title_names[:10]:\n",
    "    Titles_name.append(i.text)\n",
    "Titles_name"
   ]
  },
  {
   "cell_type": "code",
   "execution_count": 15,
   "id": "027257d8",
   "metadata": {},
   "outputs": [
    {
     "data": {
      "text/plain": [
       "[<selenium.webdriver.remote.webelement.WebElement (session=\"e0eb73c61b7c17258dd84c28284039a1\", element=\"024faaaa-7899-4e6d-a708-7e4d31992fa8\")>,\n",
       " <selenium.webdriver.remote.webelement.WebElement (session=\"e0eb73c61b7c17258dd84c28284039a1\", element=\"96d34574-6d95-4929-b29d-1e07095cc821\")>,\n",
       " <selenium.webdriver.remote.webelement.WebElement (session=\"e0eb73c61b7c17258dd84c28284039a1\", element=\"b6190987-a152-45f1-bb4d-cc8fd235f2f5\")>,\n",
       " <selenium.webdriver.remote.webelement.WebElement (session=\"e0eb73c61b7c17258dd84c28284039a1\", element=\"36dc33b6-f5e8-414c-a96d-452abb67943b\")>,\n",
       " <selenium.webdriver.remote.webelement.WebElement (session=\"e0eb73c61b7c17258dd84c28284039a1\", element=\"af188942-4271-42ab-af3b-a0547335aec6\")>,\n",
       " <selenium.webdriver.remote.webelement.WebElement (session=\"e0eb73c61b7c17258dd84c28284039a1\", element=\"b4d3ee98-2a03-44ed-951c-27f56e78bf31\")>,\n",
       " <selenium.webdriver.remote.webelement.WebElement (session=\"e0eb73c61b7c17258dd84c28284039a1\", element=\"e3e8421b-87c8-48ca-9c01-fb5870b515e9\")>,\n",
       " <selenium.webdriver.remote.webelement.WebElement (session=\"e0eb73c61b7c17258dd84c28284039a1\", element=\"ca0a3d5c-4497-4a3a-8c9b-f878fb2faad3\")>,\n",
       " <selenium.webdriver.remote.webelement.WebElement (session=\"e0eb73c61b7c17258dd84c28284039a1\", element=\"83582fe3-0310-4031-996e-56a410437d1f\")>,\n",
       " <selenium.webdriver.remote.webelement.WebElement (session=\"e0eb73c61b7c17258dd84c28284039a1\", element=\"a490a3b3-9bd2-427a-9b04-54e63a037808\")>,\n",
       " <selenium.webdriver.remote.webelement.WebElement (session=\"e0eb73c61b7c17258dd84c28284039a1\", element=\"87dd7bb7-f451-462e-bfd3-2d176e2ef5bd\")>,\n",
       " <selenium.webdriver.remote.webelement.WebElement (session=\"e0eb73c61b7c17258dd84c28284039a1\", element=\"37794c57-7e54-4175-93a9-e114502c9a1f\")>,\n",
       " <selenium.webdriver.remote.webelement.WebElement (session=\"e0eb73c61b7c17258dd84c28284039a1\", element=\"ef6b9566-8143-43bc-a27b-eb0acc44f232\")>,\n",
       " <selenium.webdriver.remote.webelement.WebElement (session=\"e0eb73c61b7c17258dd84c28284039a1\", element=\"fffc2ab2-7048-4ea9-ab9a-5618d3bad556\")>,\n",
       " <selenium.webdriver.remote.webelement.WebElement (session=\"e0eb73c61b7c17258dd84c28284039a1\", element=\"2f9daf2b-eccf-4adf-811d-e4812a657f90\")>,\n",
       " <selenium.webdriver.remote.webelement.WebElement (session=\"e0eb73c61b7c17258dd84c28284039a1\", element=\"264708b7-0523-4aa3-a145-022904efc1e6\")>,\n",
       " <selenium.webdriver.remote.webelement.WebElement (session=\"e0eb73c61b7c17258dd84c28284039a1\", element=\"6238db92-ccfa-42fc-adb3-a81ee80fd92d\")>,\n",
       " <selenium.webdriver.remote.webelement.WebElement (session=\"e0eb73c61b7c17258dd84c28284039a1\", element=\"8da7c1b2-7cec-4b5e-b150-855ec5af342d\")>,\n",
       " <selenium.webdriver.remote.webelement.WebElement (session=\"e0eb73c61b7c17258dd84c28284039a1\", element=\"6fa245ba-936d-4f81-91e6-8f72512f0aa1\")>,\n",
       " <selenium.webdriver.remote.webelement.WebElement (session=\"e0eb73c61b7c17258dd84c28284039a1\", element=\"187f1358-e722-4f9b-9455-39fadc3ca936\")>,\n",
       " <selenium.webdriver.remote.webelement.WebElement (session=\"e0eb73c61b7c17258dd84c28284039a1\", element=\"356cf3aa-53b4-4ec4-b54b-22ace3954a9c\")>,\n",
       " <selenium.webdriver.remote.webelement.WebElement (session=\"e0eb73c61b7c17258dd84c28284039a1\", element=\"b6113b8b-c600-45cc-b263-6750791e22dd\")>,\n",
       " <selenium.webdriver.remote.webelement.WebElement (session=\"e0eb73c61b7c17258dd84c28284039a1\", element=\"971f74b5-4d43-43a5-ae51-980fa32a5d9a\")>,\n",
       " <selenium.webdriver.remote.webelement.WebElement (session=\"e0eb73c61b7c17258dd84c28284039a1\", element=\"4731eab9-ccbf-4ac7-a7a8-bb8f781d719f\")>,\n",
       " <selenium.webdriver.remote.webelement.WebElement (session=\"e0eb73c61b7c17258dd84c28284039a1\", element=\"4af3f4be-a380-447e-b9fa-0b5ee4f65ca3\")>,\n",
       " <selenium.webdriver.remote.webelement.WebElement (session=\"e0eb73c61b7c17258dd84c28284039a1\", element=\"daef2e9f-e656-46f7-927a-58bc607407dc\")>,\n",
       " <selenium.webdriver.remote.webelement.WebElement (session=\"e0eb73c61b7c17258dd84c28284039a1\", element=\"171895b3-2308-4e68-ac6a-a03bf9409d9f\")>,\n",
       " <selenium.webdriver.remote.webelement.WebElement (session=\"e0eb73c61b7c17258dd84c28284039a1\", element=\"9b52df07-2a83-48ff-9e1a-c87bd1ece1b0\")>]"
      ]
     },
     "execution_count": 15,
     "metadata": {},
     "output_type": "execute_result"
    }
   ],
   "source": [
    "Price_list=driver.find_elements_by_xpath(\"//span[@class='a-price-whole']\")\n",
    "Price_list"
   ]
  },
  {
   "cell_type": "code",
   "execution_count": 16,
   "id": "2ab28a3e",
   "metadata": {},
   "outputs": [
    {
     "data": {
      "text/plain": [
       "['1,06,990',\n",
       " '1,74,990',\n",
       " '84,990',\n",
       " '29,990',\n",
       " '59,999',\n",
       " '71,990',\n",
       " '34,990',\n",
       " '56,155',\n",
       " '96,990',\n",
       " '89,990']"
      ]
     },
     "execution_count": 16,
     "metadata": {},
     "output_type": "execute_result"
    }
   ],
   "source": [
    "Price_lists=[]\n",
    "for i in Price_list[:10]:\n",
    "    Price_lists.append(i.text)\n",
    "Price_lists"
   ]
  },
  {
   "cell_type": "code",
   "execution_count": 20,
   "id": "674e2bdc",
   "metadata": {},
   "outputs": [
    {
     "data": {
      "text/plain": [
       "[<selenium.webdriver.remote.webelement.WebElement (session=\"e0eb73c61b7c17258dd84c28284039a1\", element=\"f574f35f-d71a-4148-a9f8-27c1c829b4e0\")>,\n",
       " <selenium.webdriver.remote.webelement.WebElement (session=\"e0eb73c61b7c17258dd84c28284039a1\", element=\"20ed8962-eb9a-4b44-9ee2-553af1acf458\")>,\n",
       " <selenium.webdriver.remote.webelement.WebElement (session=\"e0eb73c61b7c17258dd84c28284039a1\", element=\"a5e1f0e6-73c0-4ad2-b6b2-9cef57cbabe7\")>,\n",
       " <selenium.webdriver.remote.webelement.WebElement (session=\"e0eb73c61b7c17258dd84c28284039a1\", element=\"6bf7e133-d145-42d8-a4a6-2818493f83ed\")>,\n",
       " <selenium.webdriver.remote.webelement.WebElement (session=\"e0eb73c61b7c17258dd84c28284039a1\", element=\"e5f92dae-6775-4254-8423-3cffddd0c571\")>,\n",
       " <selenium.webdriver.remote.webelement.WebElement (session=\"e0eb73c61b7c17258dd84c28284039a1\", element=\"fead1c38-ab83-4294-a985-249640833f94\")>,\n",
       " <selenium.webdriver.remote.webelement.WebElement (session=\"e0eb73c61b7c17258dd84c28284039a1\", element=\"db5e5c7c-b3fb-4e11-b459-50494dac0508\")>,\n",
       " <selenium.webdriver.remote.webelement.WebElement (session=\"e0eb73c61b7c17258dd84c28284039a1\", element=\"0fbd67a4-2532-4f74-8c3a-7e693394c454\")>,\n",
       " <selenium.webdriver.remote.webelement.WebElement (session=\"e0eb73c61b7c17258dd84c28284039a1\", element=\"ad5a21d1-7bc1-480b-90cf-f67d56ee805a\")>,\n",
       " <selenium.webdriver.remote.webelement.WebElement (session=\"e0eb73c61b7c17258dd84c28284039a1\", element=\"995b57b3-aa7d-4e0e-84eb-dbeddf1c24b6\")>,\n",
       " <selenium.webdriver.remote.webelement.WebElement (session=\"e0eb73c61b7c17258dd84c28284039a1\", element=\"98f8df91-3e38-43ac-b180-37bc966288a1\")>,\n",
       " <selenium.webdriver.remote.webelement.WebElement (session=\"e0eb73c61b7c17258dd84c28284039a1\", element=\"e78223ae-eb0e-45dc-bf5a-6a4fa909ff22\")>,\n",
       " <selenium.webdriver.remote.webelement.WebElement (session=\"e0eb73c61b7c17258dd84c28284039a1\", element=\"114fb803-da6e-498c-b86f-ba634c0cef7a\")>,\n",
       " <selenium.webdriver.remote.webelement.WebElement (session=\"e0eb73c61b7c17258dd84c28284039a1\", element=\"638edd62-df90-4b38-a16f-5c9eec6e6fd8\")>,\n",
       " <selenium.webdriver.remote.webelement.WebElement (session=\"e0eb73c61b7c17258dd84c28284039a1\", element=\"cb3d760c-81c4-4e07-ab76-418a40f29b92\")>,\n",
       " <selenium.webdriver.remote.webelement.WebElement (session=\"e0eb73c61b7c17258dd84c28284039a1\", element=\"6eee1d5a-99fd-44ac-80a5-19d88811f0ca\")>,\n",
       " <selenium.webdriver.remote.webelement.WebElement (session=\"e0eb73c61b7c17258dd84c28284039a1\", element=\"e89ae6eb-b52e-4689-8359-dc96972266d9\")>,\n",
       " <selenium.webdriver.remote.webelement.WebElement (session=\"e0eb73c61b7c17258dd84c28284039a1\", element=\"403e6910-0542-41f6-9459-c583152ef4e7\")>,\n",
       " <selenium.webdriver.remote.webelement.WebElement (session=\"e0eb73c61b7c17258dd84c28284039a1\", element=\"a4b53a63-26f0-498b-a827-802eb9d25f1b\")>,\n",
       " <selenium.webdriver.remote.webelement.WebElement (session=\"e0eb73c61b7c17258dd84c28284039a1\", element=\"a642e912-9a66-4e22-b29c-cf3e392771af\")>,\n",
       " <selenium.webdriver.remote.webelement.WebElement (session=\"e0eb73c61b7c17258dd84c28284039a1\", element=\"3519489d-1526-40cb-9e21-38f69856e1e1\")>,\n",
       " <selenium.webdriver.remote.webelement.WebElement (session=\"e0eb73c61b7c17258dd84c28284039a1\", element=\"705f6299-faf7-4987-972c-82c8d8eb0d0c\")>,\n",
       " <selenium.webdriver.remote.webelement.WebElement (session=\"e0eb73c61b7c17258dd84c28284039a1\", element=\"7aca5d48-b3a0-473f-b3a3-461e61b46e10\")>,\n",
       " <selenium.webdriver.remote.webelement.WebElement (session=\"e0eb73c61b7c17258dd84c28284039a1\", element=\"cbfb1b78-09ca-4477-ac68-70f31e101018\")>,\n",
       " <selenium.webdriver.remote.webelement.WebElement (session=\"e0eb73c61b7c17258dd84c28284039a1\", element=\"120c3af0-384f-48c1-834b-3467dbd208e4\")>,\n",
       " <selenium.webdriver.remote.webelement.WebElement (session=\"e0eb73c61b7c17258dd84c28284039a1\", element=\"e3fcacd3-c2f5-48d8-9c4a-c7e77b5bc056\")>]"
      ]
     },
     "execution_count": 20,
     "metadata": {},
     "output_type": "execute_result"
    }
   ],
   "source": [
    "Ratings_tags=driver.find_elements_by_xpath(\"//span[@class='a-icon-alt']\")\n",
    "Ratings_tags"
   ]
  },
  {
   "cell_type": "code",
   "execution_count": 21,
   "id": "5aba68b4",
   "metadata": {},
   "outputs": [
    {
     "data": {
      "text/plain": [
       "['', '', '', '', '', '', '', '', '', '']"
      ]
     },
     "execution_count": 21,
     "metadata": {},
     "output_type": "execute_result"
    }
   ],
   "source": [
    "Rating_list=[]\n",
    "for i in Ratings_tags[:10]:\n",
    "    Rating_list.append(i.text)\n",
    "Rating_list"
   ]
  },
  {
   "cell_type": "code",
   "execution_count": 22,
   "id": "6696662b",
   "metadata": {},
   "outputs": [
    {
     "name": "stdout",
     "output_type": "stream",
     "text": [
      "11 11 11\n"
     ]
    }
   ],
   "source": [
    "print(len('Titles_name'),len('Price_lists'),len('Rating_list'))"
   ]
  },
  {
   "cell_type": "code",
   "execution_count": 23,
   "id": "fadd1c0e",
   "metadata": {},
   "outputs": [],
   "source": [
    "Laptop=pd.DataFrame({})\n",
    "Laptop['Title']=Titles_name\n",
    "Laptop['Price']=Price_lists\n",
    "Laptop['Rating']=Rating_list"
   ]
  },
  {
   "cell_type": "code",
   "execution_count": 24,
   "id": "6563fd30",
   "metadata": {},
   "outputs": [
    {
     "data": {
      "text/html": [
       "<div>\n",
       "<style scoped>\n",
       "    .dataframe tbody tr th:only-of-type {\n",
       "        vertical-align: middle;\n",
       "    }\n",
       "\n",
       "    .dataframe tbody tr th {\n",
       "        vertical-align: top;\n",
       "    }\n",
       "\n",
       "    .dataframe thead th {\n",
       "        text-align: right;\n",
       "    }\n",
       "</style>\n",
       "<table border=\"1\" class=\"dataframe\">\n",
       "  <thead>\n",
       "    <tr style=\"text-align: right;\">\n",
       "      <th></th>\n",
       "      <th>Title</th>\n",
       "      <th>Price</th>\n",
       "      <th>Rating</th>\n",
       "    </tr>\n",
       "  </thead>\n",
       "  <tbody>\n",
       "    <tr>\n",
       "      <th>0</th>\n",
       "      <td>ASUS TUF Dash F15 (2021), 15.6\" (39.62 cms) FH...</td>\n",
       "      <td>1,06,990</td>\n",
       "      <td></td>\n",
       "    </tr>\n",
       "    <tr>\n",
       "      <th>1</th>\n",
       "      <td>Dell Alienware m15(R3) 15.6-inch FHD Gaming La...</td>\n",
       "      <td>1,74,990</td>\n",
       "      <td></td>\n",
       "    </tr>\n",
       "    <tr>\n",
       "      <th>2</th>\n",
       "      <td>HP Pavilion (2021) Thin &amp; Light 11th Gen Core ...</td>\n",
       "      <td>84,990</td>\n",
       "      <td></td>\n",
       "    </tr>\n",
       "    <tr>\n",
       "      <th>3</th>\n",
       "      <td>Life Digital Laptop 15.6-inch (39.62 cms) (Int...</td>\n",
       "      <td>29,990</td>\n",
       "      <td></td>\n",
       "    </tr>\n",
       "    <tr>\n",
       "      <th>4</th>\n",
       "      <td>Mi Notebook Horizon Edition 14 Intel Core i7-1...</td>\n",
       "      <td>59,999</td>\n",
       "      <td></td>\n",
       "    </tr>\n",
       "    <tr>\n",
       "      <th>5</th>\n",
       "      <td>ASUS TUF Gaming F15 (2020), 15.6-inch (39.62 c...</td>\n",
       "      <td>71,990</td>\n",
       "      <td></td>\n",
       "    </tr>\n",
       "    <tr>\n",
       "      <th>6</th>\n",
       "      <td>Life Digital Laptop 15.6-inch (39.62 cms) (Int...</td>\n",
       "      <td>34,990</td>\n",
       "      <td></td>\n",
       "    </tr>\n",
       "    <tr>\n",
       "      <th>7</th>\n",
       "      <td>NEXSTGO Primus NX201 NP15N1IN008P 15.6-inch La...</td>\n",
       "      <td>56,155</td>\n",
       "      <td></td>\n",
       "    </tr>\n",
       "    <tr>\n",
       "      <th>8</th>\n",
       "      <td>Dell 14 (2021) i7-1165G7 2in1 Touch Screen Lap...</td>\n",
       "      <td>96,990</td>\n",
       "      <td></td>\n",
       "    </tr>\n",
       "    <tr>\n",
       "      <th>9</th>\n",
       "      <td>OMEN 17 Gaming Laptop, NVIDIA GeForce RTX 2070...</td>\n",
       "      <td>89,990</td>\n",
       "      <td></td>\n",
       "    </tr>\n",
       "  </tbody>\n",
       "</table>\n",
       "</div>"
      ],
      "text/plain": [
       "                                               Title     Price Rating\n",
       "0  ASUS TUF Dash F15 (2021), 15.6\" (39.62 cms) FH...  1,06,990       \n",
       "1  Dell Alienware m15(R3) 15.6-inch FHD Gaming La...  1,74,990       \n",
       "2  HP Pavilion (2021) Thin & Light 11th Gen Core ...    84,990       \n",
       "3  Life Digital Laptop 15.6-inch (39.62 cms) (Int...    29,990       \n",
       "4  Mi Notebook Horizon Edition 14 Intel Core i7-1...    59,999       \n",
       "5  ASUS TUF Gaming F15 (2020), 15.6-inch (39.62 c...    71,990       \n",
       "6  Life Digital Laptop 15.6-inch (39.62 cms) (Int...    34,990       \n",
       "7  NEXSTGO Primus NX201 NP15N1IN008P 15.6-inch La...    56,155       \n",
       "8  Dell 14 (2021) i7-1165G7 2in1 Touch Screen Lap...    96,990       \n",
       "9  OMEN 17 Gaming Laptop, NVIDIA GeForce RTX 2070...    89,990       "
      ]
     },
     "execution_count": 24,
     "metadata": {},
     "output_type": "execute_result"
    }
   ],
   "source": [
    "Laptop"
   ]
  },
  {
   "cell_type": "code",
   "execution_count": null,
   "id": "f5ae9b0e",
   "metadata": {},
   "outputs": [],
   "source": []
  }
 ],
 "metadata": {
  "kernelspec": {
   "display_name": "Python 3",
   "language": "python",
   "name": "python3"
  },
  "language_info": {
   "codemirror_mode": {
    "name": "ipython",
    "version": 3
   },
   "file_extension": ".py",
   "mimetype": "text/x-python",
   "name": "python",
   "nbconvert_exporter": "python",
   "pygments_lexer": "ipython3",
   "version": "3.8.8"
  }
 },
 "nbformat": 4,
 "nbformat_minor": 5
}
